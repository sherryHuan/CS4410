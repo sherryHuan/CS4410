{
  "nbformat": 4,
  "nbformat_minor": 0,
  "metadata": {
    "colab": {
      "provenance": [],
      "collapsed_sections": [
        "-l9pd5CCqVtD",
        "twE8fkADZfwt",
        "aVMQqH4o9SIh",
        "Q7CSHh8BZ9PY",
        "CMrjlCVLLnRG",
        "JOLM2Jm8MBHy",
        "ONeX_1PhPStS",
        "J7Vm8-h4KTQm",
        "IHHmRaFCLR4c",
        "1frW6LtfL3EE",
        "upncNk7gNd4e"
      ],
      "include_colab_link": true
    },
    "kernelspec": {
      "name": "python3",
      "display_name": "Python 3"
    },
    "language_info": {
      "name": "python"
    }
  },
  "cells": [
    {
      "cell_type": "markdown",
      "metadata": {
        "id": "view-in-github",
        "colab_type": "text"
      },
      "source": [
        "<a href=\"https://colab.research.google.com/github/sherryHuan/CS4410/blob/main/Lab_3_%5BSOLUTIONS%5D.ipynb\" target=\"_parent\"><img src=\"https://colab.research.google.com/assets/colab-badge.svg\" alt=\"Open In Colab\"/></a>"
      ]
    },
    {
      "cell_type": "markdown",
      "source": [
        "# **Lab #3: Review and Titanic Project**\n",
        "---\n",
        "\n",
        "### **Description:**\n",
        "In this lab, you will hone and apply your skills through review and your first official project, particularly working with a famous dataset containing data about the Titanic.\n",
        "\n",
        "<br>\n",
        "\n",
        "### **Lab Structure**\n",
        "\n",
        "**Part 1**: [[OPTIONAL] Exploratory Data Analysis Review](#p1)\n",
        "\n",
        "**Part 2**: [[OPTIONAL] Data Cleaning + Wrangling Review](#p2)\n",
        "\n",
        "**Part 3**: [[OPTIONAL] Data Visualization Review](#p3)\n",
        "\n",
        "**Part 4**: [Titanic Project](#p4)\n",
        "\n",
        "\n",
        "\n",
        "<br>\n",
        "\n",
        "## **Goals**\n",
        "By the end of this lab, you will:\n",
        "* Understand how to engineer features to better represent characteristics of the data.\n",
        "* Know how to use visualizations to study trends in the data.\n",
        "* Understand what role different factors (features) played in the survival of passengers aboard the Titanic.\n",
        "\n",
        "<br>\n",
        "\n",
        "### **Cheat Sheets**\n",
        "* [Data Visualization with matplotlib](https://docs.google.com/document/d/1IA-sgjUvrQYyKlcBxFN-PIsHMEMrixwd6sh9RlMkubQ/edit?usp=drive_link)\n",
        "\n",
        "* [Exploratory Data Analysis with pandas](https://docs.google.com/document/d/1hMsWa7ziMulT0WjoCaqLTkpoqilCO12HlOrVy4-_zwY/edit?usp=drive_link)\n",
        "\n",
        "* [Python Basics](https://docs.google.com/document/d/1jC6zIdBukfEoJ8CesGf_usCtK2P6pJTWe5oxopC49aY/edit?usp=drive_link)\n",
        "\n",
        "<br>\n",
        "\n",
        "**Before starting, run the code below to import all necessary functions and libraries as well as today's datasets.**"
      ],
      "metadata": {
        "id": "mbZXQ3rA3NwL"
      }
    },
    {
      "cell_type": "code",
      "source": [
        "import warnings\n",
        "warnings.filterwarnings('ignore')\n",
        "\n",
        "import pandas as pd\n",
        "import matplotlib.pyplot as plt\n",
        "\n",
        "from sklearn.feature_selection import SelectKBest\n",
        "\n",
        "\n",
        "data = pd.read_csv(\"https://raw.githubusercontent.com/n-sachdeva/titanic/main/train.csv\")"
      ],
      "metadata": {
        "id": "YAvvLhRIoqYp"
      },
      "execution_count": null,
      "outputs": []
    },
    {
      "cell_type": "markdown",
      "source": [
        "<a name=\"p1\"></a>\n",
        "\n",
        "---\n",
        "## **Part 1: [OPTIONAL] Exploratory Data Analysis Review**\n",
        "---\n",
        "\n",
        "\n",
        "**Run the code cell below to create the DataFrame.**"
      ],
      "metadata": {
        "id": "-l9pd5CCqVtD"
      }
    },
    {
      "cell_type": "code",
      "source": [
        "# Create a Pandas dataframe from the dictionary\n",
        "df = pd.DataFrame({'U.S. State': ['California', 'Florida', 'Indiana', 'Texas', 'Pennsylvania'],\n",
        "        'Population (in millions)': [38, 21, 6.5, 28, 13],\n",
        "        'Capitol': ['Sacramento', 'Tallahassee', 'Indianapolis', 'Austin', 'Harrisburg'],\n",
        "        'GDP ($ in billions)': [3700, 1070, 352, 1876, 726]})"
      ],
      "metadata": {
        "id": "iD9_DTVCzRbY"
      },
      "execution_count": null,
      "outputs": []
    },
    {
      "cell_type": "markdown",
      "source": [
        "### **Problem #1.1**\n",
        "\n",
        "What does `.head()` tell you about this DataFrame?"
      ],
      "metadata": {
        "id": "hjbtt13XrE7G"
      }
    },
    {
      "cell_type": "code",
      "source": [],
      "metadata": {
        "id": "_d_m_CVn0t-z"
      },
      "execution_count": null,
      "outputs": []
    },
    {
      "cell_type": "markdown",
      "source": [
        "#### **Solution**"
      ],
      "metadata": {
        "id": "_2BcksNorJGt"
      }
    },
    {
      "cell_type": "code",
      "source": [
        "df.head(3)"
      ],
      "metadata": {
        "colab": {
          "base_uri": "https://localhost:8080/",
          "height": 143
        },
        "id": "u7GLmCyorJZD",
        "outputId": "9d2a644d-eb71-418f-f45a-b8a8c4cb8132"
      },
      "execution_count": null,
      "outputs": [
        {
          "output_type": "execute_result",
          "data": {
            "text/plain": [
              "   U.S. State  Population (in millions)       Capitol  GDP ($ in billions)\n",
              "0  California                      38.0    Sacramento                 3700\n",
              "1     Florida                      21.0   Tallahassee                 1070\n",
              "2     Indiana                       6.5  Indianapolis                  352"
            ],
            "text/html": [
              "\n",
              "  <div id=\"df-1148a4f0-d46f-4e64-a257-adf67dc6b10c\">\n",
              "    <div class=\"colab-df-container\">\n",
              "      <div>\n",
              "<style scoped>\n",
              "    .dataframe tbody tr th:only-of-type {\n",
              "        vertical-align: middle;\n",
              "    }\n",
              "\n",
              "    .dataframe tbody tr th {\n",
              "        vertical-align: top;\n",
              "    }\n",
              "\n",
              "    .dataframe thead th {\n",
              "        text-align: right;\n",
              "    }\n",
              "</style>\n",
              "<table border=\"1\" class=\"dataframe\">\n",
              "  <thead>\n",
              "    <tr style=\"text-align: right;\">\n",
              "      <th></th>\n",
              "      <th>U.S. State</th>\n",
              "      <th>Population (in millions)</th>\n",
              "      <th>Capitol</th>\n",
              "      <th>GDP ($ in billions)</th>\n",
              "    </tr>\n",
              "  </thead>\n",
              "  <tbody>\n",
              "    <tr>\n",
              "      <th>0</th>\n",
              "      <td>California</td>\n",
              "      <td>38.0</td>\n",
              "      <td>Sacramento</td>\n",
              "      <td>3700</td>\n",
              "    </tr>\n",
              "    <tr>\n",
              "      <th>1</th>\n",
              "      <td>Florida</td>\n",
              "      <td>21.0</td>\n",
              "      <td>Tallahassee</td>\n",
              "      <td>1070</td>\n",
              "    </tr>\n",
              "    <tr>\n",
              "      <th>2</th>\n",
              "      <td>Indiana</td>\n",
              "      <td>6.5</td>\n",
              "      <td>Indianapolis</td>\n",
              "      <td>352</td>\n",
              "    </tr>\n",
              "  </tbody>\n",
              "</table>\n",
              "</div>\n",
              "      <button class=\"colab-df-convert\" onclick=\"convertToInteractive('df-1148a4f0-d46f-4e64-a257-adf67dc6b10c')\"\n",
              "              title=\"Convert this dataframe to an interactive table.\"\n",
              "              style=\"display:none;\">\n",
              "        \n",
              "  <svg xmlns=\"http://www.w3.org/2000/svg\" height=\"24px\"viewBox=\"0 0 24 24\"\n",
              "       width=\"24px\">\n",
              "    <path d=\"M0 0h24v24H0V0z\" fill=\"none\"/>\n",
              "    <path d=\"M18.56 5.44l.94 2.06.94-2.06 2.06-.94-2.06-.94-.94-2.06-.94 2.06-2.06.94zm-11 1L8.5 8.5l.94-2.06 2.06-.94-2.06-.94L8.5 2.5l-.94 2.06-2.06.94zm10 10l.94 2.06.94-2.06 2.06-.94-2.06-.94-.94-2.06-.94 2.06-2.06.94z\"/><path d=\"M17.41 7.96l-1.37-1.37c-.4-.4-.92-.59-1.43-.59-.52 0-1.04.2-1.43.59L10.3 9.45l-7.72 7.72c-.78.78-.78 2.05 0 2.83L4 21.41c.39.39.9.59 1.41.59.51 0 1.02-.2 1.41-.59l7.78-7.78 2.81-2.81c.8-.78.8-2.07 0-2.86zM5.41 20L4 18.59l7.72-7.72 1.47 1.35L5.41 20z\"/>\n",
              "  </svg>\n",
              "      </button>\n",
              "      \n",
              "  <style>\n",
              "    .colab-df-container {\n",
              "      display:flex;\n",
              "      flex-wrap:wrap;\n",
              "      gap: 12px;\n",
              "    }\n",
              "\n",
              "    .colab-df-convert {\n",
              "      background-color: #E8F0FE;\n",
              "      border: none;\n",
              "      border-radius: 50%;\n",
              "      cursor: pointer;\n",
              "      display: none;\n",
              "      fill: #1967D2;\n",
              "      height: 32px;\n",
              "      padding: 0 0 0 0;\n",
              "      width: 32px;\n",
              "    }\n",
              "\n",
              "    .colab-df-convert:hover {\n",
              "      background-color: #E2EBFA;\n",
              "      box-shadow: 0px 1px 2px rgba(60, 64, 67, 0.3), 0px 1px 3px 1px rgba(60, 64, 67, 0.15);\n",
              "      fill: #174EA6;\n",
              "    }\n",
              "\n",
              "    [theme=dark] .colab-df-convert {\n",
              "      background-color: #3B4455;\n",
              "      fill: #D2E3FC;\n",
              "    }\n",
              "\n",
              "    [theme=dark] .colab-df-convert:hover {\n",
              "      background-color: #434B5C;\n",
              "      box-shadow: 0px 1px 3px 1px rgba(0, 0, 0, 0.15);\n",
              "      filter: drop-shadow(0px 1px 2px rgba(0, 0, 0, 0.3));\n",
              "      fill: #FFFFFF;\n",
              "    }\n",
              "  </style>\n",
              "\n",
              "      <script>\n",
              "        const buttonEl =\n",
              "          document.querySelector('#df-1148a4f0-d46f-4e64-a257-adf67dc6b10c button.colab-df-convert');\n",
              "        buttonEl.style.display =\n",
              "          google.colab.kernel.accessAllowed ? 'block' : 'none';\n",
              "\n",
              "        async function convertToInteractive(key) {\n",
              "          const element = document.querySelector('#df-1148a4f0-d46f-4e64-a257-adf67dc6b10c');\n",
              "          const dataTable =\n",
              "            await google.colab.kernel.invokeFunction('convertToInteractive',\n",
              "                                                     [key], {});\n",
              "          if (!dataTable) return;\n",
              "\n",
              "          const docLinkHtml = 'Like what you see? Visit the ' +\n",
              "            '<a target=\"_blank\" href=https://colab.research.google.com/notebooks/data_table.ipynb>data table notebook</a>'\n",
              "            + ' to learn more about interactive tables.';\n",
              "          element.innerHTML = '';\n",
              "          dataTable['output_type'] = 'display_data';\n",
              "          await google.colab.output.renderOutput(dataTable, element);\n",
              "          const docLink = document.createElement('div');\n",
              "          docLink.innerHTML = docLinkHtml;\n",
              "          element.appendChild(docLink);\n",
              "        }\n",
              "      </script>\n",
              "    </div>\n",
              "  </div>\n",
              "  "
            ]
          },
          "metadata": {},
          "execution_count": 45
        }
      ]
    },
    {
      "cell_type": "markdown",
      "source": [
        "### **Problem #1.2**\n",
        "\n",
        "What is the datatype of `Population (in millions)`?"
      ],
      "metadata": {
        "id": "_xkLxO4drLIL"
      }
    },
    {
      "cell_type": "code",
      "source": [],
      "metadata": {
        "id": "sn1aSL4ceKOj"
      },
      "execution_count": null,
      "outputs": []
    },
    {
      "cell_type": "markdown",
      "source": [
        "#### **Solution**"
      ],
      "metadata": {
        "id": "HFtNVB9mrJs_"
      }
    },
    {
      "cell_type": "code",
      "source": [
        "# float\n",
        "df.dtypes"
      ],
      "metadata": {
        "id": "Lh2YESCIrKQz"
      },
      "execution_count": null,
      "outputs": []
    },
    {
      "cell_type": "markdown",
      "source": [
        "### **Problem #1.3**\n",
        "\n",
        "What is the average `Population (in millions)` size among the U.S. states in the dataset?"
      ],
      "metadata": {
        "id": "JFzkrUYt04_4"
      }
    },
    {
      "cell_type": "code",
      "source": [],
      "metadata": {
        "id": "J3Qt_0oneJtN"
      },
      "execution_count": null,
      "outputs": []
    },
    {
      "cell_type": "markdown",
      "source": [
        "#### **Solution**"
      ],
      "metadata": {
        "id": "eGn9GtBA1HYN"
      }
    },
    {
      "cell_type": "code",
      "source": [
        "#21.3 million\n",
        "df['Population (in millions)'].mean()\n",
        "\n",
        "#OR\n",
        "\n",
        "df.describe()"
      ],
      "metadata": {
        "id": "K2AhLxF_1xLC"
      },
      "execution_count": null,
      "outputs": []
    },
    {
      "cell_type": "markdown",
      "source": [
        "### **Problem #1.4**\n",
        "\n",
        "Explore rows 4 and 5. What are the U.S. States listed?"
      ],
      "metadata": {
        "id": "pCQRROJm054A"
      }
    },
    {
      "cell_type": "code",
      "source": [],
      "metadata": {
        "id": "mclhR7MJeMto"
      },
      "execution_count": null,
      "outputs": []
    },
    {
      "cell_type": "markdown",
      "source": [
        "#### **Solution**"
      ],
      "metadata": {
        "id": "icUzg8WQ1ICI"
      }
    },
    {
      "cell_type": "code",
      "source": [
        "#Texas and Pennsylvania\n",
        "\n",
        "df.iloc[3:5]"
      ],
      "metadata": {
        "id": "nT4q0GJx2JPG",
        "colab": {
          "base_uri": "https://localhost:8080/",
          "height": 112
        },
        "outputId": "b8719f2a-97b6-4570-be0a-572533db7dc8"
      },
      "execution_count": null,
      "outputs": [
        {
          "output_type": "execute_result",
          "data": {
            "text/plain": [
              "     U.S. State  Population (in millions)     Capitol  GDP ($ in billions)\n",
              "3         Texas                      28.0      Austin                 1876\n",
              "4  Pennsylvania                      13.0  Harrisburg                  726"
            ],
            "text/html": [
              "\n",
              "  <div id=\"df-87de0b98-2b7c-4e4e-8480-5a869f84dce1\">\n",
              "    <div class=\"colab-df-container\">\n",
              "      <div>\n",
              "<style scoped>\n",
              "    .dataframe tbody tr th:only-of-type {\n",
              "        vertical-align: middle;\n",
              "    }\n",
              "\n",
              "    .dataframe tbody tr th {\n",
              "        vertical-align: top;\n",
              "    }\n",
              "\n",
              "    .dataframe thead th {\n",
              "        text-align: right;\n",
              "    }\n",
              "</style>\n",
              "<table border=\"1\" class=\"dataframe\">\n",
              "  <thead>\n",
              "    <tr style=\"text-align: right;\">\n",
              "      <th></th>\n",
              "      <th>U.S. State</th>\n",
              "      <th>Population (in millions)</th>\n",
              "      <th>Capitol</th>\n",
              "      <th>GDP ($ in billions)</th>\n",
              "    </tr>\n",
              "  </thead>\n",
              "  <tbody>\n",
              "    <tr>\n",
              "      <th>3</th>\n",
              "      <td>Texas</td>\n",
              "      <td>28.0</td>\n",
              "      <td>Austin</td>\n",
              "      <td>1876</td>\n",
              "    </tr>\n",
              "    <tr>\n",
              "      <th>4</th>\n",
              "      <td>Pennsylvania</td>\n",
              "      <td>13.0</td>\n",
              "      <td>Harrisburg</td>\n",
              "      <td>726</td>\n",
              "    </tr>\n",
              "  </tbody>\n",
              "</table>\n",
              "</div>\n",
              "      <button class=\"colab-df-convert\" onclick=\"convertToInteractive('df-87de0b98-2b7c-4e4e-8480-5a869f84dce1')\"\n",
              "              title=\"Convert this dataframe to an interactive table.\"\n",
              "              style=\"display:none;\">\n",
              "        \n",
              "  <svg xmlns=\"http://www.w3.org/2000/svg\" height=\"24px\"viewBox=\"0 0 24 24\"\n",
              "       width=\"24px\">\n",
              "    <path d=\"M0 0h24v24H0V0z\" fill=\"none\"/>\n",
              "    <path d=\"M18.56 5.44l.94 2.06.94-2.06 2.06-.94-2.06-.94-.94-2.06-.94 2.06-2.06.94zm-11 1L8.5 8.5l.94-2.06 2.06-.94-2.06-.94L8.5 2.5l-.94 2.06-2.06.94zm10 10l.94 2.06.94-2.06 2.06-.94-2.06-.94-.94-2.06-.94 2.06-2.06.94z\"/><path d=\"M17.41 7.96l-1.37-1.37c-.4-.4-.92-.59-1.43-.59-.52 0-1.04.2-1.43.59L10.3 9.45l-7.72 7.72c-.78.78-.78 2.05 0 2.83L4 21.41c.39.39.9.59 1.41.59.51 0 1.02-.2 1.41-.59l7.78-7.78 2.81-2.81c.8-.78.8-2.07 0-2.86zM5.41 20L4 18.59l7.72-7.72 1.47 1.35L5.41 20z\"/>\n",
              "  </svg>\n",
              "      </button>\n",
              "      \n",
              "  <style>\n",
              "    .colab-df-container {\n",
              "      display:flex;\n",
              "      flex-wrap:wrap;\n",
              "      gap: 12px;\n",
              "    }\n",
              "\n",
              "    .colab-df-convert {\n",
              "      background-color: #E8F0FE;\n",
              "      border: none;\n",
              "      border-radius: 50%;\n",
              "      cursor: pointer;\n",
              "      display: none;\n",
              "      fill: #1967D2;\n",
              "      height: 32px;\n",
              "      padding: 0 0 0 0;\n",
              "      width: 32px;\n",
              "    }\n",
              "\n",
              "    .colab-df-convert:hover {\n",
              "      background-color: #E2EBFA;\n",
              "      box-shadow: 0px 1px 2px rgba(60, 64, 67, 0.3), 0px 1px 3px 1px rgba(60, 64, 67, 0.15);\n",
              "      fill: #174EA6;\n",
              "    }\n",
              "\n",
              "    [theme=dark] .colab-df-convert {\n",
              "      background-color: #3B4455;\n",
              "      fill: #D2E3FC;\n",
              "    }\n",
              "\n",
              "    [theme=dark] .colab-df-convert:hover {\n",
              "      background-color: #434B5C;\n",
              "      box-shadow: 0px 1px 3px 1px rgba(0, 0, 0, 0.15);\n",
              "      filter: drop-shadow(0px 1px 2px rgba(0, 0, 0, 0.3));\n",
              "      fill: #FFFFFF;\n",
              "    }\n",
              "  </style>\n",
              "\n",
              "      <script>\n",
              "        const buttonEl =\n",
              "          document.querySelector('#df-87de0b98-2b7c-4e4e-8480-5a869f84dce1 button.colab-df-convert');\n",
              "        buttonEl.style.display =\n",
              "          google.colab.kernel.accessAllowed ? 'block' : 'none';\n",
              "\n",
              "        async function convertToInteractive(key) {\n",
              "          const element = document.querySelector('#df-87de0b98-2b7c-4e4e-8480-5a869f84dce1');\n",
              "          const dataTable =\n",
              "            await google.colab.kernel.invokeFunction('convertToInteractive',\n",
              "                                                     [key], {});\n",
              "          if (!dataTable) return;\n",
              "\n",
              "          const docLinkHtml = 'Like what you see? Visit the ' +\n",
              "            '<a target=\"_blank\" href=https://colab.research.google.com/notebooks/data_table.ipynb>data table notebook</a>'\n",
              "            + ' to learn more about interactive tables.';\n",
              "          element.innerHTML = '';\n",
              "          dataTable['output_type'] = 'display_data';\n",
              "          await google.colab.output.renderOutput(dataTable, element);\n",
              "          const docLink = document.createElement('div');\n",
              "          docLink.innerHTML = docLinkHtml;\n",
              "          element.appendChild(docLink);\n",
              "        }\n",
              "      </script>\n",
              "    </div>\n",
              "  </div>\n",
              "  "
            ]
          },
          "metadata": {},
          "execution_count": 48
        }
      ]
    },
    {
      "cell_type": "markdown",
      "source": [
        "### **Problem #1.5**\n",
        "\n",
        "Print all of the unique values for `GDP ($ in billions)`."
      ],
      "metadata": {
        "id": "M2ZiYzdX06OR"
      }
    },
    {
      "cell_type": "code",
      "source": [],
      "metadata": {
        "id": "NTMZN8Tw07bU"
      },
      "execution_count": null,
      "outputs": []
    },
    {
      "cell_type": "markdown",
      "source": [
        "#### **Solution**"
      ],
      "metadata": {
        "id": "80UzYDTD1Ijd"
      }
    },
    {
      "cell_type": "code",
      "source": [
        "df['GDP ($ in billions)'].unique()"
      ],
      "metadata": {
        "id": "9j7NqDCn25Uj",
        "colab": {
          "base_uri": "https://localhost:8080/"
        },
        "outputId": "3fa00513-f78b-45e7-fa1f-b9ae37233d99"
      },
      "execution_count": null,
      "outputs": [
        {
          "output_type": "execute_result",
          "data": {
            "text/plain": [
              "array([3700, 1070,  352, 1876,  726])"
            ]
          },
          "metadata": {},
          "execution_count": 49
        }
      ]
    },
    {
      "cell_type": "markdown",
      "source": [
        "### **Problem #1.6**\n",
        "\n",
        "What are the column names in the dataset?"
      ],
      "metadata": {
        "id": "Qf1t26ecTaFO"
      }
    },
    {
      "cell_type": "code",
      "source": [
        "# column names"
      ],
      "metadata": {
        "id": "8CKIqilfUDhr"
      },
      "execution_count": null,
      "outputs": []
    },
    {
      "cell_type": "markdown",
      "source": [
        "#### **Solution**"
      ],
      "metadata": {
        "id": "_sIqdMT1UF3c"
      }
    },
    {
      "cell_type": "code",
      "source": [
        "df.columns"
      ],
      "metadata": {
        "colab": {
          "base_uri": "https://localhost:8080/"
        },
        "id": "E0JyJbMAUGiV",
        "outputId": "356da3db-4012-4406-dccb-7241d9fe304c"
      },
      "execution_count": null,
      "outputs": [
        {
          "output_type": "execute_result",
          "data": {
            "text/plain": [
              "Index(['U.S. State', 'Population (in millions)', 'Capitol',\n",
              "       'GDP ($ in billions)'],\n",
              "      dtype='object')"
            ]
          },
          "metadata": {},
          "execution_count": 51
        }
      ]
    },
    {
      "cell_type": "markdown",
      "source": [
        "### **Problem #1.7**\n",
        "\n",
        "What is the total population across all states?"
      ],
      "metadata": {
        "id": "UJwIu_cuUhFR"
      }
    },
    {
      "cell_type": "code",
      "source": [
        "# total population"
      ],
      "metadata": {
        "id": "8fhwGXkKV0sY"
      },
      "execution_count": null,
      "outputs": []
    },
    {
      "cell_type": "markdown",
      "source": [
        "#### **Solution**"
      ],
      "metadata": {
        "id": "eNpYQW1hV2Pe"
      }
    },
    {
      "cell_type": "code",
      "source": [
        "# 106.5 million\n",
        "df['Population (in millions)'].sum()"
      ],
      "metadata": {
        "colab": {
          "base_uri": "https://localhost:8080/"
        },
        "id": "XKoK9Zi5V2pw",
        "outputId": "573cd391-d768-4725-c995-21f3ccc27573"
      },
      "execution_count": null,
      "outputs": [
        {
          "output_type": "execute_result",
          "data": {
            "text/plain": [
              "106.5"
            ]
          },
          "metadata": {},
          "execution_count": 53
        }
      ]
    },
    {
      "cell_type": "markdown",
      "source": [
        "### **Problem #1.8**\n",
        "\n",
        "Which is the highest GDP in the dataset?"
      ],
      "metadata": {
        "id": "jrKxwNQFUls3"
      }
    },
    {
      "cell_type": "code",
      "source": [
        "# highest GDP"
      ],
      "metadata": {
        "id": "RSmYyAeGWC4X"
      },
      "execution_count": null,
      "outputs": []
    },
    {
      "cell_type": "markdown",
      "source": [
        "#### **Solution**"
      ],
      "metadata": {
        "id": "6iq3mDgBWEHH"
      }
    },
    {
      "cell_type": "code",
      "source": [
        "# 3.7 trillion\n",
        "df['GDP ($ in billions)'].describe()"
      ],
      "metadata": {
        "colab": {
          "base_uri": "https://localhost:8080/"
        },
        "id": "zAeRtdk6WE7a",
        "outputId": "c37bcf66-20cf-4885-d621-b23f94db2ab0"
      },
      "execution_count": null,
      "outputs": [
        {
          "output_type": "execute_result",
          "data": {
            "text/plain": [
              "count       5.000000\n",
              "mean     1544.800000\n",
              "std      1329.776372\n",
              "min       352.000000\n",
              "25%       726.000000\n",
              "50%      1070.000000\n",
              "75%      1876.000000\n",
              "max      3700.000000\n",
              "Name: GDP ($ in billions), dtype: float64"
            ]
          },
          "metadata": {},
          "execution_count": 55
        }
      ]
    },
    {
      "cell_type": "markdown",
      "source": [
        "### **Problem #1.9**\n",
        "\n",
        "What is the average population of the states?"
      ],
      "metadata": {
        "id": "1TSmsuIUUsWo"
      }
    },
    {
      "cell_type": "code",
      "source": [
        "# average population"
      ],
      "metadata": {
        "id": "WBDhjRUPWVvd"
      },
      "execution_count": null,
      "outputs": []
    },
    {
      "cell_type": "markdown",
      "source": [
        "#### **Solution**"
      ],
      "metadata": {
        "id": "UIHuCFsdWXgQ"
      }
    },
    {
      "cell_type": "code",
      "source": [
        "# 21.3 million\n",
        "df['Population (in millions)'].mean()"
      ],
      "metadata": {
        "colab": {
          "base_uri": "https://localhost:8080/"
        },
        "id": "Eeg1tUi5WYH6",
        "outputId": "9691cb32-9bde-4135-eda9-0d35f28ae297"
      },
      "execution_count": null,
      "outputs": [
        {
          "output_type": "execute_result",
          "data": {
            "text/plain": [
              "21.3"
            ]
          },
          "metadata": {},
          "execution_count": 57
        }
      ]
    },
    {
      "cell_type": "markdown",
      "source": [
        "### **Problem #1.10**\n",
        "\n",
        "What is the `Population (in millions)` for the 3rd state in the dataset?"
      ],
      "metadata": {
        "id": "Mt80XQ5MU9yY"
      }
    },
    {
      "cell_type": "code",
      "source": [
        "# population of 3rd state"
      ],
      "metadata": {
        "id": "rSprvOkBWedi"
      },
      "execution_count": null,
      "outputs": []
    },
    {
      "cell_type": "markdown",
      "source": [
        "#### **Solution**"
      ],
      "metadata": {
        "id": "YzAWg5zZWgWG"
      }
    },
    {
      "cell_type": "code",
      "source": [
        "# 6.5 million\n",
        "df.iloc[2]"
      ],
      "metadata": {
        "colab": {
          "base_uri": "https://localhost:8080/"
        },
        "id": "UeOdIhOMWgrm",
        "outputId": "708d87af-ea5a-4d7e-8de2-9ca84289afbc"
      },
      "execution_count": null,
      "outputs": [
        {
          "output_type": "execute_result",
          "data": {
            "text/plain": [
              "U.S. State                       Indiana\n",
              "Population (in millions)             6.5\n",
              "Capitol                     Indianapolis\n",
              "GDP ($ in billions)                  352\n",
              "Name: 2, dtype: object"
            ]
          },
          "metadata": {},
          "execution_count": 59
        }
      ]
    },
    {
      "cell_type": "markdown",
      "source": [
        "### **Problem #1.11**\n",
        "\n",
        "Which states are included in this dataset?"
      ],
      "metadata": {
        "id": "Z-o7V6JfVCR6"
      }
    },
    {
      "cell_type": "code",
      "source": [
        "# list of states"
      ],
      "metadata": {
        "id": "_5G1-bSxWsAr"
      },
      "execution_count": null,
      "outputs": []
    },
    {
      "cell_type": "markdown",
      "source": [
        "#### **Solution**"
      ],
      "metadata": {
        "id": "gxrG951KWs88"
      }
    },
    {
      "cell_type": "code",
      "source": [
        "# California, Florida, Indiana, Texas, Pennsylvania\n",
        "df['U.S. State'].unique()"
      ],
      "metadata": {
        "colab": {
          "base_uri": "https://localhost:8080/"
        },
        "id": "rSVFMB7AWtUC",
        "outputId": "c7c63808-5d8b-42b0-8150-09b5788c0af7"
      },
      "execution_count": null,
      "outputs": [
        {
          "output_type": "execute_result",
          "data": {
            "text/plain": [
              "array(['California', 'Florida', 'Indiana', 'Texas', 'Pennsylvania'],\n",
              "      dtype=object)"
            ]
          },
          "metadata": {},
          "execution_count": 61
        }
      ]
    },
    {
      "cell_type": "markdown",
      "source": [
        "### **Problem #1.12**\n",
        "\n",
        "What is the range of GDP values among the states?"
      ],
      "metadata": {
        "id": "Jb_Ob6OaVSQC"
      }
    },
    {
      "cell_type": "code",
      "source": [
        "# range of GDP values"
      ],
      "metadata": {
        "id": "MxnSgKfGW6YX"
      },
      "execution_count": null,
      "outputs": []
    },
    {
      "cell_type": "markdown",
      "source": [
        "#### **Solution**"
      ],
      "metadata": {
        "id": "U-4EX1ZiW7aL"
      }
    },
    {
      "cell_type": "code",
      "source": [
        "# 352 billion to 3.7 trillion\n",
        "df['GDP ($ in billions)'].describe()"
      ],
      "metadata": {
        "colab": {
          "base_uri": "https://localhost:8080/"
        },
        "id": "JkfghFIVW8UQ",
        "outputId": "6bd0f5ad-15e0-429b-dfef-7fb4279d5ca1"
      },
      "execution_count": null,
      "outputs": [
        {
          "output_type": "execute_result",
          "data": {
            "text/plain": [
              "count       5.000000\n",
              "mean     1544.800000\n",
              "std      1329.776372\n",
              "min       352.000000\n",
              "25%       726.000000\n",
              "50%      1070.000000\n",
              "75%      1876.000000\n",
              "max      3700.000000\n",
              "Name: GDP ($ in billions), dtype: float64"
            ]
          },
          "metadata": {},
          "execution_count": 63
        }
      ]
    },
    {
      "cell_type": "markdown",
      "source": [
        "### **Problem #1.13**\n",
        "\n",
        "How many states have a population greater than 20 million?"
      ],
      "metadata": {
        "id": "Q0Fgq9OcVYeQ"
      }
    },
    {
      "cell_type": "code",
      "source": [
        "# list of states with population greater than 20 million\n"
      ],
      "metadata": {
        "id": "V07n-gn_XEXc"
      },
      "execution_count": null,
      "outputs": []
    },
    {
      "cell_type": "markdown",
      "source": [
        "#### **Solution**"
      ],
      "metadata": {
        "id": "T7muTJinXKDq"
      }
    },
    {
      "cell_type": "code",
      "source": [
        "# California, Florida, Texas\n",
        "df.loc[df['Population (in millions)'] > 20]"
      ],
      "metadata": {
        "colab": {
          "base_uri": "https://localhost:8080/",
          "height": 143
        },
        "id": "GZZN0GrIXKnP",
        "outputId": "c190ee05-c5e1-49b2-ec24-d8d7dd3e42b5"
      },
      "execution_count": null,
      "outputs": [
        {
          "output_type": "execute_result",
          "data": {
            "text/plain": [
              "   U.S. State  Population (in millions)      Capitol  GDP ($ in billions)\n",
              "0  California                      38.0   Sacramento                 3700\n",
              "1     Florida                      21.0  Tallahassee                 1070\n",
              "3       Texas                      28.0       Austin                 1876"
            ],
            "text/html": [
              "\n",
              "  <div id=\"df-25ad87df-466d-4507-aa7e-5dd8a7001955\">\n",
              "    <div class=\"colab-df-container\">\n",
              "      <div>\n",
              "<style scoped>\n",
              "    .dataframe tbody tr th:only-of-type {\n",
              "        vertical-align: middle;\n",
              "    }\n",
              "\n",
              "    .dataframe tbody tr th {\n",
              "        vertical-align: top;\n",
              "    }\n",
              "\n",
              "    .dataframe thead th {\n",
              "        text-align: right;\n",
              "    }\n",
              "</style>\n",
              "<table border=\"1\" class=\"dataframe\">\n",
              "  <thead>\n",
              "    <tr style=\"text-align: right;\">\n",
              "      <th></th>\n",
              "      <th>U.S. State</th>\n",
              "      <th>Population (in millions)</th>\n",
              "      <th>Capitol</th>\n",
              "      <th>GDP ($ in billions)</th>\n",
              "    </tr>\n",
              "  </thead>\n",
              "  <tbody>\n",
              "    <tr>\n",
              "      <th>0</th>\n",
              "      <td>California</td>\n",
              "      <td>38.0</td>\n",
              "      <td>Sacramento</td>\n",
              "      <td>3700</td>\n",
              "    </tr>\n",
              "    <tr>\n",
              "      <th>1</th>\n",
              "      <td>Florida</td>\n",
              "      <td>21.0</td>\n",
              "      <td>Tallahassee</td>\n",
              "      <td>1070</td>\n",
              "    </tr>\n",
              "    <tr>\n",
              "      <th>3</th>\n",
              "      <td>Texas</td>\n",
              "      <td>28.0</td>\n",
              "      <td>Austin</td>\n",
              "      <td>1876</td>\n",
              "    </tr>\n",
              "  </tbody>\n",
              "</table>\n",
              "</div>\n",
              "      <button class=\"colab-df-convert\" onclick=\"convertToInteractive('df-25ad87df-466d-4507-aa7e-5dd8a7001955')\"\n",
              "              title=\"Convert this dataframe to an interactive table.\"\n",
              "              style=\"display:none;\">\n",
              "        \n",
              "  <svg xmlns=\"http://www.w3.org/2000/svg\" height=\"24px\"viewBox=\"0 0 24 24\"\n",
              "       width=\"24px\">\n",
              "    <path d=\"M0 0h24v24H0V0z\" fill=\"none\"/>\n",
              "    <path d=\"M18.56 5.44l.94 2.06.94-2.06 2.06-.94-2.06-.94-.94-2.06-.94 2.06-2.06.94zm-11 1L8.5 8.5l.94-2.06 2.06-.94-2.06-.94L8.5 2.5l-.94 2.06-2.06.94zm10 10l.94 2.06.94-2.06 2.06-.94-2.06-.94-.94-2.06-.94 2.06-2.06.94z\"/><path d=\"M17.41 7.96l-1.37-1.37c-.4-.4-.92-.59-1.43-.59-.52 0-1.04.2-1.43.59L10.3 9.45l-7.72 7.72c-.78.78-.78 2.05 0 2.83L4 21.41c.39.39.9.59 1.41.59.51 0 1.02-.2 1.41-.59l7.78-7.78 2.81-2.81c.8-.78.8-2.07 0-2.86zM5.41 20L4 18.59l7.72-7.72 1.47 1.35L5.41 20z\"/>\n",
              "  </svg>\n",
              "      </button>\n",
              "      \n",
              "  <style>\n",
              "    .colab-df-container {\n",
              "      display:flex;\n",
              "      flex-wrap:wrap;\n",
              "      gap: 12px;\n",
              "    }\n",
              "\n",
              "    .colab-df-convert {\n",
              "      background-color: #E8F0FE;\n",
              "      border: none;\n",
              "      border-radius: 50%;\n",
              "      cursor: pointer;\n",
              "      display: none;\n",
              "      fill: #1967D2;\n",
              "      height: 32px;\n",
              "      padding: 0 0 0 0;\n",
              "      width: 32px;\n",
              "    }\n",
              "\n",
              "    .colab-df-convert:hover {\n",
              "      background-color: #E2EBFA;\n",
              "      box-shadow: 0px 1px 2px rgba(60, 64, 67, 0.3), 0px 1px 3px 1px rgba(60, 64, 67, 0.15);\n",
              "      fill: #174EA6;\n",
              "    }\n",
              "\n",
              "    [theme=dark] .colab-df-convert {\n",
              "      background-color: #3B4455;\n",
              "      fill: #D2E3FC;\n",
              "    }\n",
              "\n",
              "    [theme=dark] .colab-df-convert:hover {\n",
              "      background-color: #434B5C;\n",
              "      box-shadow: 0px 1px 3px 1px rgba(0, 0, 0, 0.15);\n",
              "      filter: drop-shadow(0px 1px 2px rgba(0, 0, 0, 0.3));\n",
              "      fill: #FFFFFF;\n",
              "    }\n",
              "  </style>\n",
              "\n",
              "      <script>\n",
              "        const buttonEl =\n",
              "          document.querySelector('#df-25ad87df-466d-4507-aa7e-5dd8a7001955 button.colab-df-convert');\n",
              "        buttonEl.style.display =\n",
              "          google.colab.kernel.accessAllowed ? 'block' : 'none';\n",
              "\n",
              "        async function convertToInteractive(key) {\n",
              "          const element = document.querySelector('#df-25ad87df-466d-4507-aa7e-5dd8a7001955');\n",
              "          const dataTable =\n",
              "            await google.colab.kernel.invokeFunction('convertToInteractive',\n",
              "                                                     [key], {});\n",
              "          if (!dataTable) return;\n",
              "\n",
              "          const docLinkHtml = 'Like what you see? Visit the ' +\n",
              "            '<a target=\"_blank\" href=https://colab.research.google.com/notebooks/data_table.ipynb>data table notebook</a>'\n",
              "            + ' to learn more about interactive tables.';\n",
              "          element.innerHTML = '';\n",
              "          dataTable['output_type'] = 'display_data';\n",
              "          await google.colab.output.renderOutput(dataTable, element);\n",
              "          const docLink = document.createElement('div');\n",
              "          docLink.innerHTML = docLinkHtml;\n",
              "          element.appendChild(docLink);\n",
              "        }\n",
              "      </script>\n",
              "    </div>\n",
              "  </div>\n",
              "  "
            ]
          },
          "metadata": {},
          "execution_count": 65
        }
      ]
    },
    {
      "cell_type": "markdown",
      "source": [
        "### **Problem #1.14**\n",
        "\n",
        "Explore the last row in the dataset."
      ],
      "metadata": {
        "id": "Drvifp0dVdVt"
      }
    },
    {
      "cell_type": "code",
      "source": [
        "# last row"
      ],
      "metadata": {
        "id": "iRgm79MOXUaK"
      },
      "execution_count": null,
      "outputs": []
    },
    {
      "cell_type": "markdown",
      "source": [
        "#### **Solution**"
      ],
      "metadata": {
        "id": "bEs82AF7XZn5"
      }
    },
    {
      "cell_type": "code",
      "source": [
        "df.iloc[4]"
      ],
      "metadata": {
        "colab": {
          "base_uri": "https://localhost:8080/"
        },
        "id": "hAtCCbV1XZ9A",
        "outputId": "9b514fcb-ee32-4547-c74f-3f8212f85405"
      },
      "execution_count": null,
      "outputs": [
        {
          "output_type": "execute_result",
          "data": {
            "text/plain": [
              "U.S. State                  Pennsylvania\n",
              "Population (in millions)            13.0\n",
              "Capitol                       Harrisburg\n",
              "GDP ($ in billions)                  726\n",
              "Name: 4, dtype: object"
            ]
          },
          "metadata": {},
          "execution_count": 67
        }
      ]
    },
    {
      "cell_type": "markdown",
      "source": [
        "### **[Challenge Question] Problem #1.15**\n",
        "\n",
        "What is the average `GDP per capita` for the states? Divide `GDP per capita` by `Population (in millions)`."
      ],
      "metadata": {
        "id": "zl6J9CXNVqcP"
      }
    },
    {
      "cell_type": "code",
      "source": [
        "# average GDP per capita"
      ],
      "metadata": {
        "id": "wTU7IGcnXyPZ"
      },
      "execution_count": null,
      "outputs": []
    },
    {
      "cell_type": "markdown",
      "source": [
        "#### **Solution**"
      ],
      "metadata": {
        "id": "BwlgajUfXzsD"
      }
    },
    {
      "cell_type": "code",
      "source": [
        "# 65.06\n",
        "df['GDP per capita'] = df['GDP ($ in billions)'] / df['Population (in millions)']\n",
        "df['GDP per capita'].mean()"
      ],
      "metadata": {
        "colab": {
          "base_uri": "https://localhost:8080/"
        },
        "id": "TlsZPCIIX0K8",
        "outputId": "f201f48e-78bc-4998-8808-c87aa143b593"
      },
      "execution_count": null,
      "outputs": [
        {
          "output_type": "execute_result",
          "data": {
            "text/plain": [
              "65.06416040100251"
            ]
          },
          "metadata": {},
          "execution_count": 69
        }
      ]
    },
    {
      "cell_type": "markdown",
      "source": [
        "<a name=\"p2\"></a>\n",
        "\n",
        "---\n",
        "## **Part 2: [OPTIONAL] Data Cleaning + Wrangling Review**\n",
        "---\n",
        "\n",
        "**Run the cell below to load in the dataframe.**"
      ],
      "metadata": {
        "id": "hhcCrOIrb-xz"
      }
    },
    {
      "cell_type": "code",
      "source": [
        "url = \"https://docs.google.com/spreadsheets/d/e/2PACX-1vS9jPkeKJ8QUuAl-fFdg3nJPDP6vx1byvIBl4yW8UZZJ9QEscyALJp1eywKeAg7aAffwdKP63D9osF1/pub?gid=169291584&single=true&output=csv\"\n",
        "movie_df = pd.read_csv(url)\n",
        "\n",
        "movie_df.drop_duplicates(inplace=True)\n",
        "\n",
        "mean_runtime = movie_df['Runtime'].mean()\n",
        "movie_df['Runtime'] = movie_df['Runtime'].fillna(mean_runtime)\n",
        "\n",
        "movie_df = movie_df.rename(columns = {\"Runtime\": \"Runtime (min)\"})\n",
        "movie_df = movie_df.astype({\"Runtime (min)\": \"int64\"})\n",
        "\n",
        "movie_df.head()"
      ],
      "metadata": {
        "id": "z0Am-lQsEAfc",
        "colab": {
          "base_uri": "https://localhost:8080/",
          "height": 739
        },
        "outputId": "c1f791c3-d389-48b4-c707-c355bc50e18d"
      },
      "execution_count": null,
      "outputs": [
        {
          "output_type": "execute_result",
          "data": {
            "text/plain": [
              "               Series_Title  Released_Year  Runtime (min)   Genre  \\\n",
              "0  The Shawshank Redemption           1994            142   Drama   \n",
              "1             The Godfather           1972            175   Crime   \n",
              "2           The Dark Knight           2008            152  Action   \n",
              "3    The Godfather: Part II           1974            202   Crime   \n",
              "4              12 Angry Men           1957             96   Crime   \n",
              "\n",
              "   IMDB_Rating                                           Overview  \\\n",
              "0          9.3  Two imprisoned men bond over a number of years...   \n",
              "1          9.2  An organized crime dynasty's aging patriarch t...   \n",
              "2          9.0  When the menace known as the Joker wreaks havo...   \n",
              "3          9.0  The early life and career of Vito Corleone in ...   \n",
              "4          9.0  A jury holdout attempts to prevent a miscarria...   \n",
              "\n",
              "               Director           Star1           Star2          Star3  \\\n",
              "0        Frank Darabont     Tim Robbins  Morgan Freeman     Bob Gunton   \n",
              "1  Francis Ford Coppola   Marlon Brando       Al Pacino     James Caan   \n",
              "2     Christopher Nolan  Christian Bale    Heath Ledger  Aaron Eckhart   \n",
              "3  Francis Ford Coppola       Al Pacino  Robert De Niro  Robert Duvall   \n",
              "4          Sidney Lumet     Henry Fonda     Lee J. Cobb  Martin Balsam   \n",
              "\n",
              "            Star4  No_of_Votes      Gross  \n",
              "0  William Sadler      2343110   28341469  \n",
              "1    Diane Keaton      1620367  134966411  \n",
              "2   Michael Caine      2303232  534858444  \n",
              "3    Diane Keaton      1129952   57300000  \n",
              "4    John Fiedler       689845    4360000  "
            ],
            "text/html": [
              "\n",
              "\n",
              "  <div id=\"df-fdd63dad-1205-4520-adc5-cd641f77f1f1\">\n",
              "    <div class=\"colab-df-container\">\n",
              "      <div>\n",
              "<style scoped>\n",
              "    .dataframe tbody tr th:only-of-type {\n",
              "        vertical-align: middle;\n",
              "    }\n",
              "\n",
              "    .dataframe tbody tr th {\n",
              "        vertical-align: top;\n",
              "    }\n",
              "\n",
              "    .dataframe thead th {\n",
              "        text-align: right;\n",
              "    }\n",
              "</style>\n",
              "<table border=\"1\" class=\"dataframe\">\n",
              "  <thead>\n",
              "    <tr style=\"text-align: right;\">\n",
              "      <th></th>\n",
              "      <th>Series_Title</th>\n",
              "      <th>Released_Year</th>\n",
              "      <th>Runtime (min)</th>\n",
              "      <th>Genre</th>\n",
              "      <th>IMDB_Rating</th>\n",
              "      <th>Overview</th>\n",
              "      <th>Director</th>\n",
              "      <th>Star1</th>\n",
              "      <th>Star2</th>\n",
              "      <th>Star3</th>\n",
              "      <th>Star4</th>\n",
              "      <th>No_of_Votes</th>\n",
              "      <th>Gross</th>\n",
              "    </tr>\n",
              "  </thead>\n",
              "  <tbody>\n",
              "    <tr>\n",
              "      <th>0</th>\n",
              "      <td>The Shawshank Redemption</td>\n",
              "      <td>1994</td>\n",
              "      <td>142</td>\n",
              "      <td>Drama</td>\n",
              "      <td>9.3</td>\n",
              "      <td>Two imprisoned men bond over a number of years...</td>\n",
              "      <td>Frank Darabont</td>\n",
              "      <td>Tim Robbins</td>\n",
              "      <td>Morgan Freeman</td>\n",
              "      <td>Bob Gunton</td>\n",
              "      <td>William Sadler</td>\n",
              "      <td>2343110</td>\n",
              "      <td>28341469</td>\n",
              "    </tr>\n",
              "    <tr>\n",
              "      <th>1</th>\n",
              "      <td>The Godfather</td>\n",
              "      <td>1972</td>\n",
              "      <td>175</td>\n",
              "      <td>Crime</td>\n",
              "      <td>9.2</td>\n",
              "      <td>An organized crime dynasty's aging patriarch t...</td>\n",
              "      <td>Francis Ford Coppola</td>\n",
              "      <td>Marlon Brando</td>\n",
              "      <td>Al Pacino</td>\n",
              "      <td>James Caan</td>\n",
              "      <td>Diane Keaton</td>\n",
              "      <td>1620367</td>\n",
              "      <td>134966411</td>\n",
              "    </tr>\n",
              "    <tr>\n",
              "      <th>2</th>\n",
              "      <td>The Dark Knight</td>\n",
              "      <td>2008</td>\n",
              "      <td>152</td>\n",
              "      <td>Action</td>\n",
              "      <td>9.0</td>\n",
              "      <td>When the menace known as the Joker wreaks havo...</td>\n",
              "      <td>Christopher Nolan</td>\n",
              "      <td>Christian Bale</td>\n",
              "      <td>Heath Ledger</td>\n",
              "      <td>Aaron Eckhart</td>\n",
              "      <td>Michael Caine</td>\n",
              "      <td>2303232</td>\n",
              "      <td>534858444</td>\n",
              "    </tr>\n",
              "    <tr>\n",
              "      <th>3</th>\n",
              "      <td>The Godfather: Part II</td>\n",
              "      <td>1974</td>\n",
              "      <td>202</td>\n",
              "      <td>Crime</td>\n",
              "      <td>9.0</td>\n",
              "      <td>The early life and career of Vito Corleone in ...</td>\n",
              "      <td>Francis Ford Coppola</td>\n",
              "      <td>Al Pacino</td>\n",
              "      <td>Robert De Niro</td>\n",
              "      <td>Robert Duvall</td>\n",
              "      <td>Diane Keaton</td>\n",
              "      <td>1129952</td>\n",
              "      <td>57300000</td>\n",
              "    </tr>\n",
              "    <tr>\n",
              "      <th>4</th>\n",
              "      <td>12 Angry Men</td>\n",
              "      <td>1957</td>\n",
              "      <td>96</td>\n",
              "      <td>Crime</td>\n",
              "      <td>9.0</td>\n",
              "      <td>A jury holdout attempts to prevent a miscarria...</td>\n",
              "      <td>Sidney Lumet</td>\n",
              "      <td>Henry Fonda</td>\n",
              "      <td>Lee J. Cobb</td>\n",
              "      <td>Martin Balsam</td>\n",
              "      <td>John Fiedler</td>\n",
              "      <td>689845</td>\n",
              "      <td>4360000</td>\n",
              "    </tr>\n",
              "  </tbody>\n",
              "</table>\n",
              "</div>\n",
              "      <button class=\"colab-df-convert\" onclick=\"convertToInteractive('df-fdd63dad-1205-4520-adc5-cd641f77f1f1')\"\n",
              "              title=\"Convert this dataframe to an interactive table.\"\n",
              "              style=\"display:none;\">\n",
              "\n",
              "  <svg xmlns=\"http://www.w3.org/2000/svg\" height=\"24px\"viewBox=\"0 0 24 24\"\n",
              "       width=\"24px\">\n",
              "    <path d=\"M0 0h24v24H0V0z\" fill=\"none\"/>\n",
              "    <path d=\"M18.56 5.44l.94 2.06.94-2.06 2.06-.94-2.06-.94-.94-2.06-.94 2.06-2.06.94zm-11 1L8.5 8.5l.94-2.06 2.06-.94-2.06-.94L8.5 2.5l-.94 2.06-2.06.94zm10 10l.94 2.06.94-2.06 2.06-.94-2.06-.94-.94-2.06-.94 2.06-2.06.94z\"/><path d=\"M17.41 7.96l-1.37-1.37c-.4-.4-.92-.59-1.43-.59-.52 0-1.04.2-1.43.59L10.3 9.45l-7.72 7.72c-.78.78-.78 2.05 0 2.83L4 21.41c.39.39.9.59 1.41.59.51 0 1.02-.2 1.41-.59l7.78-7.78 2.81-2.81c.8-.78.8-2.07 0-2.86zM5.41 20L4 18.59l7.72-7.72 1.47 1.35L5.41 20z\"/>\n",
              "  </svg>\n",
              "      </button>\n",
              "\n",
              "\n",
              "\n",
              "    <div id=\"df-968ec315-e0b4-4d3b-bf45-c6586541d26a\">\n",
              "      <button class=\"colab-df-quickchart\" onclick=\"quickchart('df-968ec315-e0b4-4d3b-bf45-c6586541d26a')\"\n",
              "              title=\"Suggest charts.\"\n",
              "              style=\"display:none;\">\n",
              "\n",
              "<svg xmlns=\"http://www.w3.org/2000/svg\" height=\"24px\"viewBox=\"0 0 24 24\"\n",
              "     width=\"24px\">\n",
              "    <g>\n",
              "        <path d=\"M19 3H5c-1.1 0-2 .9-2 2v14c0 1.1.9 2 2 2h14c1.1 0 2-.9 2-2V5c0-1.1-.9-2-2-2zM9 17H7v-7h2v7zm4 0h-2V7h2v10zm4 0h-2v-4h2v4z\"/>\n",
              "    </g>\n",
              "</svg>\n",
              "      </button>\n",
              "    </div>\n",
              "\n",
              "<style>\n",
              "  .colab-df-quickchart {\n",
              "    background-color: #E8F0FE;\n",
              "    border: none;\n",
              "    border-radius: 50%;\n",
              "    cursor: pointer;\n",
              "    display: none;\n",
              "    fill: #1967D2;\n",
              "    height: 32px;\n",
              "    padding: 0 0 0 0;\n",
              "    width: 32px;\n",
              "  }\n",
              "\n",
              "  .colab-df-quickchart:hover {\n",
              "    background-color: #E2EBFA;\n",
              "    box-shadow: 0px 1px 2px rgba(60, 64, 67, 0.3), 0px 1px 3px 1px rgba(60, 64, 67, 0.15);\n",
              "    fill: #174EA6;\n",
              "  }\n",
              "\n",
              "  [theme=dark] .colab-df-quickchart {\n",
              "    background-color: #3B4455;\n",
              "    fill: #D2E3FC;\n",
              "  }\n",
              "\n",
              "  [theme=dark] .colab-df-quickchart:hover {\n",
              "    background-color: #434B5C;\n",
              "    box-shadow: 0px 1px 3px 1px rgba(0, 0, 0, 0.15);\n",
              "    filter: drop-shadow(0px 1px 2px rgba(0, 0, 0, 0.3));\n",
              "    fill: #FFFFFF;\n",
              "  }\n",
              "</style>\n",
              "\n",
              "    <script>\n",
              "      async function quickchart(key) {\n",
              "        const containerElement = document.querySelector('#' + key);\n",
              "        const charts = await google.colab.kernel.invokeFunction(\n",
              "            'suggestCharts', [key], {});\n",
              "      }\n",
              "    </script>\n",
              "\n",
              "      <script>\n",
              "\n",
              "function displayQuickchartButton(domScope) {\n",
              "  let quickchartButtonEl =\n",
              "    domScope.querySelector('#df-968ec315-e0b4-4d3b-bf45-c6586541d26a button.colab-df-quickchart');\n",
              "  quickchartButtonEl.style.display =\n",
              "    google.colab.kernel.accessAllowed ? 'block' : 'none';\n",
              "}\n",
              "\n",
              "        displayQuickchartButton(document);\n",
              "      </script>\n",
              "      <style>\n",
              "    .colab-df-container {\n",
              "      display:flex;\n",
              "      flex-wrap:wrap;\n",
              "      gap: 12px;\n",
              "    }\n",
              "\n",
              "    .colab-df-convert {\n",
              "      background-color: #E8F0FE;\n",
              "      border: none;\n",
              "      border-radius: 50%;\n",
              "      cursor: pointer;\n",
              "      display: none;\n",
              "      fill: #1967D2;\n",
              "      height: 32px;\n",
              "      padding: 0 0 0 0;\n",
              "      width: 32px;\n",
              "    }\n",
              "\n",
              "    .colab-df-convert:hover {\n",
              "      background-color: #E2EBFA;\n",
              "      box-shadow: 0px 1px 2px rgba(60, 64, 67, 0.3), 0px 1px 3px 1px rgba(60, 64, 67, 0.15);\n",
              "      fill: #174EA6;\n",
              "    }\n",
              "\n",
              "    [theme=dark] .colab-df-convert {\n",
              "      background-color: #3B4455;\n",
              "      fill: #D2E3FC;\n",
              "    }\n",
              "\n",
              "    [theme=dark] .colab-df-convert:hover {\n",
              "      background-color: #434B5C;\n",
              "      box-shadow: 0px 1px 3px 1px rgba(0, 0, 0, 0.15);\n",
              "      filter: drop-shadow(0px 1px 2px rgba(0, 0, 0, 0.3));\n",
              "      fill: #FFFFFF;\n",
              "    }\n",
              "  </style>\n",
              "\n",
              "      <script>\n",
              "        const buttonEl =\n",
              "          document.querySelector('#df-fdd63dad-1205-4520-adc5-cd641f77f1f1 button.colab-df-convert');\n",
              "        buttonEl.style.display =\n",
              "          google.colab.kernel.accessAllowed ? 'block' : 'none';\n",
              "\n",
              "        async function convertToInteractive(key) {\n",
              "          const element = document.querySelector('#df-fdd63dad-1205-4520-adc5-cd641f77f1f1');\n",
              "          const dataTable =\n",
              "            await google.colab.kernel.invokeFunction('convertToInteractive',\n",
              "                                                     [key], {});\n",
              "          if (!dataTable) return;\n",
              "\n",
              "          const docLinkHtml = 'Like what you see? Visit the ' +\n",
              "            '<a target=\"_blank\" href=https://colab.research.google.com/notebooks/data_table.ipynb>data table notebook</a>'\n",
              "            + ' to learn more about interactive tables.';\n",
              "          element.innerHTML = '';\n",
              "          dataTable['output_type'] = 'display_data';\n",
              "          await google.colab.output.renderOutput(dataTable, element);\n",
              "          const docLink = document.createElement('div');\n",
              "          docLink.innerHTML = docLinkHtml;\n",
              "          element.appendChild(docLink);\n",
              "        }\n",
              "      </script>\n",
              "    </div>\n",
              "  </div>\n"
            ]
          },
          "metadata": {},
          "execution_count": 2
        }
      ]
    },
    {
      "cell_type": "markdown",
      "source": [
        "### **Problem #2.1**\n",
        "\n",
        "Assuming 15% of the `No_of_Votes` are online votes, create a new column for `Online Votes`."
      ],
      "metadata": {
        "id": "twE8fkADZfwt"
      }
    },
    {
      "cell_type": "code",
      "source": [],
      "metadata": {
        "id": "40nn0C6EZqaK"
      },
      "execution_count": null,
      "outputs": []
    },
    {
      "cell_type": "markdown",
      "source": [
        "#### **Solution**"
      ],
      "metadata": {
        "id": "DRpJSPW0Zrl9"
      }
    },
    {
      "cell_type": "code",
      "source": [
        "movie_df['Online Votes'] = movie_df['No_of_Votes'] * .15\n",
        "movie_df"
      ],
      "metadata": {
        "colab": {
          "base_uri": "https://localhost:8080/",
          "height": 624
        },
        "id": "6e9F4uKMZuYR",
        "outputId": "f23e39aa-74ef-4d0f-e2af-645689e4c4a1"
      },
      "execution_count": null,
      "outputs": [
        {
          "output_type": "execute_result",
          "data": {
            "text/plain": [
              "                  Series_Title  Released_Year  Runtime (min)   Genre  \\\n",
              "0     The Shawshank Redemption           1994            142   Drama   \n",
              "1                The Godfather           1972            175   Crime   \n",
              "2              The Dark Knight           2008            152  Action   \n",
              "3       The Godfather: Part II           1974            202   Crime   \n",
              "4                 12 Angry Men           1957             96   Crime   \n",
              "...                        ...            ...            ...     ...   \n",
              "1002    Breakfast at Tiffany's           1961            115  Comedy   \n",
              "1003                     Giant           1956            201   Drama   \n",
              "1004     From Here to Eternity           1953            118   Drama   \n",
              "1005                  Lifeboat           1944             97   Drama   \n",
              "1006              The 39 Steps           1935             86   Crime   \n",
              "\n",
              "      IMDB_Rating                                           Overview  \\\n",
              "0             9.3  Two imprisoned men bond over a number of years...   \n",
              "1             9.2  An organized crime dynasty's aging patriarch t...   \n",
              "2             9.0  When the menace known as the Joker wreaks havo...   \n",
              "3             9.0  The early life and career of Vito Corleone in ...   \n",
              "4             9.0  A jury holdout attempts to prevent a miscarria...   \n",
              "...           ...                                                ...   \n",
              "1002          7.6  A young New York socialite becomes interested ...   \n",
              "1003          7.6  Sprawling epic covering the life of a Texas ca...   \n",
              "1004          7.6  In Hawaii in 1941, a private is cruelly punish...   \n",
              "1005          7.6  Several survivors of a torpedoed merchant ship...   \n",
              "1006          7.6  A man in London tries to help a counter-espion...   \n",
              "\n",
              "                  Director              Star1              Star2  \\\n",
              "0           Frank Darabont        Tim Robbins     Morgan Freeman   \n",
              "1     Francis Ford Coppola      Marlon Brando          Al Pacino   \n",
              "2        Christopher Nolan     Christian Bale       Heath Ledger   \n",
              "3     Francis Ford Coppola          Al Pacino     Robert De Niro   \n",
              "4             Sidney Lumet        Henry Fonda        Lee J. Cobb   \n",
              "...                    ...                ...                ...   \n",
              "1002         Blake Edwards     Audrey Hepburn     George Peppard   \n",
              "1003        George Stevens   Elizabeth Taylor        Rock Hudson   \n",
              "1004        Fred Zinnemann     Burt Lancaster   Montgomery Clift   \n",
              "1005      Alfred Hitchcock  Tallulah Bankhead        John Hodiak   \n",
              "1006      Alfred Hitchcock       Robert Donat  Madeleine Carroll   \n",
              "\n",
              "               Star3           Star4  No_of_Votes      Gross  Online Votes  \n",
              "0         Bob Gunton  William Sadler      2343110   28341469     351466.50  \n",
              "1         James Caan    Diane Keaton      1620367  134966411     243055.05  \n",
              "2      Aaron Eckhart   Michael Caine      2303232  534858444     345484.80  \n",
              "3      Robert Duvall    Diane Keaton      1129952   57300000     169492.80  \n",
              "4      Martin Balsam    John Fiedler       689845    4360000     103476.75  \n",
              "...              ...             ...          ...        ...           ...  \n",
              "1002   Patricia Neal     Buddy Ebsen       166544    1378835      24981.60  \n",
              "1003      James Dean   Carroll Baker        34075   13780224       5111.25  \n",
              "1004    Deborah Kerr      Donna Reed        43374   30500000       6506.10  \n",
              "1005   Walter Slezak  William Bendix        26471   13780424       3970.65  \n",
              "1006  Lucie Mannheim  Godfrey Tearle        51853   30500200       7777.95  \n",
              "\n",
              "[1000 rows x 14 columns]"
            ],
            "text/html": [
              "\n",
              "  <div id=\"df-228d9e9d-9a63-411d-9b9c-c815d8ec9480\">\n",
              "    <div class=\"colab-df-container\">\n",
              "      <div>\n",
              "<style scoped>\n",
              "    .dataframe tbody tr th:only-of-type {\n",
              "        vertical-align: middle;\n",
              "    }\n",
              "\n",
              "    .dataframe tbody tr th {\n",
              "        vertical-align: top;\n",
              "    }\n",
              "\n",
              "    .dataframe thead th {\n",
              "        text-align: right;\n",
              "    }\n",
              "</style>\n",
              "<table border=\"1\" class=\"dataframe\">\n",
              "  <thead>\n",
              "    <tr style=\"text-align: right;\">\n",
              "      <th></th>\n",
              "      <th>Series_Title</th>\n",
              "      <th>Released_Year</th>\n",
              "      <th>Runtime (min)</th>\n",
              "      <th>Genre</th>\n",
              "      <th>IMDB_Rating</th>\n",
              "      <th>Overview</th>\n",
              "      <th>Director</th>\n",
              "      <th>Star1</th>\n",
              "      <th>Star2</th>\n",
              "      <th>Star3</th>\n",
              "      <th>Star4</th>\n",
              "      <th>No_of_Votes</th>\n",
              "      <th>Gross</th>\n",
              "      <th>Online Votes</th>\n",
              "    </tr>\n",
              "  </thead>\n",
              "  <tbody>\n",
              "    <tr>\n",
              "      <th>0</th>\n",
              "      <td>The Shawshank Redemption</td>\n",
              "      <td>1994</td>\n",
              "      <td>142</td>\n",
              "      <td>Drama</td>\n",
              "      <td>9.3</td>\n",
              "      <td>Two imprisoned men bond over a number of years...</td>\n",
              "      <td>Frank Darabont</td>\n",
              "      <td>Tim Robbins</td>\n",
              "      <td>Morgan Freeman</td>\n",
              "      <td>Bob Gunton</td>\n",
              "      <td>William Sadler</td>\n",
              "      <td>2343110</td>\n",
              "      <td>28341469</td>\n",
              "      <td>351466.50</td>\n",
              "    </tr>\n",
              "    <tr>\n",
              "      <th>1</th>\n",
              "      <td>The Godfather</td>\n",
              "      <td>1972</td>\n",
              "      <td>175</td>\n",
              "      <td>Crime</td>\n",
              "      <td>9.2</td>\n",
              "      <td>An organized crime dynasty's aging patriarch t...</td>\n",
              "      <td>Francis Ford Coppola</td>\n",
              "      <td>Marlon Brando</td>\n",
              "      <td>Al Pacino</td>\n",
              "      <td>James Caan</td>\n",
              "      <td>Diane Keaton</td>\n",
              "      <td>1620367</td>\n",
              "      <td>134966411</td>\n",
              "      <td>243055.05</td>\n",
              "    </tr>\n",
              "    <tr>\n",
              "      <th>2</th>\n",
              "      <td>The Dark Knight</td>\n",
              "      <td>2008</td>\n",
              "      <td>152</td>\n",
              "      <td>Action</td>\n",
              "      <td>9.0</td>\n",
              "      <td>When the menace known as the Joker wreaks havo...</td>\n",
              "      <td>Christopher Nolan</td>\n",
              "      <td>Christian Bale</td>\n",
              "      <td>Heath Ledger</td>\n",
              "      <td>Aaron Eckhart</td>\n",
              "      <td>Michael Caine</td>\n",
              "      <td>2303232</td>\n",
              "      <td>534858444</td>\n",
              "      <td>345484.80</td>\n",
              "    </tr>\n",
              "    <tr>\n",
              "      <th>3</th>\n",
              "      <td>The Godfather: Part II</td>\n",
              "      <td>1974</td>\n",
              "      <td>202</td>\n",
              "      <td>Crime</td>\n",
              "      <td>9.0</td>\n",
              "      <td>The early life and career of Vito Corleone in ...</td>\n",
              "      <td>Francis Ford Coppola</td>\n",
              "      <td>Al Pacino</td>\n",
              "      <td>Robert De Niro</td>\n",
              "      <td>Robert Duvall</td>\n",
              "      <td>Diane Keaton</td>\n",
              "      <td>1129952</td>\n",
              "      <td>57300000</td>\n",
              "      <td>169492.80</td>\n",
              "    </tr>\n",
              "    <tr>\n",
              "      <th>4</th>\n",
              "      <td>12 Angry Men</td>\n",
              "      <td>1957</td>\n",
              "      <td>96</td>\n",
              "      <td>Crime</td>\n",
              "      <td>9.0</td>\n",
              "      <td>A jury holdout attempts to prevent a miscarria...</td>\n",
              "      <td>Sidney Lumet</td>\n",
              "      <td>Henry Fonda</td>\n",
              "      <td>Lee J. Cobb</td>\n",
              "      <td>Martin Balsam</td>\n",
              "      <td>John Fiedler</td>\n",
              "      <td>689845</td>\n",
              "      <td>4360000</td>\n",
              "      <td>103476.75</td>\n",
              "    </tr>\n",
              "    <tr>\n",
              "      <th>...</th>\n",
              "      <td>...</td>\n",
              "      <td>...</td>\n",
              "      <td>...</td>\n",
              "      <td>...</td>\n",
              "      <td>...</td>\n",
              "      <td>...</td>\n",
              "      <td>...</td>\n",
              "      <td>...</td>\n",
              "      <td>...</td>\n",
              "      <td>...</td>\n",
              "      <td>...</td>\n",
              "      <td>...</td>\n",
              "      <td>...</td>\n",
              "      <td>...</td>\n",
              "    </tr>\n",
              "    <tr>\n",
              "      <th>1002</th>\n",
              "      <td>Breakfast at Tiffany's</td>\n",
              "      <td>1961</td>\n",
              "      <td>115</td>\n",
              "      <td>Comedy</td>\n",
              "      <td>7.6</td>\n",
              "      <td>A young New York socialite becomes interested ...</td>\n",
              "      <td>Blake Edwards</td>\n",
              "      <td>Audrey Hepburn</td>\n",
              "      <td>George Peppard</td>\n",
              "      <td>Patricia Neal</td>\n",
              "      <td>Buddy Ebsen</td>\n",
              "      <td>166544</td>\n",
              "      <td>1378835</td>\n",
              "      <td>24981.60</td>\n",
              "    </tr>\n",
              "    <tr>\n",
              "      <th>1003</th>\n",
              "      <td>Giant</td>\n",
              "      <td>1956</td>\n",
              "      <td>201</td>\n",
              "      <td>Drama</td>\n",
              "      <td>7.6</td>\n",
              "      <td>Sprawling epic covering the life of a Texas ca...</td>\n",
              "      <td>George Stevens</td>\n",
              "      <td>Elizabeth Taylor</td>\n",
              "      <td>Rock Hudson</td>\n",
              "      <td>James Dean</td>\n",
              "      <td>Carroll Baker</td>\n",
              "      <td>34075</td>\n",
              "      <td>13780224</td>\n",
              "      <td>5111.25</td>\n",
              "    </tr>\n",
              "    <tr>\n",
              "      <th>1004</th>\n",
              "      <td>From Here to Eternity</td>\n",
              "      <td>1953</td>\n",
              "      <td>118</td>\n",
              "      <td>Drama</td>\n",
              "      <td>7.6</td>\n",
              "      <td>In Hawaii in 1941, a private is cruelly punish...</td>\n",
              "      <td>Fred Zinnemann</td>\n",
              "      <td>Burt Lancaster</td>\n",
              "      <td>Montgomery Clift</td>\n",
              "      <td>Deborah Kerr</td>\n",
              "      <td>Donna Reed</td>\n",
              "      <td>43374</td>\n",
              "      <td>30500000</td>\n",
              "      <td>6506.10</td>\n",
              "    </tr>\n",
              "    <tr>\n",
              "      <th>1005</th>\n",
              "      <td>Lifeboat</td>\n",
              "      <td>1944</td>\n",
              "      <td>97</td>\n",
              "      <td>Drama</td>\n",
              "      <td>7.6</td>\n",
              "      <td>Several survivors of a torpedoed merchant ship...</td>\n",
              "      <td>Alfred Hitchcock</td>\n",
              "      <td>Tallulah Bankhead</td>\n",
              "      <td>John Hodiak</td>\n",
              "      <td>Walter Slezak</td>\n",
              "      <td>William Bendix</td>\n",
              "      <td>26471</td>\n",
              "      <td>13780424</td>\n",
              "      <td>3970.65</td>\n",
              "    </tr>\n",
              "    <tr>\n",
              "      <th>1006</th>\n",
              "      <td>The 39 Steps</td>\n",
              "      <td>1935</td>\n",
              "      <td>86</td>\n",
              "      <td>Crime</td>\n",
              "      <td>7.6</td>\n",
              "      <td>A man in London tries to help a counter-espion...</td>\n",
              "      <td>Alfred Hitchcock</td>\n",
              "      <td>Robert Donat</td>\n",
              "      <td>Madeleine Carroll</td>\n",
              "      <td>Lucie Mannheim</td>\n",
              "      <td>Godfrey Tearle</td>\n",
              "      <td>51853</td>\n",
              "      <td>30500200</td>\n",
              "      <td>7777.95</td>\n",
              "    </tr>\n",
              "  </tbody>\n",
              "</table>\n",
              "<p>1000 rows × 14 columns</p>\n",
              "</div>\n",
              "      <button class=\"colab-df-convert\" onclick=\"convertToInteractive('df-228d9e9d-9a63-411d-9b9c-c815d8ec9480')\"\n",
              "              title=\"Convert this dataframe to an interactive table.\"\n",
              "              style=\"display:none;\">\n",
              "        \n",
              "  <svg xmlns=\"http://www.w3.org/2000/svg\" height=\"24px\"viewBox=\"0 0 24 24\"\n",
              "       width=\"24px\">\n",
              "    <path d=\"M0 0h24v24H0V0z\" fill=\"none\"/>\n",
              "    <path d=\"M18.56 5.44l.94 2.06.94-2.06 2.06-.94-2.06-.94-.94-2.06-.94 2.06-2.06.94zm-11 1L8.5 8.5l.94-2.06 2.06-.94-2.06-.94L8.5 2.5l-.94 2.06-2.06.94zm10 10l.94 2.06.94-2.06 2.06-.94-2.06-.94-.94-2.06-.94 2.06-2.06.94z\"/><path d=\"M17.41 7.96l-1.37-1.37c-.4-.4-.92-.59-1.43-.59-.52 0-1.04.2-1.43.59L10.3 9.45l-7.72 7.72c-.78.78-.78 2.05 0 2.83L4 21.41c.39.39.9.59 1.41.59.51 0 1.02-.2 1.41-.59l7.78-7.78 2.81-2.81c.8-.78.8-2.07 0-2.86zM5.41 20L4 18.59l7.72-7.72 1.47 1.35L5.41 20z\"/>\n",
              "  </svg>\n",
              "      </button>\n",
              "      \n",
              "  <style>\n",
              "    .colab-df-container {\n",
              "      display:flex;\n",
              "      flex-wrap:wrap;\n",
              "      gap: 12px;\n",
              "    }\n",
              "\n",
              "    .colab-df-convert {\n",
              "      background-color: #E8F0FE;\n",
              "      border: none;\n",
              "      border-radius: 50%;\n",
              "      cursor: pointer;\n",
              "      display: none;\n",
              "      fill: #1967D2;\n",
              "      height: 32px;\n",
              "      padding: 0 0 0 0;\n",
              "      width: 32px;\n",
              "    }\n",
              "\n",
              "    .colab-df-convert:hover {\n",
              "      background-color: #E2EBFA;\n",
              "      box-shadow: 0px 1px 2px rgba(60, 64, 67, 0.3), 0px 1px 3px 1px rgba(60, 64, 67, 0.15);\n",
              "      fill: #174EA6;\n",
              "    }\n",
              "\n",
              "    [theme=dark] .colab-df-convert {\n",
              "      background-color: #3B4455;\n",
              "      fill: #D2E3FC;\n",
              "    }\n",
              "\n",
              "    [theme=dark] .colab-df-convert:hover {\n",
              "      background-color: #434B5C;\n",
              "      box-shadow: 0px 1px 3px 1px rgba(0, 0, 0, 0.15);\n",
              "      filter: drop-shadow(0px 1px 2px rgba(0, 0, 0, 0.3));\n",
              "      fill: #FFFFFF;\n",
              "    }\n",
              "  </style>\n",
              "\n",
              "      <script>\n",
              "        const buttonEl =\n",
              "          document.querySelector('#df-228d9e9d-9a63-411d-9b9c-c815d8ec9480 button.colab-df-convert');\n",
              "        buttonEl.style.display =\n",
              "          google.colab.kernel.accessAllowed ? 'block' : 'none';\n",
              "\n",
              "        async function convertToInteractive(key) {\n",
              "          const element = document.querySelector('#df-228d9e9d-9a63-411d-9b9c-c815d8ec9480');\n",
              "          const dataTable =\n",
              "            await google.colab.kernel.invokeFunction('convertToInteractive',\n",
              "                                                     [key], {});\n",
              "          if (!dataTable) return;\n",
              "\n",
              "          const docLinkHtml = 'Like what you see? Visit the ' +\n",
              "            '<a target=\"_blank\" href=https://colab.research.google.com/notebooks/data_table.ipynb>data table notebook</a>'\n",
              "            + ' to learn more about interactive tables.';\n",
              "          element.innerHTML = '';\n",
              "          dataTable['output_type'] = 'display_data';\n",
              "          await google.colab.output.renderOutput(dataTable, element);\n",
              "          const docLink = document.createElement('div');\n",
              "          docLink.innerHTML = docLinkHtml;\n",
              "          element.appendChild(docLink);\n",
              "        }\n",
              "      </script>\n",
              "    </div>\n",
              "  </div>\n",
              "  "
            ]
          },
          "metadata": {},
          "execution_count": 6
        }
      ]
    },
    {
      "cell_type": "markdown",
      "source": [
        "### **Problem #2.2**\n",
        "\n",
        "\n",
        "Create a new feature called `Runtime (hr)` that converts `Runtime (min)` to hours by dividing that data by 60."
      ],
      "metadata": {
        "id": "aVMQqH4o9SIh"
      }
    },
    {
      "cell_type": "code",
      "source": [
        "movie_df['Runtime (hr)'] = # COMPLETE THIS LINE"
      ],
      "metadata": {
        "id": "4GuYgii4SgMW"
      },
      "execution_count": null,
      "outputs": []
    },
    {
      "cell_type": "markdown",
      "source": [
        "#### **Solution**"
      ],
      "metadata": {
        "id": "nd2csfOY9SIh"
      }
    },
    {
      "cell_type": "code",
      "source": [
        "movie_df['Runtime (hr)'] = movie_df['Runtime (min)'] / 60"
      ],
      "metadata": {
        "id": "h1CCszgg-NCq"
      },
      "execution_count": null,
      "outputs": []
    },
    {
      "cell_type": "markdown",
      "source": [
        "### **Problem #2.3**\n",
        "\n",
        "Create a new feature called `Dollar_Per_Hour` that stores the result of dividing `Gross` by `Runtime (hr)`."
      ],
      "metadata": {
        "id": "Q7CSHh8BZ9PY"
      }
    },
    {
      "cell_type": "code",
      "source": [
        "# COMPLETE THIS CODE"
      ],
      "metadata": {
        "id": "HLSXLnmCAGOh"
      },
      "execution_count": null,
      "outputs": []
    },
    {
      "cell_type": "markdown",
      "source": [
        "#### **Solution**"
      ],
      "metadata": {
        "id": "xS0M9C0BAGOi"
      }
    },
    {
      "cell_type": "code",
      "source": [
        "movie_df['Dollar_Per_Hour'] = movie_df['Gross'] / movie_df['Runtime (hr)']"
      ],
      "metadata": {
        "id": "btLdaF1PAGOi"
      },
      "execution_count": null,
      "outputs": []
    },
    {
      "cell_type": "markdown",
      "source": [
        "### **Problem #2.4**\n",
        "\n",
        "Remove the `Director` column.\n",
        "\n"
      ],
      "metadata": {
        "id": "CMrjlCVLLnRG"
      }
    },
    {
      "cell_type": "code",
      "source": [],
      "metadata": {
        "id": "1jX7f6yRLsGs"
      },
      "execution_count": null,
      "outputs": []
    },
    {
      "cell_type": "markdown",
      "source": [
        "#### **Solution**"
      ],
      "metadata": {
        "id": "Xkd6CNOeLsiO"
      }
    },
    {
      "cell_type": "code",
      "source": [
        "movie_df.drop('Director', axis = 1)"
      ],
      "metadata": {
        "id": "jul6zlw_Lud6"
      },
      "execution_count": null,
      "outputs": []
    },
    {
      "cell_type": "markdown",
      "source": [
        "### **Problem #2.5**\n",
        "\n",
        "Create a new feature `IMDB Rating out of 100` that multiplies `IMDB_Rating` by 10."
      ],
      "metadata": {
        "id": "JOLM2Jm8MBHy"
      }
    },
    {
      "cell_type": "code",
      "source": [],
      "metadata": {
        "id": "JtZAmlsNMZdD"
      },
      "execution_count": null,
      "outputs": []
    },
    {
      "cell_type": "markdown",
      "source": [
        "#### **Solution**"
      ],
      "metadata": {
        "id": "q4HhHiYBMaMt"
      }
    },
    {
      "cell_type": "code",
      "source": [
        "movie_df['IMDB Rating out of 100'] = movie_df['IMDB_Rating'] * 10\n",
        "movie_df.head()"
      ],
      "metadata": {
        "id": "Xa_p9NUcMdKg"
      },
      "execution_count": null,
      "outputs": []
    },
    {
      "cell_type": "markdown",
      "source": [
        "### **Problem #2.6**\n",
        "\n",
        "Create a new feature `Age` that subtracts the `Released_Year` from the current year."
      ],
      "metadata": {
        "id": "ONeX_1PhPStS"
      }
    },
    {
      "cell_type": "code",
      "source": [],
      "metadata": {
        "id": "mg5J7vaaPStp"
      },
      "execution_count": null,
      "outputs": []
    },
    {
      "cell_type": "markdown",
      "source": [
        "#### **Solution**"
      ],
      "metadata": {
        "id": "m_hASZENPStq"
      }
    },
    {
      "cell_type": "code",
      "source": [
        "movie_df['Age'] = 2023 - movie_df['Released_Year']\n",
        "movie_df.head()"
      ],
      "metadata": {
        "id": "J8hb0uuhPStq"
      },
      "execution_count": null,
      "outputs": []
    },
    {
      "cell_type": "markdown",
      "source": [
        "### **Problem #2.7**\n",
        "\n",
        "Drop rows with **any** missing data. **HINT:** Run the **.shape** attribute before and after dropping any rows so you can easily determine if any rows were dropped."
      ],
      "metadata": {
        "id": "J7Vm8-h4KTQm"
      }
    },
    {
      "cell_type": "code",
      "source": [],
      "metadata": {
        "id": "UyRwa6o1KxXt"
      },
      "execution_count": null,
      "outputs": []
    },
    {
      "cell_type": "markdown",
      "source": [
        "#### **Solution**"
      ],
      "metadata": {
        "id": "loJhHkGmK2iH"
      }
    },
    {
      "cell_type": "code",
      "source": [
        "# 1000 rows before/after null rows are dropped, no rows were missing any data\n",
        "movie_df.shape\n",
        "\n",
        "movie_df.dropna(axis = 0, how = 'any')"
      ],
      "metadata": {
        "id": "uPu-l2J9K36b"
      },
      "execution_count": null,
      "outputs": []
    },
    {
      "cell_type": "markdown",
      "source": [
        "### **Problem #2.8**\n",
        "\n",
        "Drop the `Overview` column."
      ],
      "metadata": {
        "id": "IHHmRaFCLR4c"
      }
    },
    {
      "cell_type": "code",
      "source": [],
      "metadata": {
        "id": "mTSZUEsNLR4o"
      },
      "execution_count": null,
      "outputs": []
    },
    {
      "cell_type": "markdown",
      "source": [
        "#### **Solution**"
      ],
      "metadata": {
        "id": "4CK97hY8LR4o"
      }
    },
    {
      "cell_type": "code",
      "source": [
        "movie_df.drop(columns = 'Overview')"
      ],
      "metadata": {
        "colab": {
          "base_uri": "https://localhost:8080/",
          "height": 713
        },
        "id": "pVWfPSE7LR4o",
        "outputId": "d4f8bd93-2a55-43d9-d5ea-e3e3dd7f4ae1"
      },
      "execution_count": null,
      "outputs": [
        {
          "output_type": "execute_result",
          "data": {
            "text/plain": [
              "                  Series_Title  Released_Year  Runtime (min)   Genre  \\\n",
              "0     The Shawshank Redemption           1994            142   Drama   \n",
              "1                The Godfather           1972            175   Crime   \n",
              "2              The Dark Knight           2008            152  Action   \n",
              "3       The Godfather: Part II           1974            202   Crime   \n",
              "4                 12 Angry Men           1957             96   Crime   \n",
              "...                        ...            ...            ...     ...   \n",
              "1002    Breakfast at Tiffany's           1961            115  Comedy   \n",
              "1003                     Giant           1956            201   Drama   \n",
              "1004     From Here to Eternity           1953            118   Drama   \n",
              "1005                  Lifeboat           1944             97   Drama   \n",
              "1006              The 39 Steps           1935             86   Crime   \n",
              "\n",
              "      IMDB_Rating              Director              Star1              Star2  \\\n",
              "0             9.3        Frank Darabont        Tim Robbins     Morgan Freeman   \n",
              "1             9.2  Francis Ford Coppola      Marlon Brando          Al Pacino   \n",
              "2             9.0     Christopher Nolan     Christian Bale       Heath Ledger   \n",
              "3             9.0  Francis Ford Coppola          Al Pacino     Robert De Niro   \n",
              "4             9.0          Sidney Lumet        Henry Fonda        Lee J. Cobb   \n",
              "...           ...                   ...                ...                ...   \n",
              "1002          7.6         Blake Edwards     Audrey Hepburn     George Peppard   \n",
              "1003          7.6        George Stevens   Elizabeth Taylor        Rock Hudson   \n",
              "1004          7.6        Fred Zinnemann     Burt Lancaster   Montgomery Clift   \n",
              "1005          7.6      Alfred Hitchcock  Tallulah Bankhead        John Hodiak   \n",
              "1006          7.6      Alfred Hitchcock       Robert Donat  Madeleine Carroll   \n",
              "\n",
              "               Star3           Star4  No_of_Votes      Gross  \n",
              "0         Bob Gunton  William Sadler      2343110   28341469  \n",
              "1         James Caan    Diane Keaton      1620367  134966411  \n",
              "2      Aaron Eckhart   Michael Caine      2303232  534858444  \n",
              "3      Robert Duvall    Diane Keaton      1129952   57300000  \n",
              "4      Martin Balsam    John Fiedler       689845    4360000  \n",
              "...              ...             ...          ...        ...  \n",
              "1002   Patricia Neal     Buddy Ebsen       166544    1378835  \n",
              "1003      James Dean   Carroll Baker        34075   13780224  \n",
              "1004    Deborah Kerr      Donna Reed        43374   30500000  \n",
              "1005   Walter Slezak  William Bendix        26471   13780424  \n",
              "1006  Lucie Mannheim  Godfrey Tearle        51853   30500200  \n",
              "\n",
              "[1000 rows x 12 columns]"
            ],
            "text/html": [
              "\n",
              "\n",
              "  <div id=\"df-c3f21426-b8c8-4f5e-afa4-1b0ae752f608\">\n",
              "    <div class=\"colab-df-container\">\n",
              "      <div>\n",
              "<style scoped>\n",
              "    .dataframe tbody tr th:only-of-type {\n",
              "        vertical-align: middle;\n",
              "    }\n",
              "\n",
              "    .dataframe tbody tr th {\n",
              "        vertical-align: top;\n",
              "    }\n",
              "\n",
              "    .dataframe thead th {\n",
              "        text-align: right;\n",
              "    }\n",
              "</style>\n",
              "<table border=\"1\" class=\"dataframe\">\n",
              "  <thead>\n",
              "    <tr style=\"text-align: right;\">\n",
              "      <th></th>\n",
              "      <th>Series_Title</th>\n",
              "      <th>Released_Year</th>\n",
              "      <th>Runtime (min)</th>\n",
              "      <th>Genre</th>\n",
              "      <th>IMDB_Rating</th>\n",
              "      <th>Director</th>\n",
              "      <th>Star1</th>\n",
              "      <th>Star2</th>\n",
              "      <th>Star3</th>\n",
              "      <th>Star4</th>\n",
              "      <th>No_of_Votes</th>\n",
              "      <th>Gross</th>\n",
              "    </tr>\n",
              "  </thead>\n",
              "  <tbody>\n",
              "    <tr>\n",
              "      <th>0</th>\n",
              "      <td>The Shawshank Redemption</td>\n",
              "      <td>1994</td>\n",
              "      <td>142</td>\n",
              "      <td>Drama</td>\n",
              "      <td>9.3</td>\n",
              "      <td>Frank Darabont</td>\n",
              "      <td>Tim Robbins</td>\n",
              "      <td>Morgan Freeman</td>\n",
              "      <td>Bob Gunton</td>\n",
              "      <td>William Sadler</td>\n",
              "      <td>2343110</td>\n",
              "      <td>28341469</td>\n",
              "    </tr>\n",
              "    <tr>\n",
              "      <th>1</th>\n",
              "      <td>The Godfather</td>\n",
              "      <td>1972</td>\n",
              "      <td>175</td>\n",
              "      <td>Crime</td>\n",
              "      <td>9.2</td>\n",
              "      <td>Francis Ford Coppola</td>\n",
              "      <td>Marlon Brando</td>\n",
              "      <td>Al Pacino</td>\n",
              "      <td>James Caan</td>\n",
              "      <td>Diane Keaton</td>\n",
              "      <td>1620367</td>\n",
              "      <td>134966411</td>\n",
              "    </tr>\n",
              "    <tr>\n",
              "      <th>2</th>\n",
              "      <td>The Dark Knight</td>\n",
              "      <td>2008</td>\n",
              "      <td>152</td>\n",
              "      <td>Action</td>\n",
              "      <td>9.0</td>\n",
              "      <td>Christopher Nolan</td>\n",
              "      <td>Christian Bale</td>\n",
              "      <td>Heath Ledger</td>\n",
              "      <td>Aaron Eckhart</td>\n",
              "      <td>Michael Caine</td>\n",
              "      <td>2303232</td>\n",
              "      <td>534858444</td>\n",
              "    </tr>\n",
              "    <tr>\n",
              "      <th>3</th>\n",
              "      <td>The Godfather: Part II</td>\n",
              "      <td>1974</td>\n",
              "      <td>202</td>\n",
              "      <td>Crime</td>\n",
              "      <td>9.0</td>\n",
              "      <td>Francis Ford Coppola</td>\n",
              "      <td>Al Pacino</td>\n",
              "      <td>Robert De Niro</td>\n",
              "      <td>Robert Duvall</td>\n",
              "      <td>Diane Keaton</td>\n",
              "      <td>1129952</td>\n",
              "      <td>57300000</td>\n",
              "    </tr>\n",
              "    <tr>\n",
              "      <th>4</th>\n",
              "      <td>12 Angry Men</td>\n",
              "      <td>1957</td>\n",
              "      <td>96</td>\n",
              "      <td>Crime</td>\n",
              "      <td>9.0</td>\n",
              "      <td>Sidney Lumet</td>\n",
              "      <td>Henry Fonda</td>\n",
              "      <td>Lee J. Cobb</td>\n",
              "      <td>Martin Balsam</td>\n",
              "      <td>John Fiedler</td>\n",
              "      <td>689845</td>\n",
              "      <td>4360000</td>\n",
              "    </tr>\n",
              "    <tr>\n",
              "      <th>...</th>\n",
              "      <td>...</td>\n",
              "      <td>...</td>\n",
              "      <td>...</td>\n",
              "      <td>...</td>\n",
              "      <td>...</td>\n",
              "      <td>...</td>\n",
              "      <td>...</td>\n",
              "      <td>...</td>\n",
              "      <td>...</td>\n",
              "      <td>...</td>\n",
              "      <td>...</td>\n",
              "      <td>...</td>\n",
              "    </tr>\n",
              "    <tr>\n",
              "      <th>1002</th>\n",
              "      <td>Breakfast at Tiffany's</td>\n",
              "      <td>1961</td>\n",
              "      <td>115</td>\n",
              "      <td>Comedy</td>\n",
              "      <td>7.6</td>\n",
              "      <td>Blake Edwards</td>\n",
              "      <td>Audrey Hepburn</td>\n",
              "      <td>George Peppard</td>\n",
              "      <td>Patricia Neal</td>\n",
              "      <td>Buddy Ebsen</td>\n",
              "      <td>166544</td>\n",
              "      <td>1378835</td>\n",
              "    </tr>\n",
              "    <tr>\n",
              "      <th>1003</th>\n",
              "      <td>Giant</td>\n",
              "      <td>1956</td>\n",
              "      <td>201</td>\n",
              "      <td>Drama</td>\n",
              "      <td>7.6</td>\n",
              "      <td>George Stevens</td>\n",
              "      <td>Elizabeth Taylor</td>\n",
              "      <td>Rock Hudson</td>\n",
              "      <td>James Dean</td>\n",
              "      <td>Carroll Baker</td>\n",
              "      <td>34075</td>\n",
              "      <td>13780224</td>\n",
              "    </tr>\n",
              "    <tr>\n",
              "      <th>1004</th>\n",
              "      <td>From Here to Eternity</td>\n",
              "      <td>1953</td>\n",
              "      <td>118</td>\n",
              "      <td>Drama</td>\n",
              "      <td>7.6</td>\n",
              "      <td>Fred Zinnemann</td>\n",
              "      <td>Burt Lancaster</td>\n",
              "      <td>Montgomery Clift</td>\n",
              "      <td>Deborah Kerr</td>\n",
              "      <td>Donna Reed</td>\n",
              "      <td>43374</td>\n",
              "      <td>30500000</td>\n",
              "    </tr>\n",
              "    <tr>\n",
              "      <th>1005</th>\n",
              "      <td>Lifeboat</td>\n",
              "      <td>1944</td>\n",
              "      <td>97</td>\n",
              "      <td>Drama</td>\n",
              "      <td>7.6</td>\n",
              "      <td>Alfred Hitchcock</td>\n",
              "      <td>Tallulah Bankhead</td>\n",
              "      <td>John Hodiak</td>\n",
              "      <td>Walter Slezak</td>\n",
              "      <td>William Bendix</td>\n",
              "      <td>26471</td>\n",
              "      <td>13780424</td>\n",
              "    </tr>\n",
              "    <tr>\n",
              "      <th>1006</th>\n",
              "      <td>The 39 Steps</td>\n",
              "      <td>1935</td>\n",
              "      <td>86</td>\n",
              "      <td>Crime</td>\n",
              "      <td>7.6</td>\n",
              "      <td>Alfred Hitchcock</td>\n",
              "      <td>Robert Donat</td>\n",
              "      <td>Madeleine Carroll</td>\n",
              "      <td>Lucie Mannheim</td>\n",
              "      <td>Godfrey Tearle</td>\n",
              "      <td>51853</td>\n",
              "      <td>30500200</td>\n",
              "    </tr>\n",
              "  </tbody>\n",
              "</table>\n",
              "<p>1000 rows × 12 columns</p>\n",
              "</div>\n",
              "      <button class=\"colab-df-convert\" onclick=\"convertToInteractive('df-c3f21426-b8c8-4f5e-afa4-1b0ae752f608')\"\n",
              "              title=\"Convert this dataframe to an interactive table.\"\n",
              "              style=\"display:none;\">\n",
              "\n",
              "  <svg xmlns=\"http://www.w3.org/2000/svg\" height=\"24px\"viewBox=\"0 0 24 24\"\n",
              "       width=\"24px\">\n",
              "    <path d=\"M0 0h24v24H0V0z\" fill=\"none\"/>\n",
              "    <path d=\"M18.56 5.44l.94 2.06.94-2.06 2.06-.94-2.06-.94-.94-2.06-.94 2.06-2.06.94zm-11 1L8.5 8.5l.94-2.06 2.06-.94-2.06-.94L8.5 2.5l-.94 2.06-2.06.94zm10 10l.94 2.06.94-2.06 2.06-.94-2.06-.94-.94-2.06-.94 2.06-2.06.94z\"/><path d=\"M17.41 7.96l-1.37-1.37c-.4-.4-.92-.59-1.43-.59-.52 0-1.04.2-1.43.59L10.3 9.45l-7.72 7.72c-.78.78-.78 2.05 0 2.83L4 21.41c.39.39.9.59 1.41.59.51 0 1.02-.2 1.41-.59l7.78-7.78 2.81-2.81c.8-.78.8-2.07 0-2.86zM5.41 20L4 18.59l7.72-7.72 1.47 1.35L5.41 20z\"/>\n",
              "  </svg>\n",
              "      </button>\n",
              "\n",
              "\n",
              "\n",
              "    <div id=\"df-6cad82ff-6a6c-4a92-add4-fd63c5a22d65\">\n",
              "      <button class=\"colab-df-quickchart\" onclick=\"quickchart('df-6cad82ff-6a6c-4a92-add4-fd63c5a22d65')\"\n",
              "              title=\"Suggest charts.\"\n",
              "              style=\"display:none;\">\n",
              "\n",
              "<svg xmlns=\"http://www.w3.org/2000/svg\" height=\"24px\"viewBox=\"0 0 24 24\"\n",
              "     width=\"24px\">\n",
              "    <g>\n",
              "        <path d=\"M19 3H5c-1.1 0-2 .9-2 2v14c0 1.1.9 2 2 2h14c1.1 0 2-.9 2-2V5c0-1.1-.9-2-2-2zM9 17H7v-7h2v7zm4 0h-2V7h2v10zm4 0h-2v-4h2v4z\"/>\n",
              "    </g>\n",
              "</svg>\n",
              "      </button>\n",
              "    </div>\n",
              "\n",
              "<style>\n",
              "  .colab-df-quickchart {\n",
              "    background-color: #E8F0FE;\n",
              "    border: none;\n",
              "    border-radius: 50%;\n",
              "    cursor: pointer;\n",
              "    display: none;\n",
              "    fill: #1967D2;\n",
              "    height: 32px;\n",
              "    padding: 0 0 0 0;\n",
              "    width: 32px;\n",
              "  }\n",
              "\n",
              "  .colab-df-quickchart:hover {\n",
              "    background-color: #E2EBFA;\n",
              "    box-shadow: 0px 1px 2px rgba(60, 64, 67, 0.3), 0px 1px 3px 1px rgba(60, 64, 67, 0.15);\n",
              "    fill: #174EA6;\n",
              "  }\n",
              "\n",
              "  [theme=dark] .colab-df-quickchart {\n",
              "    background-color: #3B4455;\n",
              "    fill: #D2E3FC;\n",
              "  }\n",
              "\n",
              "  [theme=dark] .colab-df-quickchart:hover {\n",
              "    background-color: #434B5C;\n",
              "    box-shadow: 0px 1px 3px 1px rgba(0, 0, 0, 0.15);\n",
              "    filter: drop-shadow(0px 1px 2px rgba(0, 0, 0, 0.3));\n",
              "    fill: #FFFFFF;\n",
              "  }\n",
              "</style>\n",
              "\n",
              "    <script>\n",
              "      async function quickchart(key) {\n",
              "        const containerElement = document.querySelector('#' + key);\n",
              "        const charts = await google.colab.kernel.invokeFunction(\n",
              "            'suggestCharts', [key], {});\n",
              "      }\n",
              "    </script>\n",
              "\n",
              "      <script>\n",
              "\n",
              "function displayQuickchartButton(domScope) {\n",
              "  let quickchartButtonEl =\n",
              "    domScope.querySelector('#df-6cad82ff-6a6c-4a92-add4-fd63c5a22d65 button.colab-df-quickchart');\n",
              "  quickchartButtonEl.style.display =\n",
              "    google.colab.kernel.accessAllowed ? 'block' : 'none';\n",
              "}\n",
              "\n",
              "        displayQuickchartButton(document);\n",
              "      </script>\n",
              "      <style>\n",
              "    .colab-df-container {\n",
              "      display:flex;\n",
              "      flex-wrap:wrap;\n",
              "      gap: 12px;\n",
              "    }\n",
              "\n",
              "    .colab-df-convert {\n",
              "      background-color: #E8F0FE;\n",
              "      border: none;\n",
              "      border-radius: 50%;\n",
              "      cursor: pointer;\n",
              "      display: none;\n",
              "      fill: #1967D2;\n",
              "      height: 32px;\n",
              "      padding: 0 0 0 0;\n",
              "      width: 32px;\n",
              "    }\n",
              "\n",
              "    .colab-df-convert:hover {\n",
              "      background-color: #E2EBFA;\n",
              "      box-shadow: 0px 1px 2px rgba(60, 64, 67, 0.3), 0px 1px 3px 1px rgba(60, 64, 67, 0.15);\n",
              "      fill: #174EA6;\n",
              "    }\n",
              "\n",
              "    [theme=dark] .colab-df-convert {\n",
              "      background-color: #3B4455;\n",
              "      fill: #D2E3FC;\n",
              "    }\n",
              "\n",
              "    [theme=dark] .colab-df-convert:hover {\n",
              "      background-color: #434B5C;\n",
              "      box-shadow: 0px 1px 3px 1px rgba(0, 0, 0, 0.15);\n",
              "      filter: drop-shadow(0px 1px 2px rgba(0, 0, 0, 0.3));\n",
              "      fill: #FFFFFF;\n",
              "    }\n",
              "  </style>\n",
              "\n",
              "      <script>\n",
              "        const buttonEl =\n",
              "          document.querySelector('#df-c3f21426-b8c8-4f5e-afa4-1b0ae752f608 button.colab-df-convert');\n",
              "        buttonEl.style.display =\n",
              "          google.colab.kernel.accessAllowed ? 'block' : 'none';\n",
              "\n",
              "        async function convertToInteractive(key) {\n",
              "          const element = document.querySelector('#df-c3f21426-b8c8-4f5e-afa4-1b0ae752f608');\n",
              "          const dataTable =\n",
              "            await google.colab.kernel.invokeFunction('convertToInteractive',\n",
              "                                                     [key], {});\n",
              "          if (!dataTable) return;\n",
              "\n",
              "          const docLinkHtml = 'Like what you see? Visit the ' +\n",
              "            '<a target=\"_blank\" href=https://colab.research.google.com/notebooks/data_table.ipynb>data table notebook</a>'\n",
              "            + ' to learn more about interactive tables.';\n",
              "          element.innerHTML = '';\n",
              "          dataTable['output_type'] = 'display_data';\n",
              "          await google.colab.output.renderOutput(dataTable, element);\n",
              "          const docLink = document.createElement('div');\n",
              "          docLink.innerHTML = docLinkHtml;\n",
              "          element.appendChild(docLink);\n",
              "        }\n",
              "      </script>\n",
              "    </div>\n",
              "  </div>\n"
            ]
          },
          "metadata": {},
          "execution_count": 9
        }
      ]
    },
    {
      "cell_type": "markdown",
      "source": [
        "### **Problem #2.9**\n",
        "\n",
        "Rename each of the following column headers so that all underscores are removed: `Series_Title`, `Released_Year`, `IMDB_Rating`, and `No_of_Votes`."
      ],
      "metadata": {
        "id": "1frW6LtfL3EE"
      }
    },
    {
      "cell_type": "code",
      "source": [],
      "metadata": {
        "id": "iA1kFRsvMeV-"
      },
      "execution_count": null,
      "outputs": []
    },
    {
      "cell_type": "markdown",
      "source": [
        "#### **Solution**"
      ],
      "metadata": {
        "id": "iwKXJ_KTL3EF"
      }
    },
    {
      "cell_type": "code",
      "source": [
        "movie_df = movie_df.rename(columns={\"Series_Title\": \"Series Title\", \"Released_Year\": \"Released Year\", \"IMDB_Rating\": \"IMDB Rating\", \"No_of_Votes\": \"Number of Votes\"})\n",
        "movie_df"
      ],
      "metadata": {
        "colab": {
          "base_uri": "https://localhost:8080/",
          "height": 1000
        },
        "outputId": "10ae9b67-5fb9-4818-ecb5-29176ce5dbd5",
        "id": "-JY9BiDHL3EF"
      },
      "execution_count": null,
      "outputs": [
        {
          "output_type": "execute_result",
          "data": {
            "text/plain": [
              "                  Series Title  Released Year  Runtime (min)   Genre  \\\n",
              "0     The Shawshank Redemption           1994            142   Drama   \n",
              "1                The Godfather           1972            175   Crime   \n",
              "2              The Dark Knight           2008            152  Action   \n",
              "3       The Godfather: Part II           1974            202   Crime   \n",
              "4                 12 Angry Men           1957             96   Crime   \n",
              "...                        ...            ...            ...     ...   \n",
              "1002    Breakfast at Tiffany's           1961            115  Comedy   \n",
              "1003                     Giant           1956            201   Drama   \n",
              "1004     From Here to Eternity           1953            118   Drama   \n",
              "1005                  Lifeboat           1944             97   Drama   \n",
              "1006              The 39 Steps           1935             86   Crime   \n",
              "\n",
              "      IMDB Rating                                           Overview  \\\n",
              "0             9.3  Two imprisoned men bond over a number of years...   \n",
              "1             9.2  An organized crime dynasty's aging patriarch t...   \n",
              "2             9.0  When the menace known as the Joker wreaks havo...   \n",
              "3             9.0  The early life and career of Vito Corleone in ...   \n",
              "4             9.0  A jury holdout attempts to prevent a miscarria...   \n",
              "...           ...                                                ...   \n",
              "1002          7.6  A young New York socialite becomes interested ...   \n",
              "1003          7.6  Sprawling epic covering the life of a Texas ca...   \n",
              "1004          7.6  In Hawaii in 1941, a private is cruelly punish...   \n",
              "1005          7.6  Several survivors of a torpedoed merchant ship...   \n",
              "1006          7.6  A man in London tries to help a counter-espion...   \n",
              "\n",
              "                  Director              Star1              Star2  \\\n",
              "0           Frank Darabont        Tim Robbins     Morgan Freeman   \n",
              "1     Francis Ford Coppola      Marlon Brando          Al Pacino   \n",
              "2        Christopher Nolan     Christian Bale       Heath Ledger   \n",
              "3     Francis Ford Coppola          Al Pacino     Robert De Niro   \n",
              "4             Sidney Lumet        Henry Fonda        Lee J. Cobb   \n",
              "...                    ...                ...                ...   \n",
              "1002         Blake Edwards     Audrey Hepburn     George Peppard   \n",
              "1003        George Stevens   Elizabeth Taylor        Rock Hudson   \n",
              "1004        Fred Zinnemann     Burt Lancaster   Montgomery Clift   \n",
              "1005      Alfred Hitchcock  Tallulah Bankhead        John Hodiak   \n",
              "1006      Alfred Hitchcock       Robert Donat  Madeleine Carroll   \n",
              "\n",
              "               Star3           Star4  Number of Votes      Gross  \n",
              "0         Bob Gunton  William Sadler          2343110   28341469  \n",
              "1         James Caan    Diane Keaton          1620367  134966411  \n",
              "2      Aaron Eckhart   Michael Caine          2303232  534858444  \n",
              "3      Robert Duvall    Diane Keaton          1129952   57300000  \n",
              "4      Martin Balsam    John Fiedler           689845    4360000  \n",
              "...              ...             ...              ...        ...  \n",
              "1002   Patricia Neal     Buddy Ebsen           166544    1378835  \n",
              "1003      James Dean   Carroll Baker            34075   13780224  \n",
              "1004    Deborah Kerr      Donna Reed            43374   30500000  \n",
              "1005   Walter Slezak  William Bendix            26471   13780424  \n",
              "1006  Lucie Mannheim  Godfrey Tearle            51853   30500200  \n",
              "\n",
              "[1000 rows x 13 columns]"
            ],
            "text/html": [
              "\n",
              "\n",
              "  <div id=\"df-40ac2952-e136-4437-869e-53548e16ffa8\">\n",
              "    <div class=\"colab-df-container\">\n",
              "      <div>\n",
              "<style scoped>\n",
              "    .dataframe tbody tr th:only-of-type {\n",
              "        vertical-align: middle;\n",
              "    }\n",
              "\n",
              "    .dataframe tbody tr th {\n",
              "        vertical-align: top;\n",
              "    }\n",
              "\n",
              "    .dataframe thead th {\n",
              "        text-align: right;\n",
              "    }\n",
              "</style>\n",
              "<table border=\"1\" class=\"dataframe\">\n",
              "  <thead>\n",
              "    <tr style=\"text-align: right;\">\n",
              "      <th></th>\n",
              "      <th>Series Title</th>\n",
              "      <th>Released Year</th>\n",
              "      <th>Runtime (min)</th>\n",
              "      <th>Genre</th>\n",
              "      <th>IMDB Rating</th>\n",
              "      <th>Overview</th>\n",
              "      <th>Director</th>\n",
              "      <th>Star1</th>\n",
              "      <th>Star2</th>\n",
              "      <th>Star3</th>\n",
              "      <th>Star4</th>\n",
              "      <th>Number of Votes</th>\n",
              "      <th>Gross</th>\n",
              "    </tr>\n",
              "  </thead>\n",
              "  <tbody>\n",
              "    <tr>\n",
              "      <th>0</th>\n",
              "      <td>The Shawshank Redemption</td>\n",
              "      <td>1994</td>\n",
              "      <td>142</td>\n",
              "      <td>Drama</td>\n",
              "      <td>9.3</td>\n",
              "      <td>Two imprisoned men bond over a number of years...</td>\n",
              "      <td>Frank Darabont</td>\n",
              "      <td>Tim Robbins</td>\n",
              "      <td>Morgan Freeman</td>\n",
              "      <td>Bob Gunton</td>\n",
              "      <td>William Sadler</td>\n",
              "      <td>2343110</td>\n",
              "      <td>28341469</td>\n",
              "    </tr>\n",
              "    <tr>\n",
              "      <th>1</th>\n",
              "      <td>The Godfather</td>\n",
              "      <td>1972</td>\n",
              "      <td>175</td>\n",
              "      <td>Crime</td>\n",
              "      <td>9.2</td>\n",
              "      <td>An organized crime dynasty's aging patriarch t...</td>\n",
              "      <td>Francis Ford Coppola</td>\n",
              "      <td>Marlon Brando</td>\n",
              "      <td>Al Pacino</td>\n",
              "      <td>James Caan</td>\n",
              "      <td>Diane Keaton</td>\n",
              "      <td>1620367</td>\n",
              "      <td>134966411</td>\n",
              "    </tr>\n",
              "    <tr>\n",
              "      <th>2</th>\n",
              "      <td>The Dark Knight</td>\n",
              "      <td>2008</td>\n",
              "      <td>152</td>\n",
              "      <td>Action</td>\n",
              "      <td>9.0</td>\n",
              "      <td>When the menace known as the Joker wreaks havo...</td>\n",
              "      <td>Christopher Nolan</td>\n",
              "      <td>Christian Bale</td>\n",
              "      <td>Heath Ledger</td>\n",
              "      <td>Aaron Eckhart</td>\n",
              "      <td>Michael Caine</td>\n",
              "      <td>2303232</td>\n",
              "      <td>534858444</td>\n",
              "    </tr>\n",
              "    <tr>\n",
              "      <th>3</th>\n",
              "      <td>The Godfather: Part II</td>\n",
              "      <td>1974</td>\n",
              "      <td>202</td>\n",
              "      <td>Crime</td>\n",
              "      <td>9.0</td>\n",
              "      <td>The early life and career of Vito Corleone in ...</td>\n",
              "      <td>Francis Ford Coppola</td>\n",
              "      <td>Al Pacino</td>\n",
              "      <td>Robert De Niro</td>\n",
              "      <td>Robert Duvall</td>\n",
              "      <td>Diane Keaton</td>\n",
              "      <td>1129952</td>\n",
              "      <td>57300000</td>\n",
              "    </tr>\n",
              "    <tr>\n",
              "      <th>4</th>\n",
              "      <td>12 Angry Men</td>\n",
              "      <td>1957</td>\n",
              "      <td>96</td>\n",
              "      <td>Crime</td>\n",
              "      <td>9.0</td>\n",
              "      <td>A jury holdout attempts to prevent a miscarria...</td>\n",
              "      <td>Sidney Lumet</td>\n",
              "      <td>Henry Fonda</td>\n",
              "      <td>Lee J. Cobb</td>\n",
              "      <td>Martin Balsam</td>\n",
              "      <td>John Fiedler</td>\n",
              "      <td>689845</td>\n",
              "      <td>4360000</td>\n",
              "    </tr>\n",
              "    <tr>\n",
              "      <th>...</th>\n",
              "      <td>...</td>\n",
              "      <td>...</td>\n",
              "      <td>...</td>\n",
              "      <td>...</td>\n",
              "      <td>...</td>\n",
              "      <td>...</td>\n",
              "      <td>...</td>\n",
              "      <td>...</td>\n",
              "      <td>...</td>\n",
              "      <td>...</td>\n",
              "      <td>...</td>\n",
              "      <td>...</td>\n",
              "      <td>...</td>\n",
              "    </tr>\n",
              "    <tr>\n",
              "      <th>1002</th>\n",
              "      <td>Breakfast at Tiffany's</td>\n",
              "      <td>1961</td>\n",
              "      <td>115</td>\n",
              "      <td>Comedy</td>\n",
              "      <td>7.6</td>\n",
              "      <td>A young New York socialite becomes interested ...</td>\n",
              "      <td>Blake Edwards</td>\n",
              "      <td>Audrey Hepburn</td>\n",
              "      <td>George Peppard</td>\n",
              "      <td>Patricia Neal</td>\n",
              "      <td>Buddy Ebsen</td>\n",
              "      <td>166544</td>\n",
              "      <td>1378835</td>\n",
              "    </tr>\n",
              "    <tr>\n",
              "      <th>1003</th>\n",
              "      <td>Giant</td>\n",
              "      <td>1956</td>\n",
              "      <td>201</td>\n",
              "      <td>Drama</td>\n",
              "      <td>7.6</td>\n",
              "      <td>Sprawling epic covering the life of a Texas ca...</td>\n",
              "      <td>George Stevens</td>\n",
              "      <td>Elizabeth Taylor</td>\n",
              "      <td>Rock Hudson</td>\n",
              "      <td>James Dean</td>\n",
              "      <td>Carroll Baker</td>\n",
              "      <td>34075</td>\n",
              "      <td>13780224</td>\n",
              "    </tr>\n",
              "    <tr>\n",
              "      <th>1004</th>\n",
              "      <td>From Here to Eternity</td>\n",
              "      <td>1953</td>\n",
              "      <td>118</td>\n",
              "      <td>Drama</td>\n",
              "      <td>7.6</td>\n",
              "      <td>In Hawaii in 1941, a private is cruelly punish...</td>\n",
              "      <td>Fred Zinnemann</td>\n",
              "      <td>Burt Lancaster</td>\n",
              "      <td>Montgomery Clift</td>\n",
              "      <td>Deborah Kerr</td>\n",
              "      <td>Donna Reed</td>\n",
              "      <td>43374</td>\n",
              "      <td>30500000</td>\n",
              "    </tr>\n",
              "    <tr>\n",
              "      <th>1005</th>\n",
              "      <td>Lifeboat</td>\n",
              "      <td>1944</td>\n",
              "      <td>97</td>\n",
              "      <td>Drama</td>\n",
              "      <td>7.6</td>\n",
              "      <td>Several survivors of a torpedoed merchant ship...</td>\n",
              "      <td>Alfred Hitchcock</td>\n",
              "      <td>Tallulah Bankhead</td>\n",
              "      <td>John Hodiak</td>\n",
              "      <td>Walter Slezak</td>\n",
              "      <td>William Bendix</td>\n",
              "      <td>26471</td>\n",
              "      <td>13780424</td>\n",
              "    </tr>\n",
              "    <tr>\n",
              "      <th>1006</th>\n",
              "      <td>The 39 Steps</td>\n",
              "      <td>1935</td>\n",
              "      <td>86</td>\n",
              "      <td>Crime</td>\n",
              "      <td>7.6</td>\n",
              "      <td>A man in London tries to help a counter-espion...</td>\n",
              "      <td>Alfred Hitchcock</td>\n",
              "      <td>Robert Donat</td>\n",
              "      <td>Madeleine Carroll</td>\n",
              "      <td>Lucie Mannheim</td>\n",
              "      <td>Godfrey Tearle</td>\n",
              "      <td>51853</td>\n",
              "      <td>30500200</td>\n",
              "    </tr>\n",
              "  </tbody>\n",
              "</table>\n",
              "<p>1000 rows × 13 columns</p>\n",
              "</div>\n",
              "      <button class=\"colab-df-convert\" onclick=\"convertToInteractive('df-40ac2952-e136-4437-869e-53548e16ffa8')\"\n",
              "              title=\"Convert this dataframe to an interactive table.\"\n",
              "              style=\"display:none;\">\n",
              "\n",
              "  <svg xmlns=\"http://www.w3.org/2000/svg\" height=\"24px\"viewBox=\"0 0 24 24\"\n",
              "       width=\"24px\">\n",
              "    <path d=\"M0 0h24v24H0V0z\" fill=\"none\"/>\n",
              "    <path d=\"M18.56 5.44l.94 2.06.94-2.06 2.06-.94-2.06-.94-.94-2.06-.94 2.06-2.06.94zm-11 1L8.5 8.5l.94-2.06 2.06-.94-2.06-.94L8.5 2.5l-.94 2.06-2.06.94zm10 10l.94 2.06.94-2.06 2.06-.94-2.06-.94-.94-2.06-.94 2.06-2.06.94z\"/><path d=\"M17.41 7.96l-1.37-1.37c-.4-.4-.92-.59-1.43-.59-.52 0-1.04.2-1.43.59L10.3 9.45l-7.72 7.72c-.78.78-.78 2.05 0 2.83L4 21.41c.39.39.9.59 1.41.59.51 0 1.02-.2 1.41-.59l7.78-7.78 2.81-2.81c.8-.78.8-2.07 0-2.86zM5.41 20L4 18.59l7.72-7.72 1.47 1.35L5.41 20z\"/>\n",
              "  </svg>\n",
              "      </button>\n",
              "\n",
              "\n",
              "\n",
              "    <div id=\"df-6e4e40d1-05cb-404d-ad7b-44cb552d5f2b\">\n",
              "      <button class=\"colab-df-quickchart\" onclick=\"quickchart('df-6e4e40d1-05cb-404d-ad7b-44cb552d5f2b')\"\n",
              "              title=\"Suggest charts.\"\n",
              "              style=\"display:none;\">\n",
              "\n",
              "<svg xmlns=\"http://www.w3.org/2000/svg\" height=\"24px\"viewBox=\"0 0 24 24\"\n",
              "     width=\"24px\">\n",
              "    <g>\n",
              "        <path d=\"M19 3H5c-1.1 0-2 .9-2 2v14c0 1.1.9 2 2 2h14c1.1 0 2-.9 2-2V5c0-1.1-.9-2-2-2zM9 17H7v-7h2v7zm4 0h-2V7h2v10zm4 0h-2v-4h2v4z\"/>\n",
              "    </g>\n",
              "</svg>\n",
              "      </button>\n",
              "    </div>\n",
              "\n",
              "<style>\n",
              "  .colab-df-quickchart {\n",
              "    background-color: #E8F0FE;\n",
              "    border: none;\n",
              "    border-radius: 50%;\n",
              "    cursor: pointer;\n",
              "    display: none;\n",
              "    fill: #1967D2;\n",
              "    height: 32px;\n",
              "    padding: 0 0 0 0;\n",
              "    width: 32px;\n",
              "  }\n",
              "\n",
              "  .colab-df-quickchart:hover {\n",
              "    background-color: #E2EBFA;\n",
              "    box-shadow: 0px 1px 2px rgba(60, 64, 67, 0.3), 0px 1px 3px 1px rgba(60, 64, 67, 0.15);\n",
              "    fill: #174EA6;\n",
              "  }\n",
              "\n",
              "  [theme=dark] .colab-df-quickchart {\n",
              "    background-color: #3B4455;\n",
              "    fill: #D2E3FC;\n",
              "  }\n",
              "\n",
              "  [theme=dark] .colab-df-quickchart:hover {\n",
              "    background-color: #434B5C;\n",
              "    box-shadow: 0px 1px 3px 1px rgba(0, 0, 0, 0.15);\n",
              "    filter: drop-shadow(0px 1px 2px rgba(0, 0, 0, 0.3));\n",
              "    fill: #FFFFFF;\n",
              "  }\n",
              "</style>\n",
              "\n",
              "    <script>\n",
              "      async function quickchart(key) {\n",
              "        const containerElement = document.querySelector('#' + key);\n",
              "        const charts = await google.colab.kernel.invokeFunction(\n",
              "            'suggestCharts', [key], {});\n",
              "      }\n",
              "    </script>\n",
              "\n",
              "      <script>\n",
              "\n",
              "function displayQuickchartButton(domScope) {\n",
              "  let quickchartButtonEl =\n",
              "    domScope.querySelector('#df-6e4e40d1-05cb-404d-ad7b-44cb552d5f2b button.colab-df-quickchart');\n",
              "  quickchartButtonEl.style.display =\n",
              "    google.colab.kernel.accessAllowed ? 'block' : 'none';\n",
              "}\n",
              "\n",
              "        displayQuickchartButton(document);\n",
              "      </script>\n",
              "      <style>\n",
              "    .colab-df-container {\n",
              "      display:flex;\n",
              "      flex-wrap:wrap;\n",
              "      gap: 12px;\n",
              "    }\n",
              "\n",
              "    .colab-df-convert {\n",
              "      background-color: #E8F0FE;\n",
              "      border: none;\n",
              "      border-radius: 50%;\n",
              "      cursor: pointer;\n",
              "      display: none;\n",
              "      fill: #1967D2;\n",
              "      height: 32px;\n",
              "      padding: 0 0 0 0;\n",
              "      width: 32px;\n",
              "    }\n",
              "\n",
              "    .colab-df-convert:hover {\n",
              "      background-color: #E2EBFA;\n",
              "      box-shadow: 0px 1px 2px rgba(60, 64, 67, 0.3), 0px 1px 3px 1px rgba(60, 64, 67, 0.15);\n",
              "      fill: #174EA6;\n",
              "    }\n",
              "\n",
              "    [theme=dark] .colab-df-convert {\n",
              "      background-color: #3B4455;\n",
              "      fill: #D2E3FC;\n",
              "    }\n",
              "\n",
              "    [theme=dark] .colab-df-convert:hover {\n",
              "      background-color: #434B5C;\n",
              "      box-shadow: 0px 1px 3px 1px rgba(0, 0, 0, 0.15);\n",
              "      filter: drop-shadow(0px 1px 2px rgba(0, 0, 0, 0.3));\n",
              "      fill: #FFFFFF;\n",
              "    }\n",
              "  </style>\n",
              "\n",
              "      <script>\n",
              "        const buttonEl =\n",
              "          document.querySelector('#df-40ac2952-e136-4437-869e-53548e16ffa8 button.colab-df-convert');\n",
              "        buttonEl.style.display =\n",
              "          google.colab.kernel.accessAllowed ? 'block' : 'none';\n",
              "\n",
              "        async function convertToInteractive(key) {\n",
              "          const element = document.querySelector('#df-40ac2952-e136-4437-869e-53548e16ffa8');\n",
              "          const dataTable =\n",
              "            await google.colab.kernel.invokeFunction('convertToInteractive',\n",
              "                                                     [key], {});\n",
              "          if (!dataTable) return;\n",
              "\n",
              "          const docLinkHtml = 'Like what you see? Visit the ' +\n",
              "            '<a target=\"_blank\" href=https://colab.research.google.com/notebooks/data_table.ipynb>data table notebook</a>'\n",
              "            + ' to learn more about interactive tables.';\n",
              "          element.innerHTML = '';\n",
              "          dataTable['output_type'] = 'display_data';\n",
              "          await google.colab.output.renderOutput(dataTable, element);\n",
              "          const docLink = document.createElement('div');\n",
              "          docLink.innerHTML = docLinkHtml;\n",
              "          element.appendChild(docLink);\n",
              "        }\n",
              "      </script>\n",
              "    </div>\n",
              "  </div>\n"
            ]
          },
          "metadata": {},
          "execution_count": 50
        }
      ]
    },
    {
      "cell_type": "markdown",
      "source": [
        "### **Problem #2.10**\n",
        "\n",
        "Drop any duplicate rows from the dataframe."
      ],
      "metadata": {
        "id": "upncNk7gNd4e"
      }
    },
    {
      "cell_type": "code",
      "source": [],
      "metadata": {
        "id": "DJPIyeqFNd4t"
      },
      "execution_count": null,
      "outputs": []
    },
    {
      "cell_type": "markdown",
      "source": [
        "#### **Solution**"
      ],
      "metadata": {
        "id": "GVb0ZA_pNd4t"
      }
    },
    {
      "cell_type": "code",
      "source": [
        "movie_df.drop_duplicates(inplace=True)"
      ],
      "metadata": {
        "id": "FtLNZyQzNd4t"
      },
      "execution_count": null,
      "outputs": []
    },
    {
      "cell_type": "markdown",
      "source": [
        "### **Problem #2.11**\n",
        "\n",
        "Convert the `Released Year` column to an object data type."
      ],
      "metadata": {
        "id": "dB-a-gu5fhHc"
      }
    },
    {
      "cell_type": "code",
      "source": [],
      "metadata": {
        "id": "L6Za-7t0fhHd"
      },
      "execution_count": null,
      "outputs": []
    },
    {
      "cell_type": "markdown",
      "source": [
        "#### **Solution**"
      ],
      "metadata": {
        "id": "vdzYLJX2fhHd"
      }
    },
    {
      "cell_type": "code",
      "source": [
        "movie_df['Released Year'] = movie_df['Released Year'].astype(object)"
      ],
      "metadata": {
        "id": "ZTrxBM7cfhHd"
      },
      "execution_count": null,
      "outputs": []
    },
    {
      "cell_type": "markdown",
      "source": [
        "<a name=\"p3\"></a>\n",
        "\n",
        "---\n",
        "## **Part 3: [OPTIONAL] Data Visualization Review**\n",
        "---\n",
        "\n",
        "**Run the cell below to load in the data**"
      ],
      "metadata": {
        "id": "XxQR7m6jcBOg"
      }
    },
    {
      "cell_type": "code",
      "source": [
        "url = \"https://docs.google.com/spreadsheets/d/e/2PACX-1vS9jPkeKJ8QUuAl-fFdg3nJPDP6vx1byvIBl4yW8UZZJ9QEscyALJp1eywKeAg7aAffwdKP63D9osF1/pub?gid=169291584&single=true&output=csv\"\n",
        "movie_df = pd.read_csv(url)\n",
        "\n",
        "movie_df.drop_duplicates(inplace=True)\n",
        "\n",
        "mean_runtime = movie_df['Runtime'].mean()\n",
        "movie_df['Runtime'] = movie_df['Runtime'].fillna(mean_runtime)\n",
        "\n",
        "movie_df = movie_df.rename(columns = {\"Runtime\": \"Runtime (min)\"})\n",
        "movie_df = movie_df.astype({\"Runtime (min)\": \"int64\"})\n",
        "\n",
        "movie_df.head()"
      ],
      "metadata": {
        "id": "3e2U3qBtVK-1",
        "colab": {
          "base_uri": "https://localhost:8080/",
          "height": 739
        },
        "outputId": "148e75a8-fd60-4b91-dd1e-555d56ad95d5"
      },
      "execution_count": null,
      "outputs": [
        {
          "output_type": "execute_result",
          "data": {
            "text/plain": [
              "               Series_Title  Released_Year  Runtime (min)   Genre  \\\n",
              "0  The Shawshank Redemption           1994            142   Drama   \n",
              "1             The Godfather           1972            175   Crime   \n",
              "2           The Dark Knight           2008            152  Action   \n",
              "3    The Godfather: Part II           1974            202   Crime   \n",
              "4              12 Angry Men           1957             96   Crime   \n",
              "\n",
              "   IMDB_Rating                                           Overview  \\\n",
              "0          9.3  Two imprisoned men bond over a number of years...   \n",
              "1          9.2  An organized crime dynasty's aging patriarch t...   \n",
              "2          9.0  When the menace known as the Joker wreaks havo...   \n",
              "3          9.0  The early life and career of Vito Corleone in ...   \n",
              "4          9.0  A jury holdout attempts to prevent a miscarria...   \n",
              "\n",
              "               Director           Star1           Star2          Star3  \\\n",
              "0        Frank Darabont     Tim Robbins  Morgan Freeman     Bob Gunton   \n",
              "1  Francis Ford Coppola   Marlon Brando       Al Pacino     James Caan   \n",
              "2     Christopher Nolan  Christian Bale    Heath Ledger  Aaron Eckhart   \n",
              "3  Francis Ford Coppola       Al Pacino  Robert De Niro  Robert Duvall   \n",
              "4          Sidney Lumet     Henry Fonda     Lee J. Cobb  Martin Balsam   \n",
              "\n",
              "            Star4  No_of_Votes      Gross  \n",
              "0  William Sadler      2343110   28341469  \n",
              "1    Diane Keaton      1620367  134966411  \n",
              "2   Michael Caine      2303232  534858444  \n",
              "3    Diane Keaton      1129952   57300000  \n",
              "4    John Fiedler       689845    4360000  "
            ],
            "text/html": [
              "\n",
              "\n",
              "  <div id=\"df-10da942a-0aa9-4167-99e7-73c9634fa647\">\n",
              "    <div class=\"colab-df-container\">\n",
              "      <div>\n",
              "<style scoped>\n",
              "    .dataframe tbody tr th:only-of-type {\n",
              "        vertical-align: middle;\n",
              "    }\n",
              "\n",
              "    .dataframe tbody tr th {\n",
              "        vertical-align: top;\n",
              "    }\n",
              "\n",
              "    .dataframe thead th {\n",
              "        text-align: right;\n",
              "    }\n",
              "</style>\n",
              "<table border=\"1\" class=\"dataframe\">\n",
              "  <thead>\n",
              "    <tr style=\"text-align: right;\">\n",
              "      <th></th>\n",
              "      <th>Series_Title</th>\n",
              "      <th>Released_Year</th>\n",
              "      <th>Runtime (min)</th>\n",
              "      <th>Genre</th>\n",
              "      <th>IMDB_Rating</th>\n",
              "      <th>Overview</th>\n",
              "      <th>Director</th>\n",
              "      <th>Star1</th>\n",
              "      <th>Star2</th>\n",
              "      <th>Star3</th>\n",
              "      <th>Star4</th>\n",
              "      <th>No_of_Votes</th>\n",
              "      <th>Gross</th>\n",
              "    </tr>\n",
              "  </thead>\n",
              "  <tbody>\n",
              "    <tr>\n",
              "      <th>0</th>\n",
              "      <td>The Shawshank Redemption</td>\n",
              "      <td>1994</td>\n",
              "      <td>142</td>\n",
              "      <td>Drama</td>\n",
              "      <td>9.3</td>\n",
              "      <td>Two imprisoned men bond over a number of years...</td>\n",
              "      <td>Frank Darabont</td>\n",
              "      <td>Tim Robbins</td>\n",
              "      <td>Morgan Freeman</td>\n",
              "      <td>Bob Gunton</td>\n",
              "      <td>William Sadler</td>\n",
              "      <td>2343110</td>\n",
              "      <td>28341469</td>\n",
              "    </tr>\n",
              "    <tr>\n",
              "      <th>1</th>\n",
              "      <td>The Godfather</td>\n",
              "      <td>1972</td>\n",
              "      <td>175</td>\n",
              "      <td>Crime</td>\n",
              "      <td>9.2</td>\n",
              "      <td>An organized crime dynasty's aging patriarch t...</td>\n",
              "      <td>Francis Ford Coppola</td>\n",
              "      <td>Marlon Brando</td>\n",
              "      <td>Al Pacino</td>\n",
              "      <td>James Caan</td>\n",
              "      <td>Diane Keaton</td>\n",
              "      <td>1620367</td>\n",
              "      <td>134966411</td>\n",
              "    </tr>\n",
              "    <tr>\n",
              "      <th>2</th>\n",
              "      <td>The Dark Knight</td>\n",
              "      <td>2008</td>\n",
              "      <td>152</td>\n",
              "      <td>Action</td>\n",
              "      <td>9.0</td>\n",
              "      <td>When the menace known as the Joker wreaks havo...</td>\n",
              "      <td>Christopher Nolan</td>\n",
              "      <td>Christian Bale</td>\n",
              "      <td>Heath Ledger</td>\n",
              "      <td>Aaron Eckhart</td>\n",
              "      <td>Michael Caine</td>\n",
              "      <td>2303232</td>\n",
              "      <td>534858444</td>\n",
              "    </tr>\n",
              "    <tr>\n",
              "      <th>3</th>\n",
              "      <td>The Godfather: Part II</td>\n",
              "      <td>1974</td>\n",
              "      <td>202</td>\n",
              "      <td>Crime</td>\n",
              "      <td>9.0</td>\n",
              "      <td>The early life and career of Vito Corleone in ...</td>\n",
              "      <td>Francis Ford Coppola</td>\n",
              "      <td>Al Pacino</td>\n",
              "      <td>Robert De Niro</td>\n",
              "      <td>Robert Duvall</td>\n",
              "      <td>Diane Keaton</td>\n",
              "      <td>1129952</td>\n",
              "      <td>57300000</td>\n",
              "    </tr>\n",
              "    <tr>\n",
              "      <th>4</th>\n",
              "      <td>12 Angry Men</td>\n",
              "      <td>1957</td>\n",
              "      <td>96</td>\n",
              "      <td>Crime</td>\n",
              "      <td>9.0</td>\n",
              "      <td>A jury holdout attempts to prevent a miscarria...</td>\n",
              "      <td>Sidney Lumet</td>\n",
              "      <td>Henry Fonda</td>\n",
              "      <td>Lee J. Cobb</td>\n",
              "      <td>Martin Balsam</td>\n",
              "      <td>John Fiedler</td>\n",
              "      <td>689845</td>\n",
              "      <td>4360000</td>\n",
              "    </tr>\n",
              "  </tbody>\n",
              "</table>\n",
              "</div>\n",
              "      <button class=\"colab-df-convert\" onclick=\"convertToInteractive('df-10da942a-0aa9-4167-99e7-73c9634fa647')\"\n",
              "              title=\"Convert this dataframe to an interactive table.\"\n",
              "              style=\"display:none;\">\n",
              "\n",
              "  <svg xmlns=\"http://www.w3.org/2000/svg\" height=\"24px\"viewBox=\"0 0 24 24\"\n",
              "       width=\"24px\">\n",
              "    <path d=\"M0 0h24v24H0V0z\" fill=\"none\"/>\n",
              "    <path d=\"M18.56 5.44l.94 2.06.94-2.06 2.06-.94-2.06-.94-.94-2.06-.94 2.06-2.06.94zm-11 1L8.5 8.5l.94-2.06 2.06-.94-2.06-.94L8.5 2.5l-.94 2.06-2.06.94zm10 10l.94 2.06.94-2.06 2.06-.94-2.06-.94-.94-2.06-.94 2.06-2.06.94z\"/><path d=\"M17.41 7.96l-1.37-1.37c-.4-.4-.92-.59-1.43-.59-.52 0-1.04.2-1.43.59L10.3 9.45l-7.72 7.72c-.78.78-.78 2.05 0 2.83L4 21.41c.39.39.9.59 1.41.59.51 0 1.02-.2 1.41-.59l7.78-7.78 2.81-2.81c.8-.78.8-2.07 0-2.86zM5.41 20L4 18.59l7.72-7.72 1.47 1.35L5.41 20z\"/>\n",
              "  </svg>\n",
              "      </button>\n",
              "\n",
              "\n",
              "\n",
              "    <div id=\"df-8fc64aba-036e-48f3-a472-95f891130349\">\n",
              "      <button class=\"colab-df-quickchart\" onclick=\"quickchart('df-8fc64aba-036e-48f3-a472-95f891130349')\"\n",
              "              title=\"Suggest charts.\"\n",
              "              style=\"display:none;\">\n",
              "\n",
              "<svg xmlns=\"http://www.w3.org/2000/svg\" height=\"24px\"viewBox=\"0 0 24 24\"\n",
              "     width=\"24px\">\n",
              "    <g>\n",
              "        <path d=\"M19 3H5c-1.1 0-2 .9-2 2v14c0 1.1.9 2 2 2h14c1.1 0 2-.9 2-2V5c0-1.1-.9-2-2-2zM9 17H7v-7h2v7zm4 0h-2V7h2v10zm4 0h-2v-4h2v4z\"/>\n",
              "    </g>\n",
              "</svg>\n",
              "      </button>\n",
              "    </div>\n",
              "\n",
              "<style>\n",
              "  .colab-df-quickchart {\n",
              "    background-color: #E8F0FE;\n",
              "    border: none;\n",
              "    border-radius: 50%;\n",
              "    cursor: pointer;\n",
              "    display: none;\n",
              "    fill: #1967D2;\n",
              "    height: 32px;\n",
              "    padding: 0 0 0 0;\n",
              "    width: 32px;\n",
              "  }\n",
              "\n",
              "  .colab-df-quickchart:hover {\n",
              "    background-color: #E2EBFA;\n",
              "    box-shadow: 0px 1px 2px rgba(60, 64, 67, 0.3), 0px 1px 3px 1px rgba(60, 64, 67, 0.15);\n",
              "    fill: #174EA6;\n",
              "  }\n",
              "\n",
              "  [theme=dark] .colab-df-quickchart {\n",
              "    background-color: #3B4455;\n",
              "    fill: #D2E3FC;\n",
              "  }\n",
              "\n",
              "  [theme=dark] .colab-df-quickchart:hover {\n",
              "    background-color: #434B5C;\n",
              "    box-shadow: 0px 1px 3px 1px rgba(0, 0, 0, 0.15);\n",
              "    filter: drop-shadow(0px 1px 2px rgba(0, 0, 0, 0.3));\n",
              "    fill: #FFFFFF;\n",
              "  }\n",
              "</style>\n",
              "\n",
              "    <script>\n",
              "      async function quickchart(key) {\n",
              "        const containerElement = document.querySelector('#' + key);\n",
              "        const charts = await google.colab.kernel.invokeFunction(\n",
              "            'suggestCharts', [key], {});\n",
              "      }\n",
              "    </script>\n",
              "\n",
              "      <script>\n",
              "\n",
              "function displayQuickchartButton(domScope) {\n",
              "  let quickchartButtonEl =\n",
              "    domScope.querySelector('#df-8fc64aba-036e-48f3-a472-95f891130349 button.colab-df-quickchart');\n",
              "  quickchartButtonEl.style.display =\n",
              "    google.colab.kernel.accessAllowed ? 'block' : 'none';\n",
              "}\n",
              "\n",
              "        displayQuickchartButton(document);\n",
              "      </script>\n",
              "      <style>\n",
              "    .colab-df-container {\n",
              "      display:flex;\n",
              "      flex-wrap:wrap;\n",
              "      gap: 12px;\n",
              "    }\n",
              "\n",
              "    .colab-df-convert {\n",
              "      background-color: #E8F0FE;\n",
              "      border: none;\n",
              "      border-radius: 50%;\n",
              "      cursor: pointer;\n",
              "      display: none;\n",
              "      fill: #1967D2;\n",
              "      height: 32px;\n",
              "      padding: 0 0 0 0;\n",
              "      width: 32px;\n",
              "    }\n",
              "\n",
              "    .colab-df-convert:hover {\n",
              "      background-color: #E2EBFA;\n",
              "      box-shadow: 0px 1px 2px rgba(60, 64, 67, 0.3), 0px 1px 3px 1px rgba(60, 64, 67, 0.15);\n",
              "      fill: #174EA6;\n",
              "    }\n",
              "\n",
              "    [theme=dark] .colab-df-convert {\n",
              "      background-color: #3B4455;\n",
              "      fill: #D2E3FC;\n",
              "    }\n",
              "\n",
              "    [theme=dark] .colab-df-convert:hover {\n",
              "      background-color: #434B5C;\n",
              "      box-shadow: 0px 1px 3px 1px rgba(0, 0, 0, 0.15);\n",
              "      filter: drop-shadow(0px 1px 2px rgba(0, 0, 0, 0.3));\n",
              "      fill: #FFFFFF;\n",
              "    }\n",
              "  </style>\n",
              "\n",
              "      <script>\n",
              "        const buttonEl =\n",
              "          document.querySelector('#df-10da942a-0aa9-4167-99e7-73c9634fa647 button.colab-df-convert');\n",
              "        buttonEl.style.display =\n",
              "          google.colab.kernel.accessAllowed ? 'block' : 'none';\n",
              "\n",
              "        async function convertToInteractive(key) {\n",
              "          const element = document.querySelector('#df-10da942a-0aa9-4167-99e7-73c9634fa647');\n",
              "          const dataTable =\n",
              "            await google.colab.kernel.invokeFunction('convertToInteractive',\n",
              "                                                     [key], {});\n",
              "          if (!dataTable) return;\n",
              "\n",
              "          const docLinkHtml = 'Like what you see? Visit the ' +\n",
              "            '<a target=\"_blank\" href=https://colab.research.google.com/notebooks/data_table.ipynb>data table notebook</a>'\n",
              "            + ' to learn more about interactive tables.';\n",
              "          element.innerHTML = '';\n",
              "          dataTable['output_type'] = 'display_data';\n",
              "          await google.colab.output.renderOutput(dataTable, element);\n",
              "          const docLink = document.createElement('div');\n",
              "          docLink.innerHTML = docLinkHtml;\n",
              "          element.appendChild(docLink);\n",
              "        }\n",
              "      </script>\n",
              "    </div>\n",
              "  </div>\n"
            ]
          },
          "metadata": {},
          "execution_count": 15
        }
      ]
    },
    {
      "cell_type": "markdown",
      "source": [
        "### **Problem #3.1**\n",
        "\n",
        "Create a scatterplot using `Runtime (min)` as the x-axis value and `Gross` as the y-axis value.\n",
        "\n",
        "Make sure to include a meaningful:\n",
        "* `Title`: \"Gross Money vs. Runtime:\n",
        "* `X-axis`: \"Gross (USD)\"\n",
        "* `Y-axis`: \"Runtime (min)\""
      ],
      "metadata": {
        "id": "TmujqDuMDmua"
      }
    },
    {
      "cell_type": "code",
      "source": [],
      "metadata": {
        "id": "4z1ytVFrDmub"
      },
      "execution_count": null,
      "outputs": []
    },
    {
      "cell_type": "markdown",
      "source": [
        "#### **Solution**"
      ],
      "metadata": {
        "id": "kh8jakeJDmuc"
      }
    },
    {
      "cell_type": "code",
      "source": [
        "plt.scatter(movie_df['Runtime (min)'], movie_df['Gross'])\n",
        "\n",
        "plt.title(\"Gross Money vs. Runtime\")\n",
        "plt.xlabel('Runtime (min)')\n",
        "plt.ylabel('Gross (USD)')\n",
        "\n",
        "plt.show()"
      ],
      "metadata": {
        "id": "WW3yEyKCDmuc",
        "colab": {
          "base_uri": "https://localhost:8080/",
          "height": 472
        },
        "outputId": "dc10d109-270c-4467-f7e4-1433c5059ddb"
      },
      "execution_count": null,
      "outputs": [
        {
          "output_type": "display_data",
          "data": {
            "text/plain": [
              "<Figure size 640x480 with 1 Axes>"
            ],
            "image/png": "[encoded data removed]"
          },
          "metadata": {}
        }
      ]
    },
    {
      "cell_type": "markdown",
      "source": [
        "### **Problem #3.2**\n",
        "\n",
        "Create a scatterplot using `Released_Year` as the x-axis value and `Runtime (min)` as the y-axis value.\n",
        "\n",
        "Make sure to include a meaningful:\n",
        "* `Title`: \"Runtime vs. Released_Year\"\n",
        "* `X-axis`: \"Year\"\n",
        "* `Y-axis`: \"Runtime (min)\""
      ],
      "metadata": {
        "id": "8kCYTBSCFaM9"
      }
    },
    {
      "cell_type": "code",
      "source": [],
      "metadata": {
        "id": "wAuYh9xqFaM-"
      },
      "execution_count": null,
      "outputs": []
    },
    {
      "cell_type": "markdown",
      "source": [
        "#### **Solution**"
      ],
      "metadata": {
        "id": "pP4tVkGaFaM-"
      }
    },
    {
      "cell_type": "code",
      "source": [
        "plt.scatter(movie_df['Released_Year'], movie_df['Runtime (min)'])\n",
        "\n",
        "plt.title(\"Gross Money vs. Runtime\")\n",
        "plt.xlabel('Year')\n",
        "plt.ylabel('Runtime (min)')\n",
        "\n",
        "plt.show()"
      ],
      "metadata": {
        "id": "xSgj0Cp9FaM-",
        "colab": {
          "base_uri": "https://localhost:8080/",
          "height": 472
        },
        "outputId": "ace506b5-1831-44c6-cebe-caeabfab4042"
      },
      "execution_count": null,
      "outputs": [
        {
          "output_type": "display_data",
          "data": {
            "text/plain": [
              "<Figure size 640x480 with 1 Axes>"
            ],
            "image/png": "[encoded data removed]"
          },
          "metadata": {}
        }
      ]
    },
    {
      "cell_type": "markdown",
      "source": [
        "### **Problem #3.3**\n",
        "\n",
        "Create a *lineplot* using `Runtime (min)` as the x-axis value and `Gross` as the y-axis value.\n",
        "\n",
        "Make sure to include a meaningful:\n",
        "* Title, ex: `'Gross Money vs. Runtime'`.\n",
        "* X-axis label including units `'min'`.\n",
        "* Y-axis label including units `'USD'`.\n",
        "\n",
        "<br>\n",
        "\n",
        "**NOTE**: This is not going to be a particularly helpful graph (the scatter plot is a better choice), but we oftentimes will not know this ahead of time. A lot of EDA and visualizations involves trying a number of things and seeing what is useful."
      ],
      "metadata": {
        "id": "A7ZZMz9CJQKU"
      }
    },
    {
      "cell_type": "code",
      "source": [],
      "metadata": {
        "id": "V9Nwq-BhJQKU"
      },
      "execution_count": null,
      "outputs": []
    },
    {
      "cell_type": "markdown",
      "source": [
        "#### **Solution**"
      ],
      "metadata": {
        "id": "pUB5YfGMJQKV"
      }
    },
    {
      "cell_type": "code",
      "source": [
        "plt.plot(movie_df['Runtime (min)'], movie_df['Gross'])\n",
        "\n",
        "plt.title(\"Gross Money vs. Runtime\")\n",
        "plt.xlabel('Runtime (min)')\n",
        "plt.ylabel('Gross (USD)')\n",
        "\n",
        "plt.show()"
      ],
      "metadata": {
        "id": "n0f53-3yJQKV",
        "colab": {
          "base_uri": "https://localhost:8080/",
          "height": 472
        },
        "outputId": "ebebdf71-afd8-4ed1-c0b6-ce61b684b58d"
      },
      "execution_count": null,
      "outputs": [
        {
          "output_type": "display_data",
          "data": {
            "text/plain": [
              "<Figure size 640x480 with 1 Axes>"
            ],
            "image/png": "[encoded data removed]"
          },
          "metadata": {}
        }
      ]
    },
    {
      "cell_type": "markdown",
      "source": [
        "### **Problem #3.4**\n",
        "\n",
        "Create a *lineplot* using `Released_Year` as the x-axis value and `Average Gross in Year` as the y-axis value.\n",
        "\n",
        "Make sure to include a meaningful:\n",
        "* Title, ex: `'Average Gross Money vs. Released Year'`.\n",
        "* X-axis label.\n",
        "* Y-axis label including units `'USD'`."
      ],
      "metadata": {
        "id": "h9Xvd-tBJkja"
      }
    },
    {
      "cell_type": "code",
      "source": [
        "mean_gross = movie_df.groupby('Released_Year')['Gross'].mean() # average gross in year\n",
        "\n",
        "# COMPLETE THIS CODE\n"
      ],
      "metadata": {
        "id": "Tugg473VJkjb"
      },
      "execution_count": null,
      "outputs": []
    },
    {
      "cell_type": "markdown",
      "source": [
        "#### **Solution**"
      ],
      "metadata": {
        "id": "BG0Vf_8aJkjb"
      }
    },
    {
      "cell_type": "code",
      "source": [
        "mean_gross = movie_df.groupby('Released_Year')['Gross'].mean()\n",
        "\n",
        "plt.plot(mean_gross.index, mean_gross)\n",
        "\n",
        "plt.title(\"Gross Money vs. Released Year\")\n",
        "plt.xlabel('Released Year')\n",
        "plt.ylabel('Gross (USD)')\n",
        "\n",
        "plt.show()"
      ],
      "metadata": {
        "id": "4uunTNSeJkjb",
        "colab": {
          "base_uri": "https://localhost:8080/",
          "height": 472
        },
        "outputId": "942a878d-b314-42bd-8123-ce0d8dd24d89"
      },
      "execution_count": null,
      "outputs": [
        {
          "output_type": "display_data",
          "data": {
            "text/plain": [
              "<Figure size 640x480 with 1 Axes>"
            ],
            "image/png": "[encoded data removed]"
          },
          "metadata": {}
        }
      ]
    },
    {
      "cell_type": "markdown",
      "source": [
        "### **Problem #3.5**\n",
        "\n",
        "Create a bar plot of the number of movies released per year.\n",
        "\n",
        "Use the DataFrame provided, `movies_per_year` and make sure to include a meaningful:\n",
        "* Title.\n",
        "* X-axis label.\n",
        "* Y-axis label."
      ],
      "metadata": {
        "id": "ZBbQ_A7SHG84"
      }
    },
    {
      "cell_type": "code",
      "source": [
        "movies_per_year = movie_df['Released_Year'].value_counts()\n",
        "\n",
        "plt.bar(movies_per_year.index, # COMPLETE THIS CODE"
      ],
      "metadata": {
        "id": "1mgDNmnWHG85"
      },
      "execution_count": null,
      "outputs": []
    },
    {
      "cell_type": "markdown",
      "source": [
        "#### **Solution**"
      ],
      "metadata": {
        "id": "dmWvStJNHG85"
      }
    },
    {
      "cell_type": "code",
      "source": [
        "movies_per_year = movie_df['Released_Year'].value_counts()\n",
        "\n",
        "plt.bar(movies_per_year.index, movies_per_year)\n",
        "\n",
        "plt.title('Movies Released per Year')\n",
        "plt.xlabel('Year')\n",
        "plt.ylabel('Number of Movies')\n",
        "\n",
        "plt.show()"
      ],
      "metadata": {
        "id": "-vDPF8BEHG85",
        "colab": {
          "base_uri": "https://localhost:8080/",
          "height": 472
        },
        "outputId": "1a47d42a-c1aa-491e-9c45-394582233264"
      },
      "execution_count": null,
      "outputs": [
        {
          "output_type": "display_data",
          "data": {
            "text/plain": [
              "<Figure size 640x480 with 1 Axes>"
            ],
            "image/png": "[encoded data removed]"
          },
          "metadata": {}
        }
      ]
    },
    {
      "cell_type": "markdown",
      "source": [
        "<a name=\"p4\"></a>\n",
        "\n",
        "---\n",
        "## **Part 4: Titanic Project**\n",
        "---\n",
        "\n",
        "In the following parts, you will hone and apply your skills to a famous dataset containing information about passengers on the Titanic and whether they survived or not: [Titanic dataset from Kaggle](https://www.kaggle.com/competitions/titanic/overview).\n",
        "\n",
        "\n",
        "<br>\n",
        "\n",
        "There are twelve columns in the dataset. The target column is `Survived` which indicates if a passenger survived (1) or not (0). The features initially available are:\n",
        "\n",
        "* `PassengerId`: Numeric, a unique number for each passenger.\n",
        "* `Pclass`: Numeric, the ticket class.\t1 = 1st, 2 = 2nd, 3 = 3rd.\n",
        "* `Name`: Categorical, the name of the passenger.\n",
        "* `Sex`: Categorical, the sex of the passenger.\n",
        "* `Age`: Numeric, the passenger's age in years.\n",
        "* `Sibsp`: Numeric, the number of siblings / spouses aboard the Titanic.\n",
        "* `Parch`: Numeric, the number of parents / children aboard the Titanic.\n",
        "* `Ticket`: Categorical, ticket number.\n",
        "* `Fare`: Numeric, passenger fare.\n",
        "* `Cabin`: Categorical, cabin number.\n",
        "* `Embarked`: Categorical, port of embarkation.\tC = Cherbourg, Q = Queenstown, S = Southampton.\n",
        "\n",
        "\n",
        "<br>\n",
        "\n",
        "To help us decide how to clean our data, we will start with some *light* EDA. Then we will drop any duplicates and unnecessary columns and fill in any values as needed."
      ],
      "metadata": {
        "id": "Ji7AqfTKLQ57"
      }
    },
    {
      "cell_type": "markdown",
      "source": [
        "### **Problem #4.1**\n",
        "\n",
        "Print the first 10 rows of the data."
      ],
      "metadata": {
        "id": "b-soLic_vu7S"
      }
    },
    {
      "cell_type": "code",
      "source": [],
      "metadata": {
        "id": "BwX1p4cz4xIG"
      },
      "execution_count": null,
      "outputs": []
    },
    {
      "cell_type": "markdown",
      "source": [
        "#### **Solution**"
      ],
      "metadata": {
        "id": "VIRi3voV4xng"
      }
    },
    {
      "cell_type": "code",
      "source": [
        "data.head(10)"
      ],
      "metadata": {
        "id": "94BlW-9nLqKv",
        "colab": {
          "base_uri": "https://localhost:8080/",
          "height": 965
        },
        "outputId": "6039daff-ae53-470f-f3aa-dcdc0382af35"
      },
      "execution_count": null,
      "outputs": [
        {
          "output_type": "execute_result",
          "data": {
            "text/plain": [
              "   PassengerId  Survived  Pclass  \\\n",
              "0            1         0       3   \n",
              "1            2         1       1   \n",
              "2            3         1       3   \n",
              "3            4         1       1   \n",
              "4            5         0       3   \n",
              "5            6         0       3   \n",
              "6            7         0       1   \n",
              "7            8         0       3   \n",
              "8            9         1       3   \n",
              "9           10         1       2   \n",
              "\n",
              "                                                Name     Sex   Age  SibSp  \\\n",
              "0                            Braund, Mr. Owen Harris    male  22.0      1   \n",
              "1  Cumings, Mrs. John Bradley (Florence Briggs Th...  female  38.0      1   \n",
              "2                             Heikkinen, Miss. Laina  female  26.0      0   \n",
              "3       Futrelle, Mrs. Jacques Heath (Lily May Peel)  female  35.0      1   \n",
              "4                           Allen, Mr. William Henry    male  35.0      0   \n",
              "5                                   Moran, Mr. James    male   NaN      0   \n",
              "6                            McCarthy, Mr. Timothy J    male  54.0      0   \n",
              "7                     Palsson, Master. Gosta Leonard    male   2.0      3   \n",
              "8  Johnson, Mrs. Oscar W (Elisabeth Vilhelmina Berg)  female  27.0      0   \n",
              "9                Nasser, Mrs. Nicholas (Adele Achem)  female  14.0      1   \n",
              "\n",
              "   Parch            Ticket     Fare Cabin Embarked  \n",
              "0      0         A/5 21171   7.2500   NaN        S  \n",
              "1      0          PC 17599  71.2833   C85        C  \n",
              "2      0  STON/O2. 3101282   7.9250   NaN        S  \n",
              "3      0            113803  53.1000  C123        S  \n",
              "4      0            373450   8.0500   NaN        S  \n",
              "5      0            330877   8.4583   NaN        Q  \n",
              "6      0             17463  51.8625   E46        S  \n",
              "7      1            349909  21.0750   NaN        S  \n",
              "8      2            347742  11.1333   NaN        S  \n",
              "9      0            237736  30.0708   NaN        C  "
            ],
            "text/html": [
              "\n",
              "\n",
              "  <div id=\"df-77d9094c-23ab-42b3-8927-38986ec7e1dc\">\n",
              "    <div class=\"colab-df-container\">\n",
              "      <div>\n",
              "<style scoped>\n",
              "    .dataframe tbody tr th:only-of-type {\n",
              "        vertical-align: middle;\n",
              "    }\n",
              "\n",
              "    .dataframe tbody tr th {\n",
              "        vertical-align: top;\n",
              "    }\n",
              "\n",
              "    .dataframe thead th {\n",
              "        text-align: right;\n",
              "    }\n",
              "</style>\n",
              "<table border=\"1\" class=\"dataframe\">\n",
              "  <thead>\n",
              "    <tr style=\"text-align: right;\">\n",
              "      <th></th>\n",
              "      <th>PassengerId</th>\n",
              "      <th>Survived</th>\n",
              "      <th>Pclass</th>\n",
              "      <th>Name</th>\n",
              "      <th>Sex</th>\n",
              "      <th>Age</th>\n",
              "      <th>SibSp</th>\n",
              "      <th>Parch</th>\n",
              "      <th>Ticket</th>\n",
              "      <th>Fare</th>\n",
              "      <th>Cabin</th>\n",
              "      <th>Embarked</th>\n",
              "    </tr>\n",
              "  </thead>\n",
              "  <tbody>\n",
              "    <tr>\n",
              "      <th>0</th>\n",
              "      <td>1</td>\n",
              "      <td>0</td>\n",
              "      <td>3</td>\n",
              "      <td>Braund, Mr. Owen Harris</td>\n",
              "      <td>male</td>\n",
              "      <td>22.0</td>\n",
              "      <td>1</td>\n",
              "      <td>0</td>\n",
              "      <td>A/5 21171</td>\n",
              "      <td>7.2500</td>\n",
              "      <td>NaN</td>\n",
              "      <td>S</td>\n",
              "    </tr>\n",
              "    <tr>\n",
              "      <th>1</th>\n",
              "      <td>2</td>\n",
              "      <td>1</td>\n",
              "      <td>1</td>\n",
              "      <td>Cumings, Mrs. John Bradley (Florence Briggs Th...</td>\n",
              "      <td>female</td>\n",
              "      <td>38.0</td>\n",
              "      <td>1</td>\n",
              "      <td>0</td>\n",
              "      <td>PC 17599</td>\n",
              "      <td>71.2833</td>\n",
              "      <td>C85</td>\n",
              "      <td>C</td>\n",
              "    </tr>\n",
              "    <tr>\n",
              "      <th>2</th>\n",
              "      <td>3</td>\n",
              "      <td>1</td>\n",
              "      <td>3</td>\n",
              "      <td>Heikkinen, Miss. Laina</td>\n",
              "      <td>female</td>\n",
              "      <td>26.0</td>\n",
              "      <td>0</td>\n",
              "      <td>0</td>\n",
              "      <td>STON/O2. 3101282</td>\n",
              "      <td>7.9250</td>\n",
              "      <td>NaN</td>\n",
              "      <td>S</td>\n",
              "    </tr>\n",
              "    <tr>\n",
              "      <th>3</th>\n",
              "      <td>4</td>\n",
              "      <td>1</td>\n",
              "      <td>1</td>\n",
              "      <td>Futrelle, Mrs. Jacques Heath (Lily May Peel)</td>\n",
              "      <td>female</td>\n",
              "      <td>35.0</td>\n",
              "      <td>1</td>\n",
              "      <td>0</td>\n",
              "      <td>113803</td>\n",
              "      <td>53.1000</td>\n",
              "      <td>C123</td>\n",
              "      <td>S</td>\n",
              "    </tr>\n",
              "    <tr>\n",
              "      <th>4</th>\n",
              "      <td>5</td>\n",
              "      <td>0</td>\n",
              "      <td>3</td>\n",
              "      <td>Allen, Mr. William Henry</td>\n",
              "      <td>male</td>\n",
              "      <td>35.0</td>\n",
              "      <td>0</td>\n",
              "      <td>0</td>\n",
              "      <td>373450</td>\n",
              "      <td>8.0500</td>\n",
              "      <td>NaN</td>\n",
              "      <td>S</td>\n",
              "    </tr>\n",
              "    <tr>\n",
              "      <th>5</th>\n",
              "      <td>6</td>\n",
              "      <td>0</td>\n",
              "      <td>3</td>\n",
              "      <td>Moran, Mr. James</td>\n",
              "      <td>male</td>\n",
              "      <td>NaN</td>\n",
              "      <td>0</td>\n",
              "      <td>0</td>\n",
              "      <td>330877</td>\n",
              "      <td>8.4583</td>\n",
              "      <td>NaN</td>\n",
              "      <td>Q</td>\n",
              "    </tr>\n",
              "    <tr>\n",
              "      <th>6</th>\n",
              "      <td>7</td>\n",
              "      <td>0</td>\n",
              "      <td>1</td>\n",
              "      <td>McCarthy, Mr. Timothy J</td>\n",
              "      <td>male</td>\n",
              "      <td>54.0</td>\n",
              "      <td>0</td>\n",
              "      <td>0</td>\n",
              "      <td>17463</td>\n",
              "      <td>51.8625</td>\n",
              "      <td>E46</td>\n",
              "      <td>S</td>\n",
              "    </tr>\n",
              "    <tr>\n",
              "      <th>7</th>\n",
              "      <td>8</td>\n",
              "      <td>0</td>\n",
              "      <td>3</td>\n",
              "      <td>Palsson, Master. Gosta Leonard</td>\n",
              "      <td>male</td>\n",
              "      <td>2.0</td>\n",
              "      <td>3</td>\n",
              "      <td>1</td>\n",
              "      <td>349909</td>\n",
              "      <td>21.0750</td>\n",
              "      <td>NaN</td>\n",
              "      <td>S</td>\n",
              "    </tr>\n",
              "    <tr>\n",
              "      <th>8</th>\n",
              "      <td>9</td>\n",
              "      <td>1</td>\n",
              "      <td>3</td>\n",
              "      <td>Johnson, Mrs. Oscar W (Elisabeth Vilhelmina Berg)</td>\n",
              "      <td>female</td>\n",
              "      <td>27.0</td>\n",
              "      <td>0</td>\n",
              "      <td>2</td>\n",
              "      <td>347742</td>\n",
              "      <td>11.1333</td>\n",
              "      <td>NaN</td>\n",
              "      <td>S</td>\n",
              "    </tr>\n",
              "    <tr>\n",
              "      <th>9</th>\n",
              "      <td>10</td>\n",
              "      <td>1</td>\n",
              "      <td>2</td>\n",
              "      <td>Nasser, Mrs. Nicholas (Adele Achem)</td>\n",
              "      <td>female</td>\n",
              "      <td>14.0</td>\n",
              "      <td>1</td>\n",
              "      <td>0</td>\n",
              "      <td>237736</td>\n",
              "      <td>30.0708</td>\n",
              "      <td>NaN</td>\n",
              "      <td>C</td>\n",
              "    </tr>\n",
              "  </tbody>\n",
              "</table>\n",
              "</div>\n",
              "      <button class=\"colab-df-convert\" onclick=\"convertToInteractive('df-77d9094c-23ab-42b3-8927-38986ec7e1dc')\"\n",
              "              title=\"Convert this dataframe to an interactive table.\"\n",
              "              style=\"display:none;\">\n",
              "\n",
              "  <svg xmlns=\"http://www.w3.org/2000/svg\" height=\"24px\"viewBox=\"0 0 24 24\"\n",
              "       width=\"24px\">\n",
              "    <path d=\"M0 0h24v24H0V0z\" fill=\"none\"/>\n",
              "    <path d=\"M18.56 5.44l.94 2.06.94-2.06 2.06-.94-2.06-.94-.94-2.06-.94 2.06-2.06.94zm-11 1L8.5 8.5l.94-2.06 2.06-.94-2.06-.94L8.5 2.5l-.94 2.06-2.06.94zm10 10l.94 2.06.94-2.06 2.06-.94-2.06-.94-.94-2.06-.94 2.06-2.06.94z\"/><path d=\"M17.41 7.96l-1.37-1.37c-.4-.4-.92-.59-1.43-.59-.52 0-1.04.2-1.43.59L10.3 9.45l-7.72 7.72c-.78.78-.78 2.05 0 2.83L4 21.41c.39.39.9.59 1.41.59.51 0 1.02-.2 1.41-.59l7.78-7.78 2.81-2.81c.8-.78.8-2.07 0-2.86zM5.41 20L4 18.59l7.72-7.72 1.47 1.35L5.41 20z\"/>\n",
              "  </svg>\n",
              "      </button>\n",
              "\n",
              "\n",
              "\n",
              "    <div id=\"df-a360d380-60c7-4942-9d04-15743956f054\">\n",
              "      <button class=\"colab-df-quickchart\" onclick=\"quickchart('df-a360d380-60c7-4942-9d04-15743956f054')\"\n",
              "              title=\"Suggest charts.\"\n",
              "              style=\"display:none;\">\n",
              "\n",
              "<svg xmlns=\"http://www.w3.org/2000/svg\" height=\"24px\"viewBox=\"0 0 24 24\"\n",
              "     width=\"24px\">\n",
              "    <g>\n",
              "        <path d=\"M19 3H5c-1.1 0-2 .9-2 2v14c0 1.1.9 2 2 2h14c1.1 0 2-.9 2-2V5c0-1.1-.9-2-2-2zM9 17H7v-7h2v7zm4 0h-2V7h2v10zm4 0h-2v-4h2v4z\"/>\n",
              "    </g>\n",
              "</svg>\n",
              "      </button>\n",
              "    </div>\n",
              "\n",
              "<style>\n",
              "  .colab-df-quickchart {\n",
              "    background-color: #E8F0FE;\n",
              "    border: none;\n",
              "    border-radius: 50%;\n",
              "    cursor: pointer;\n",
              "    display: none;\n",
              "    fill: #1967D2;\n",
              "    height: 32px;\n",
              "    padding: 0 0 0 0;\n",
              "    width: 32px;\n",
              "  }\n",
              "\n",
              "  .colab-df-quickchart:hover {\n",
              "    background-color: #E2EBFA;\n",
              "    box-shadow: 0px 1px 2px rgba(60, 64, 67, 0.3), 0px 1px 3px 1px rgba(60, 64, 67, 0.15);\n",
              "    fill: #174EA6;\n",
              "  }\n",
              "\n",
              "  [theme=dark] .colab-df-quickchart {\n",
              "    background-color: #3B4455;\n",
              "    fill: #D2E3FC;\n",
              "  }\n",
              "\n",
              "  [theme=dark] .colab-df-quickchart:hover {\n",
              "    background-color: #434B5C;\n",
              "    box-shadow: 0px 1px 3px 1px rgba(0, 0, 0, 0.15);\n",
              "    filter: drop-shadow(0px 1px 2px rgba(0, 0, 0, 0.3));\n",
              "    fill: #FFFFFF;\n",
              "  }\n",
              "</style>\n",
              "\n",
              "    <script>\n",
              "      async function quickchart(key) {\n",
              "        const containerElement = document.querySelector('#' + key);\n",
              "        const charts = await google.colab.kernel.invokeFunction(\n",
              "            'suggestCharts', [key], {});\n",
              "      }\n",
              "    </script>\n",
              "\n",
              "      <script>\n",
              "\n",
              "function displayQuickchartButton(domScope) {\n",
              "  let quickchartButtonEl =\n",
              "    domScope.querySelector('#df-a360d380-60c7-4942-9d04-15743956f054 button.colab-df-quickchart');\n",
              "  quickchartButtonEl.style.display =\n",
              "    google.colab.kernel.accessAllowed ? 'block' : 'none';\n",
              "}\n",
              "\n",
              "        displayQuickchartButton(document);\n",
              "      </script>\n",
              "      <style>\n",
              "    .colab-df-container {\n",
              "      display:flex;\n",
              "      flex-wrap:wrap;\n",
              "      gap: 12px;\n",
              "    }\n",
              "\n",
              "    .colab-df-convert {\n",
              "      background-color: #E8F0FE;\n",
              "      border: none;\n",
              "      border-radius: 50%;\n",
              "      cursor: pointer;\n",
              "      display: none;\n",
              "      fill: #1967D2;\n",
              "      height: 32px;\n",
              "      padding: 0 0 0 0;\n",
              "      width: 32px;\n",
              "    }\n",
              "\n",
              "    .colab-df-convert:hover {\n",
              "      background-color: #E2EBFA;\n",
              "      box-shadow: 0px 1px 2px rgba(60, 64, 67, 0.3), 0px 1px 3px 1px rgba(60, 64, 67, 0.15);\n",
              "      fill: #174EA6;\n",
              "    }\n",
              "\n",
              "    [theme=dark] .colab-df-convert {\n",
              "      background-color: #3B4455;\n",
              "      fill: #D2E3FC;\n",
              "    }\n",
              "\n",
              "    [theme=dark] .colab-df-convert:hover {\n",
              "      background-color: #434B5C;\n",
              "      box-shadow: 0px 1px 3px 1px rgba(0, 0, 0, 0.15);\n",
              "      filter: drop-shadow(0px 1px 2px rgba(0, 0, 0, 0.3));\n",
              "      fill: #FFFFFF;\n",
              "    }\n",
              "  </style>\n",
              "\n",
              "      <script>\n",
              "        const buttonEl =\n",
              "          document.querySelector('#df-77d9094c-23ab-42b3-8927-38986ec7e1dc button.colab-df-convert');\n",
              "        buttonEl.style.display =\n",
              "          google.colab.kernel.accessAllowed ? 'block' : 'none';\n",
              "\n",
              "        async function convertToInteractive(key) {\n",
              "          const element = document.querySelector('#df-77d9094c-23ab-42b3-8927-38986ec7e1dc');\n",
              "          const dataTable =\n",
              "            await google.colab.kernel.invokeFunction('convertToInteractive',\n",
              "                                                     [key], {});\n",
              "          if (!dataTable) return;\n",
              "\n",
              "          const docLinkHtml = 'Like what you see? Visit the ' +\n",
              "            '<a target=\"_blank\" href=https://colab.research.google.com/notebooks/data_table.ipynb>data table notebook</a>'\n",
              "            + ' to learn more about interactive tables.';\n",
              "          element.innerHTML = '';\n",
              "          dataTable['output_type'] = 'display_data';\n",
              "          await google.colab.output.renderOutput(dataTable, element);\n",
              "          const docLink = document.createElement('div');\n",
              "          docLink.innerHTML = docLinkHtml;\n",
              "          element.appendChild(docLink);\n",
              "        }\n",
              "      </script>\n",
              "    </div>\n",
              "  </div>\n"
            ]
          },
          "metadata": {},
          "execution_count": 20
        }
      ]
    },
    {
      "cell_type": "markdown",
      "source": [
        "### **Problem #4.2**\n",
        "\n",
        "Next, let's check if we have any missing values using the `info()` function."
      ],
      "metadata": {
        "id": "PpqP2XZg92DQ"
      }
    },
    {
      "cell_type": "code",
      "source": [],
      "metadata": {
        "id": "yjc7caDhG618"
      },
      "execution_count": null,
      "outputs": []
    },
    {
      "cell_type": "markdown",
      "source": [
        "#### **Solution**"
      ],
      "metadata": {
        "id": "tOjUmI35G7Mc"
      }
    },
    {
      "cell_type": "code",
      "source": [
        "data.info()"
      ],
      "metadata": {
        "id": "iYa7q65D2F0N",
        "colab": {
          "base_uri": "https://localhost:8080/"
        },
        "outputId": "d6b56421-1787-4060-ae6b-c63e178f250c"
      },
      "execution_count": null,
      "outputs": [
        {
          "output_type": "stream",
          "name": "stdout",
          "text": [
            "<class 'pandas.core.frame.DataFrame'>\n",
            "RangeIndex: 891 entries, 0 to 890\n",
            "Data columns (total 12 columns):\n",
            " #   Column       Non-Null Count  Dtype  \n",
            "---  ------       --------------  -----  \n",
            " 0   PassengerId  891 non-null    int64  \n",
            " 1   Survived     891 non-null    int64  \n",
            " 2   Pclass       891 non-null    int64  \n",
            " 3   Name         891 non-null    object \n",
            " 4   Sex          891 non-null    object \n",
            " 5   Age          714 non-null    float64\n",
            " 6   SibSp        891 non-null    int64  \n",
            " 7   Parch        891 non-null    int64  \n",
            " 8   Ticket       891 non-null    object \n",
            " 9   Fare         891 non-null    float64\n",
            " 10  Cabin        204 non-null    object \n",
            " 11  Embarked     889 non-null    object \n",
            "dtypes: float64(2), int64(5), object(5)\n",
            "memory usage: 83.7+ KB\n"
          ]
        }
      ]
    },
    {
      "cell_type": "markdown",
      "source": [
        "---\n",
        "### **General Questions To Think About**\n",
        "\n",
        "At this point in the process, it's generally good to consider:\n",
        "\n",
        "* Which columns contain missing values?\n",
        "* Why might it not be a good idea to drop all rows with a missing value?\n",
        "* For a numerical feature, what can you fill the missing values with?\n",
        "* For a categorical feature, what can you fill the missing values with?\n",
        "* Are there any columns will not be useful for the analysis? If so, why?\n",
        "\n",
        "\n",
        "<br>\n",
        "\n",
        "**Now that we have some basic information on our dataset, let's do some data cleaning and wrangling.**"
      ],
      "metadata": {
        "id": "4zbLfm2oL9ga"
      }
    },
    {
      "cell_type": "markdown",
      "source": [
        "### **Problem #4.3**\n",
        "\n",
        "Remove duplicates using `drop_duplicates()`."
      ],
      "metadata": {
        "id": "9YaUcbqiwdyq"
      }
    },
    {
      "cell_type": "code",
      "source": [],
      "metadata": {
        "id": "0N5S_2v25PPG"
      },
      "execution_count": null,
      "outputs": []
    },
    {
      "cell_type": "markdown",
      "source": [
        "#### **Solution**"
      ],
      "metadata": {
        "id": "AMY6m2755Pqe"
      }
    },
    {
      "cell_type": "code",
      "source": [
        "data.drop_duplicates(inplace=True)\n",
        "\n",
        "data.info()"
      ],
      "metadata": {
        "id": "IbZQvX8jwj2h",
        "colab": {
          "base_uri": "https://localhost:8080/"
        },
        "outputId": "5763af8d-81d9-440c-820c-b06785bb880e"
      },
      "execution_count": null,
      "outputs": [
        {
          "output_type": "stream",
          "name": "stdout",
          "text": [
            "<class 'pandas.core.frame.DataFrame'>\n",
            "Int64Index: 891 entries, 0 to 890\n",
            "Data columns (total 12 columns):\n",
            " #   Column       Non-Null Count  Dtype  \n",
            "---  ------       --------------  -----  \n",
            " 0   PassengerId  891 non-null    int64  \n",
            " 1   Survived     891 non-null    int64  \n",
            " 2   Pclass       891 non-null    int64  \n",
            " 3   Name         891 non-null    object \n",
            " 4   Sex          891 non-null    object \n",
            " 5   Age          714 non-null    float64\n",
            " 6   SibSp        891 non-null    int64  \n",
            " 7   Parch        891 non-null    int64  \n",
            " 8   Ticket       891 non-null    object \n",
            " 9   Fare         891 non-null    float64\n",
            " 10  Cabin        204 non-null    object \n",
            " 11  Embarked     889 non-null    object \n",
            "dtypes: float64(2), int64(5), object(5)\n",
            "memory usage: 90.5+ KB\n"
          ]
        }
      ]
    },
    {
      "cell_type": "markdown",
      "source": [
        "### **Problem #4.4**\n",
        "\n",
        "Drop the following unnecessary columns: `PassengerId`, `Name`, and `Ticket`."
      ],
      "metadata": {
        "id": "dt1wfEdDwnWx"
      }
    },
    {
      "cell_type": "code",
      "source": [],
      "metadata": {
        "id": "TPnkiEjQ5RTe"
      },
      "execution_count": null,
      "outputs": []
    },
    {
      "cell_type": "markdown",
      "source": [
        "#### **Solution**"
      ],
      "metadata": {
        "id": "YvRxBbFh5Rst"
      }
    },
    {
      "cell_type": "code",
      "source": [
        "#data.drop(['PassengerId', 'Name', 'Ticket'], axis=1, inplace = True)\n",
        "\n",
        "data.head()"
      ],
      "metadata": {
        "id": "Z5Eak2xhw4HR",
        "colab": {
          "base_uri": "https://localhost:8080/",
          "height": 548
        },
        "outputId": "d1ac065a-14e2-4c54-d008-d9024b323f55"
      },
      "execution_count": null,
      "outputs": [
        {
          "output_type": "execute_result",
          "data": {
            "text/plain": [
              "   PassengerId  Survived  Pclass  \\\n",
              "0            1         0       3   \n",
              "1            2         1       1   \n",
              "2            3         1       3   \n",
              "3            4         1       1   \n",
              "4            5         0       3   \n",
              "\n",
              "                                                Name     Sex   Age  SibSp  \\\n",
              "0                            Braund, Mr. Owen Harris    male  22.0      1   \n",
              "1  Cumings, Mrs. John Bradley (Florence Briggs Th...  female  38.0      1   \n",
              "2                             Heikkinen, Miss. Laina  female  26.0      0   \n",
              "3       Futrelle, Mrs. Jacques Heath (Lily May Peel)  female  35.0      1   \n",
              "4                           Allen, Mr. William Henry    male  35.0      0   \n",
              "\n",
              "   Parch            Ticket     Fare Cabin Embarked  \n",
              "0      0         A/5 21171   7.2500   NaN        S  \n",
              "1      0          PC 17599  71.2833   C85        C  \n",
              "2      0  STON/O2. 3101282   7.9250   NaN        S  \n",
              "3      0            113803  53.1000  C123        S  \n",
              "4      0            373450   8.0500   NaN        S  "
            ],
            "text/html": [
              "\n",
              "\n",
              "  <div id=\"df-d8798e26-bdd0-4d76-b4a2-4da5f4dca7a4\">\n",
              "    <div class=\"colab-df-container\">\n",
              "      <div>\n",
              "<style scoped>\n",
              "    .dataframe tbody tr th:only-of-type {\n",
              "        vertical-align: middle;\n",
              "    }\n",
              "\n",
              "    .dataframe tbody tr th {\n",
              "        vertical-align: top;\n",
              "    }\n",
              "\n",
              "    .dataframe thead th {\n",
              "        text-align: right;\n",
              "    }\n",
              "</style>\n",
              "<table border=\"1\" class=\"dataframe\">\n",
              "  <thead>\n",
              "    <tr style=\"text-align: right;\">\n",
              "      <th></th>\n",
              "      <th>PassengerId</th>\n",
              "      <th>Survived</th>\n",
              "      <th>Pclass</th>\n",
              "      <th>Name</th>\n",
              "      <th>Sex</th>\n",
              "      <th>Age</th>\n",
              "      <th>SibSp</th>\n",
              "      <th>Parch</th>\n",
              "      <th>Ticket</th>\n",
              "      <th>Fare</th>\n",
              "      <th>Cabin</th>\n",
              "      <th>Embarked</th>\n",
              "    </tr>\n",
              "  </thead>\n",
              "  <tbody>\n",
              "    <tr>\n",
              "      <th>0</th>\n",
              "      <td>1</td>\n",
              "      <td>0</td>\n",
              "      <td>3</td>\n",
              "      <td>Braund, Mr. Owen Harris</td>\n",
              "      <td>male</td>\n",
              "      <td>22.0</td>\n",
              "      <td>1</td>\n",
              "      <td>0</td>\n",
              "      <td>A/5 21171</td>\n",
              "      <td>7.2500</td>\n",
              "      <td>NaN</td>\n",
              "      <td>S</td>\n",
              "    </tr>\n",
              "    <tr>\n",
              "      <th>1</th>\n",
              "      <td>2</td>\n",
              "      <td>1</td>\n",
              "      <td>1</td>\n",
              "      <td>Cumings, Mrs. John Bradley (Florence Briggs Th...</td>\n",
              "      <td>female</td>\n",
              "      <td>38.0</td>\n",
              "      <td>1</td>\n",
              "      <td>0</td>\n",
              "      <td>PC 17599</td>\n",
              "      <td>71.2833</td>\n",
              "      <td>C85</td>\n",
              "      <td>C</td>\n",
              "    </tr>\n",
              "    <tr>\n",
              "      <th>2</th>\n",
              "      <td>3</td>\n",
              "      <td>1</td>\n",
              "      <td>3</td>\n",
              "      <td>Heikkinen, Miss. Laina</td>\n",
              "      <td>female</td>\n",
              "      <td>26.0</td>\n",
              "      <td>0</td>\n",
              "      <td>0</td>\n",
              "      <td>STON/O2. 3101282</td>\n",
              "      <td>7.9250</td>\n",
              "      <td>NaN</td>\n",
              "      <td>S</td>\n",
              "    </tr>\n",
              "    <tr>\n",
              "      <th>3</th>\n",
              "      <td>4</td>\n",
              "      <td>1</td>\n",
              "      <td>1</td>\n",
              "      <td>Futrelle, Mrs. Jacques Heath (Lily May Peel)</td>\n",
              "      <td>female</td>\n",
              "      <td>35.0</td>\n",
              "      <td>1</td>\n",
              "      <td>0</td>\n",
              "      <td>113803</td>\n",
              "      <td>53.1000</td>\n",
              "      <td>C123</td>\n",
              "      <td>S</td>\n",
              "    </tr>\n",
              "    <tr>\n",
              "      <th>4</th>\n",
              "      <td>5</td>\n",
              "      <td>0</td>\n",
              "      <td>3</td>\n",
              "      <td>Allen, Mr. William Henry</td>\n",
              "      <td>male</td>\n",
              "      <td>35.0</td>\n",
              "      <td>0</td>\n",
              "      <td>0</td>\n",
              "      <td>373450</td>\n",
              "      <td>8.0500</td>\n",
              "      <td>NaN</td>\n",
              "      <td>S</td>\n",
              "    </tr>\n",
              "  </tbody>\n",
              "</table>\n",
              "</div>\n",
              "      <button class=\"colab-df-convert\" onclick=\"convertToInteractive('df-d8798e26-bdd0-4d76-b4a2-4da5f4dca7a4')\"\n",
              "              title=\"Convert this dataframe to an interactive table.\"\n",
              "              style=\"display:none;\">\n",
              "\n",
              "  <svg xmlns=\"http://www.w3.org/2000/svg\" height=\"24px\"viewBox=\"0 0 24 24\"\n",
              "       width=\"24px\">\n",
              "    <path d=\"M0 0h24v24H0V0z\" fill=\"none\"/>\n",
              "    <path d=\"M18.56 5.44l.94 2.06.94-2.06 2.06-.94-2.06-.94-.94-2.06-.94 2.06-2.06.94zm-11 1L8.5 8.5l.94-2.06 2.06-.94-2.06-.94L8.5 2.5l-.94 2.06-2.06.94zm10 10l.94 2.06.94-2.06 2.06-.94-2.06-.94-.94-2.06-.94 2.06-2.06.94z\"/><path d=\"M17.41 7.96l-1.37-1.37c-.4-.4-.92-.59-1.43-.59-.52 0-1.04.2-1.43.59L10.3 9.45l-7.72 7.72c-.78.78-.78 2.05 0 2.83L4 21.41c.39.39.9.59 1.41.59.51 0 1.02-.2 1.41-.59l7.78-7.78 2.81-2.81c.8-.78.8-2.07 0-2.86zM5.41 20L4 18.59l7.72-7.72 1.47 1.35L5.41 20z\"/>\n",
              "  </svg>\n",
              "      </button>\n",
              "\n",
              "\n",
              "\n",
              "    <div id=\"df-b83152eb-dcb5-4ff6-b2da-0692fef8debb\">\n",
              "      <button class=\"colab-df-quickchart\" onclick=\"quickchart('df-b83152eb-dcb5-4ff6-b2da-0692fef8debb')\"\n",
              "              title=\"Suggest charts.\"\n",
              "              style=\"display:none;\">\n",
              "\n",
              "<svg xmlns=\"http://www.w3.org/2000/svg\" height=\"24px\"viewBox=\"0 0 24 24\"\n",
              "     width=\"24px\">\n",
              "    <g>\n",
              "        <path d=\"M19 3H5c-1.1 0-2 .9-2 2v14c0 1.1.9 2 2 2h14c1.1 0 2-.9 2-2V5c0-1.1-.9-2-2-2zM9 17H7v-7h2v7zm4 0h-2V7h2v10zm4 0h-2v-4h2v4z\"/>\n",
              "    </g>\n",
              "</svg>\n",
              "      </button>\n",
              "    </div>\n",
              "\n",
              "<style>\n",
              "  .colab-df-quickchart {\n",
              "    background-color: #E8F0FE;\n",
              "    border: none;\n",
              "    border-radius: 50%;\n",
              "    cursor: pointer;\n",
              "    display: none;\n",
              "    fill: #1967D2;\n",
              "    height: 32px;\n",
              "    padding: 0 0 0 0;\n",
              "    width: 32px;\n",
              "  }\n",
              "\n",
              "  .colab-df-quickchart:hover {\n",
              "    background-color: #E2EBFA;\n",
              "    box-shadow: 0px 1px 2px rgba(60, 64, 67, 0.3), 0px 1px 3px 1px rgba(60, 64, 67, 0.15);\n",
              "    fill: #174EA6;\n",
              "  }\n",
              "\n",
              "  [theme=dark] .colab-df-quickchart {\n",
              "    background-color: #3B4455;\n",
              "    fill: #D2E3FC;\n",
              "  }\n",
              "\n",
              "  [theme=dark] .colab-df-quickchart:hover {\n",
              "    background-color: #434B5C;\n",
              "    box-shadow: 0px 1px 3px 1px rgba(0, 0, 0, 0.15);\n",
              "    filter: drop-shadow(0px 1px 2px rgba(0, 0, 0, 0.3));\n",
              "    fill: #FFFFFF;\n",
              "  }\n",
              "</style>\n",
              "\n",
              "    <script>\n",
              "      async function quickchart(key) {\n",
              "        const containerElement = document.querySelector('#' + key);\n",
              "        const charts = await google.colab.kernel.invokeFunction(\n",
              "            'suggestCharts', [key], {});\n",
              "      }\n",
              "    </script>\n",
              "\n",
              "      <script>\n",
              "\n",
              "function displayQuickchartButton(domScope) {\n",
              "  let quickchartButtonEl =\n",
              "    domScope.querySelector('#df-b83152eb-dcb5-4ff6-b2da-0692fef8debb button.colab-df-quickchart');\n",
              "  quickchartButtonEl.style.display =\n",
              "    google.colab.kernel.accessAllowed ? 'block' : 'none';\n",
              "}\n",
              "\n",
              "        displayQuickchartButton(document);\n",
              "      </script>\n",
              "      <style>\n",
              "    .colab-df-container {\n",
              "      display:flex;\n",
              "      flex-wrap:wrap;\n",
              "      gap: 12px;\n",
              "    }\n",
              "\n",
              "    .colab-df-convert {\n",
              "      background-color: #E8F0FE;\n",
              "      border: none;\n",
              "      border-radius: 50%;\n",
              "      cursor: pointer;\n",
              "      display: none;\n",
              "      fill: #1967D2;\n",
              "      height: 32px;\n",
              "      padding: 0 0 0 0;\n",
              "      width: 32px;\n",
              "    }\n",
              "\n",
              "    .colab-df-convert:hover {\n",
              "      background-color: #E2EBFA;\n",
              "      box-shadow: 0px 1px 2px rgba(60, 64, 67, 0.3), 0px 1px 3px 1px rgba(60, 64, 67, 0.15);\n",
              "      fill: #174EA6;\n",
              "    }\n",
              "\n",
              "    [theme=dark] .colab-df-convert {\n",
              "      background-color: #3B4455;\n",
              "      fill: #D2E3FC;\n",
              "    }\n",
              "\n",
              "    [theme=dark] .colab-df-convert:hover {\n",
              "      background-color: #434B5C;\n",
              "      box-shadow: 0px 1px 3px 1px rgba(0, 0, 0, 0.15);\n",
              "      filter: drop-shadow(0px 1px 2px rgba(0, 0, 0, 0.3));\n",
              "      fill: #FFFFFF;\n",
              "    }\n",
              "  </style>\n",
              "\n",
              "      <script>\n",
              "        const buttonEl =\n",
              "          document.querySelector('#df-d8798e26-bdd0-4d76-b4a2-4da5f4dca7a4 button.colab-df-convert');\n",
              "        buttonEl.style.display =\n",
              "          google.colab.kernel.accessAllowed ? 'block' : 'none';\n",
              "\n",
              "        async function convertToInteractive(key) {\n",
              "          const element = document.querySelector('#df-d8798e26-bdd0-4d76-b4a2-4da5f4dca7a4');\n",
              "          const dataTable =\n",
              "            await google.colab.kernel.invokeFunction('convertToInteractive',\n",
              "                                                     [key], {});\n",
              "          if (!dataTable) return;\n",
              "\n",
              "          const docLinkHtml = 'Like what you see? Visit the ' +\n",
              "            '<a target=\"_blank\" href=https://colab.research.google.com/notebooks/data_table.ipynb>data table notebook</a>'\n",
              "            + ' to learn more about interactive tables.';\n",
              "          element.innerHTML = '';\n",
              "          dataTable['output_type'] = 'display_data';\n",
              "          await google.colab.output.renderOutput(dataTable, element);\n",
              "          const docLink = document.createElement('div');\n",
              "          docLink.innerHTML = docLinkHtml;\n",
              "          element.appendChild(docLink);\n",
              "        }\n",
              "      </script>\n",
              "    </div>\n",
              "  </div>\n"
            ]
          },
          "metadata": {},
          "execution_count": 54
        }
      ]
    },
    {
      "cell_type": "markdown",
      "source": [
        "### **Problem #4.5**\n",
        "\n",
        "Fill missing values in the `Embarked` column with the most frequent value (mode).\n"
      ],
      "metadata": {
        "id": "202R6dLMxArK"
      }
    },
    {
      "cell_type": "code",
      "source": [
        "most_frequent = data['Embarked'].mode()[0]\n",
        "\n",
        "# COMPLETE THIS CODE"
      ],
      "metadata": {
        "id": "pWoFJ0Xn5TUJ",
        "colab": {
          "base_uri": "https://localhost:8080/"
        },
        "outputId": "f3b9dc56-d70d-4040-93a7-59ef3428de47"
      },
      "execution_count": null,
      "outputs": [
        {
          "output_type": "stream",
          "name": "stdout",
          "text": [
            "0    S\n",
            "Name: Embarked, dtype: object\n"
          ]
        }
      ]
    },
    {
      "cell_type": "markdown",
      "source": [
        "#### **Solution**"
      ],
      "metadata": {
        "id": "nNuJtisy5UR9"
      }
    },
    {
      "cell_type": "code",
      "source": [
        "most_frequent = data['Embarked'].mode()[0]\n",
        "\n",
        "data['Embarked'] = data['Embarked'].fillna(most_frequent)"
      ],
      "metadata": {
        "id": "G4BeDqwtw_lX"
      },
      "execution_count": null,
      "outputs": []
    },
    {
      "cell_type": "markdown",
      "source": [
        "### **Problem #4.6**\n",
        "\n",
        "Fill missing values in the `Age` column with the median value.\n"
      ],
      "metadata": {
        "id": "g5r-t0K9-W3a"
      }
    },
    {
      "cell_type": "code",
      "source": [
        "median_age = data['Age'].median()\n",
        "\n",
        "# COMPLETE THIS CODE"
      ],
      "metadata": {
        "id": "rltP1H_U-W3a"
      },
      "execution_count": null,
      "outputs": []
    },
    {
      "cell_type": "markdown",
      "source": [
        "#### **Solution**"
      ],
      "metadata": {
        "id": "zndQcu3--W3b"
      }
    },
    {
      "cell_type": "code",
      "source": [
        "median_age = data['Age'].median()\n",
        "\n",
        "data['Age'] = data['Age'].fillna(median_age)"
      ],
      "metadata": {
        "id": "sEOVaftp-W3b"
      },
      "execution_count": null,
      "outputs": []
    },
    {
      "cell_type": "markdown",
      "source": [
        "### **Problem #4.7**\n",
        "\n",
        "Create a new feature `FamilySize` by adding the columns `SibSp` and `Parch` and including the ticket-holder themselves.\n"
      ],
      "metadata": {
        "id": "6BaL1gMi0Fd1"
      }
    },
    {
      "cell_type": "code",
      "source": [],
      "metadata": {
        "id": "wQ-xHV--5V7_"
      },
      "execution_count": null,
      "outputs": []
    },
    {
      "cell_type": "markdown",
      "source": [
        "#### **Solution**"
      ],
      "metadata": {
        "id": "1cKQVNN55WT8"
      }
    },
    {
      "cell_type": "code",
      "source": [
        "data['FamilySize'] = data['SibSp'] + data['Parch'] + 1"
      ],
      "metadata": {
        "id": "2baYzt240OEk"
      },
      "execution_count": null,
      "outputs": []
    },
    {
      "cell_type": "markdown",
      "source": [
        "### **Problem #4.8**\n",
        "\n",
        "Create a new feature 'AgeClass' which is the product of 'Age' and 'Pclass'. This feature can be useful as it combines age and class, two important factors for survival.\n"
      ],
      "metadata": {
        "id": "tYmwKrbXhtOa"
      }
    },
    {
      "cell_type": "code",
      "source": [],
      "metadata": {
        "id": "Nf8W7wwwhtOp"
      },
      "execution_count": null,
      "outputs": []
    },
    {
      "cell_type": "markdown",
      "source": [
        "#### **Solution**"
      ],
      "metadata": {
        "id": "-TKPqihxhtOp"
      }
    },
    {
      "cell_type": "code",
      "source": [
        "data['AgeClass'] = data['Age'] * data['Pclass']"
      ],
      "metadata": {
        "id": "cZzk9A57htOp"
      },
      "execution_count": null,
      "outputs": []
    },
    {
      "cell_type": "markdown",
      "source": [
        "### **Problem #4.9**\n",
        "\n",
        "Create a new feature 'HasCabin' which is True if the 'Cabin' information does not exist (NaN) and False otherwise."
      ],
      "metadata": {
        "id": "2nH9mOmmjYEU"
      }
    },
    {
      "cell_type": "code",
      "source": [],
      "metadata": {
        "id": "IYq_SsjMjYEg"
      },
      "execution_count": null,
      "outputs": []
    },
    {
      "cell_type": "markdown",
      "source": [
        "#### **Solution**"
      ],
      "metadata": {
        "id": "1rIcikmNjYEg"
      }
    },
    {
      "cell_type": "code",
      "source": [
        "data['HasCabin'] = ~data['Cabin'].notnull()"
      ],
      "metadata": {
        "colab": {
          "base_uri": "https://localhost:8080/",
          "height": 548
        },
        "id": "O30YjD6OjYEg",
        "outputId": "5c04e59a-1fa5-4d6e-b162-f67415b52deb"
      },
      "execution_count": null,
      "outputs": [
        {
          "output_type": "execute_result",
          "data": {
            "text/plain": [
              "   PassengerId  Survived  Pclass  \\\n",
              "0            1         0       3   \n",
              "1            2         1       1   \n",
              "2            3         1       3   \n",
              "3            4         1       1   \n",
              "4            5         0       3   \n",
              "\n",
              "                                                Name     Sex  Age  SibSp  \\\n",
              "0                            Braund, Mr. Owen Harris    male   22      1   \n",
              "1  Cumings, Mrs. John Bradley (Florence Briggs Th...  female   38      1   \n",
              "2                             Heikkinen, Miss. Laina  female   26      0   \n",
              "3       Futrelle, Mrs. Jacques Heath (Lily May Peel)  female   35      1   \n",
              "4                           Allen, Mr. William Henry    male   35      0   \n",
              "\n",
              "   Parch            Ticket     Fare Cabin Embarked  HasCabin  \n",
              "0      0         A/5 21171   7.2500   NaN        S      True  \n",
              "1      0          PC 17599  71.2833   C85        C     False  \n",
              "2      0  STON/O2. 3101282   7.9250   NaN        S      True  \n",
              "3      0            113803  53.1000  C123        S     False  \n",
              "4      0            373450   8.0500   NaN        S      True  "
            ],
            "text/html": [
              "\n",
              "\n",
              "  <div id=\"df-9d153405-71af-4936-a445-b118fa644afd\">\n",
              "    <div class=\"colab-df-container\">\n",
              "      <div>\n",
              "<style scoped>\n",
              "    .dataframe tbody tr th:only-of-type {\n",
              "        vertical-align: middle;\n",
              "    }\n",
              "\n",
              "    .dataframe tbody tr th {\n",
              "        vertical-align: top;\n",
              "    }\n",
              "\n",
              "    .dataframe thead th {\n",
              "        text-align: right;\n",
              "    }\n",
              "</style>\n",
              "<table border=\"1\" class=\"dataframe\">\n",
              "  <thead>\n",
              "    <tr style=\"text-align: right;\">\n",
              "      <th></th>\n",
              "      <th>PassengerId</th>\n",
              "      <th>Survived</th>\n",
              "      <th>Pclass</th>\n",
              "      <th>Name</th>\n",
              "      <th>Sex</th>\n",
              "      <th>Age</th>\n",
              "      <th>SibSp</th>\n",
              "      <th>Parch</th>\n",
              "      <th>Ticket</th>\n",
              "      <th>Fare</th>\n",
              "      <th>Cabin</th>\n",
              "      <th>Embarked</th>\n",
              "      <th>HasCabin</th>\n",
              "    </tr>\n",
              "  </thead>\n",
              "  <tbody>\n",
              "    <tr>\n",
              "      <th>0</th>\n",
              "      <td>1</td>\n",
              "      <td>0</td>\n",
              "      <td>3</td>\n",
              "      <td>Braund, Mr. Owen Harris</td>\n",
              "      <td>male</td>\n",
              "      <td>22</td>\n",
              "      <td>1</td>\n",
              "      <td>0</td>\n",
              "      <td>A/5 21171</td>\n",
              "      <td>7.2500</td>\n",
              "      <td>NaN</td>\n",
              "      <td>S</td>\n",
              "      <td>True</td>\n",
              "    </tr>\n",
              "    <tr>\n",
              "      <th>1</th>\n",
              "      <td>2</td>\n",
              "      <td>1</td>\n",
              "      <td>1</td>\n",
              "      <td>Cumings, Mrs. John Bradley (Florence Briggs Th...</td>\n",
              "      <td>female</td>\n",
              "      <td>38</td>\n",
              "      <td>1</td>\n",
              "      <td>0</td>\n",
              "      <td>PC 17599</td>\n",
              "      <td>71.2833</td>\n",
              "      <td>C85</td>\n",
              "      <td>C</td>\n",
              "      <td>False</td>\n",
              "    </tr>\n",
              "    <tr>\n",
              "      <th>2</th>\n",
              "      <td>3</td>\n",
              "      <td>1</td>\n",
              "      <td>3</td>\n",
              "      <td>Heikkinen, Miss. Laina</td>\n",
              "      <td>female</td>\n",
              "      <td>26</td>\n",
              "      <td>0</td>\n",
              "      <td>0</td>\n",
              "      <td>STON/O2. 3101282</td>\n",
              "      <td>7.9250</td>\n",
              "      <td>NaN</td>\n",
              "      <td>S</td>\n",
              "      <td>True</td>\n",
              "    </tr>\n",
              "    <tr>\n",
              "      <th>3</th>\n",
              "      <td>4</td>\n",
              "      <td>1</td>\n",
              "      <td>1</td>\n",
              "      <td>Futrelle, Mrs. Jacques Heath (Lily May Peel)</td>\n",
              "      <td>female</td>\n",
              "      <td>35</td>\n",
              "      <td>1</td>\n",
              "      <td>0</td>\n",
              "      <td>113803</td>\n",
              "      <td>53.1000</td>\n",
              "      <td>C123</td>\n",
              "      <td>S</td>\n",
              "      <td>False</td>\n",
              "    </tr>\n",
              "    <tr>\n",
              "      <th>4</th>\n",
              "      <td>5</td>\n",
              "      <td>0</td>\n",
              "      <td>3</td>\n",
              "      <td>Allen, Mr. William Henry</td>\n",
              "      <td>male</td>\n",
              "      <td>35</td>\n",
              "      <td>0</td>\n",
              "      <td>0</td>\n",
              "      <td>373450</td>\n",
              "      <td>8.0500</td>\n",
              "      <td>NaN</td>\n",
              "      <td>S</td>\n",
              "      <td>True</td>\n",
              "    </tr>\n",
              "  </tbody>\n",
              "</table>\n",
              "</div>\n",
              "      <button class=\"colab-df-convert\" onclick=\"convertToInteractive('df-9d153405-71af-4936-a445-b118fa644afd')\"\n",
              "              title=\"Convert this dataframe to an interactive table.\"\n",
              "              style=\"display:none;\">\n",
              "\n",
              "  <svg xmlns=\"http://www.w3.org/2000/svg\" height=\"24px\"viewBox=\"0 0 24 24\"\n",
              "       width=\"24px\">\n",
              "    <path d=\"M0 0h24v24H0V0z\" fill=\"none\"/>\n",
              "    <path d=\"M18.56 5.44l.94 2.06.94-2.06 2.06-.94-2.06-.94-.94-2.06-.94 2.06-2.06.94zm-11 1L8.5 8.5l.94-2.06 2.06-.94-2.06-.94L8.5 2.5l-.94 2.06-2.06.94zm10 10l.94 2.06.94-2.06 2.06-.94-2.06-.94-.94-2.06-.94 2.06-2.06.94z\"/><path d=\"M17.41 7.96l-1.37-1.37c-.4-.4-.92-.59-1.43-.59-.52 0-1.04.2-1.43.59L10.3 9.45l-7.72 7.72c-.78.78-.78 2.05 0 2.83L4 21.41c.39.39.9.59 1.41.59.51 0 1.02-.2 1.41-.59l7.78-7.78 2.81-2.81c.8-.78.8-2.07 0-2.86zM5.41 20L4 18.59l7.72-7.72 1.47 1.35L5.41 20z\"/>\n",
              "  </svg>\n",
              "      </button>\n",
              "\n",
              "\n",
              "\n",
              "    <div id=\"df-c52cae87-4ec4-422e-b21e-5d3667f988b3\">\n",
              "      <button class=\"colab-df-quickchart\" onclick=\"quickchart('df-c52cae87-4ec4-422e-b21e-5d3667f988b3')\"\n",
              "              title=\"Suggest charts.\"\n",
              "              style=\"display:none;\">\n",
              "\n",
              "<svg xmlns=\"http://www.w3.org/2000/svg\" height=\"24px\"viewBox=\"0 0 24 24\"\n",
              "     width=\"24px\">\n",
              "    <g>\n",
              "        <path d=\"M19 3H5c-1.1 0-2 .9-2 2v14c0 1.1.9 2 2 2h14c1.1 0 2-.9 2-2V5c0-1.1-.9-2-2-2zM9 17H7v-7h2v7zm4 0h-2V7h2v10zm4 0h-2v-4h2v4z\"/>\n",
              "    </g>\n",
              "</svg>\n",
              "      </button>\n",
              "    </div>\n",
              "\n",
              "<style>\n",
              "  .colab-df-quickchart {\n",
              "    background-color: #E8F0FE;\n",
              "    border: none;\n",
              "    border-radius: 50%;\n",
              "    cursor: pointer;\n",
              "    display: none;\n",
              "    fill: #1967D2;\n",
              "    height: 32px;\n",
              "    padding: 0 0 0 0;\n",
              "    width: 32px;\n",
              "  }\n",
              "\n",
              "  .colab-df-quickchart:hover {\n",
              "    background-color: #E2EBFA;\n",
              "    box-shadow: 0px 1px 2px rgba(60, 64, 67, 0.3), 0px 1px 3px 1px rgba(60, 64, 67, 0.15);\n",
              "    fill: #174EA6;\n",
              "  }\n",
              "\n",
              "  [theme=dark] .colab-df-quickchart {\n",
              "    background-color: #3B4455;\n",
              "    fill: #D2E3FC;\n",
              "  }\n",
              "\n",
              "  [theme=dark] .colab-df-quickchart:hover {\n",
              "    background-color: #434B5C;\n",
              "    box-shadow: 0px 1px 3px 1px rgba(0, 0, 0, 0.15);\n",
              "    filter: drop-shadow(0px 1px 2px rgba(0, 0, 0, 0.3));\n",
              "    fill: #FFFFFF;\n",
              "  }\n",
              "</style>\n",
              "\n",
              "    <script>\n",
              "      async function quickchart(key) {\n",
              "        const containerElement = document.querySelector('#' + key);\n",
              "        const charts = await google.colab.kernel.invokeFunction(\n",
              "            'suggestCharts', [key], {});\n",
              "      }\n",
              "    </script>\n",
              "\n",
              "      <script>\n",
              "\n",
              "function displayQuickchartButton(domScope) {\n",
              "  let quickchartButtonEl =\n",
              "    domScope.querySelector('#df-c52cae87-4ec4-422e-b21e-5d3667f988b3 button.colab-df-quickchart');\n",
              "  quickchartButtonEl.style.display =\n",
              "    google.colab.kernel.accessAllowed ? 'block' : 'none';\n",
              "}\n",
              "\n",
              "        displayQuickchartButton(document);\n",
              "      </script>\n",
              "      <style>\n",
              "    .colab-df-container {\n",
              "      display:flex;\n",
              "      flex-wrap:wrap;\n",
              "      gap: 12px;\n",
              "    }\n",
              "\n",
              "    .colab-df-convert {\n",
              "      background-color: #E8F0FE;\n",
              "      border: none;\n",
              "      border-radius: 50%;\n",
              "      cursor: pointer;\n",
              "      display: none;\n",
              "      fill: #1967D2;\n",
              "      height: 32px;\n",
              "      padding: 0 0 0 0;\n",
              "      width: 32px;\n",
              "    }\n",
              "\n",
              "    .colab-df-convert:hover {\n",
              "      background-color: #E2EBFA;\n",
              "      box-shadow: 0px 1px 2px rgba(60, 64, 67, 0.3), 0px 1px 3px 1px rgba(60, 64, 67, 0.15);\n",
              "      fill: #174EA6;\n",
              "    }\n",
              "\n",
              "    [theme=dark] .colab-df-convert {\n",
              "      background-color: #3B4455;\n",
              "      fill: #D2E3FC;\n",
              "    }\n",
              "\n",
              "    [theme=dark] .colab-df-convert:hover {\n",
              "      background-color: #434B5C;\n",
              "      box-shadow: 0px 1px 3px 1px rgba(0, 0, 0, 0.15);\n",
              "      filter: drop-shadow(0px 1px 2px rgba(0, 0, 0, 0.3));\n",
              "      fill: #FFFFFF;\n",
              "    }\n",
              "  </style>\n",
              "\n",
              "      <script>\n",
              "        const buttonEl =\n",
              "          document.querySelector('#df-9d153405-71af-4936-a445-b118fa644afd button.colab-df-convert');\n",
              "        buttonEl.style.display =\n",
              "          google.colab.kernel.accessAllowed ? 'block' : 'none';\n",
              "\n",
              "        async function convertToInteractive(key) {\n",
              "          const element = document.querySelector('#df-9d153405-71af-4936-a445-b118fa644afd');\n",
              "          const dataTable =\n",
              "            await google.colab.kernel.invokeFunction('convertToInteractive',\n",
              "                                                     [key], {});\n",
              "          if (!dataTable) return;\n",
              "\n",
              "          const docLinkHtml = 'Like what you see? Visit the ' +\n",
              "            '<a target=\"_blank\" href=https://colab.research.google.com/notebooks/data_table.ipynb>data table notebook</a>'\n",
              "            + ' to learn more about interactive tables.';\n",
              "          element.innerHTML = '';\n",
              "          dataTable['output_type'] = 'display_data';\n",
              "          await google.colab.output.renderOutput(dataTable, element);\n",
              "          const docLink = document.createElement('div');\n",
              "          docLink.innerHTML = docLinkHtml;\n",
              "          element.appendChild(docLink);\n",
              "        }\n",
              "      </script>\n",
              "    </div>\n",
              "  </div>\n"
            ]
          },
          "metadata": {},
          "execution_count": 64
        }
      ]
    },
    {
      "cell_type": "markdown",
      "source": [
        "### **Problem #4.10**\n",
        "\n",
        "The `Age` column is in float format. Convert the `Age` column to integer data type."
      ],
      "metadata": {
        "id": "ats7T-KIkDMi"
      }
    },
    {
      "cell_type": "code",
      "source": [],
      "metadata": {
        "id": "QjfIa760kIjY"
      },
      "execution_count": null,
      "outputs": []
    },
    {
      "cell_type": "markdown",
      "source": [
        "####**Solution**"
      ],
      "metadata": {
        "id": "ZJ0hoMy2kI6u"
      }
    },
    {
      "cell_type": "code",
      "source": [
        "data['Age'] = data['Age'].astype(int)"
      ],
      "metadata": {
        "id": "abdzaVVckMtI"
      },
      "execution_count": null,
      "outputs": []
    },
    {
      "cell_type": "markdown",
      "source": [
        "### **Now, we will explore and visualize the data to gain insight into what factors contribute to a passenger's survival.**\n",
        "\n",
        "\n",
        "**NOTE**: Because we will eventually use this data to build ML models, it is necessary to split the data into a training and validation set *before* we do EDA. Not doing so is an example of how data leakage can occur.\n",
        "\n",
        "We can split the dataframe in `pandas` using the `sample()` function. **You do not need to remember this.**\n",
        "\n",
        "\n",
        "**Run the code below to split the dataset.**"
      ],
      "metadata": {
        "id": "PRXvpimQ4hdz"
      }
    },
    {
      "cell_type": "code",
      "source": [
        "train = data.sample(frac = 0.8)\n",
        "\n",
        "# Creating dataframe with the remaining 20%\n",
        "validation = data.drop(train.index)"
      ],
      "metadata": {
        "id": "wjueNffl3xsg"
      },
      "execution_count": null,
      "outputs": []
    },
    {
      "cell_type": "markdown",
      "source": [
        "### **Problem #4.11**\n",
        "\n",
        "Create a bar plot that shows passenger counts by their sex.\n",
        "\n",
        "**Hint:** Use `value_counts()`."
      ],
      "metadata": {
        "id": "BSxVIXuEaEYp"
      }
    },
    {
      "cell_type": "code",
      "source": [
        "mf_counts = train# COMPLETE THIS LINE\n",
        "\n",
        "\n",
        "plt.bar(mf_counts.index, mf_counts.values)\n",
        "\n",
        "plt.title(# COMPLETE THIS LINE\n",
        "plt.xlabel(# COMPLETE THIS LINE\n",
        "plt.ylabel(# COMPLETE THIS LINE\n",
        "\n",
        "plt.show()"
      ],
      "metadata": {
        "id": "OgGxETGwad9R"
      },
      "execution_count": null,
      "outputs": []
    },
    {
      "cell_type": "markdown",
      "source": [
        "#### **Solution**"
      ],
      "metadata": {
        "id": "SFcLBENaaeZn"
      }
    },
    {
      "cell_type": "code",
      "source": [
        "mf_counts = train['Sex'].value_counts()\n",
        "\n",
        "\n",
        "plt.bar(mf_counts.index, mf_counts.values)\n",
        "\n",
        "plt.title('Passenger Counts by Sex')\n",
        "plt.xlabel('Sex')\n",
        "plt.ylabel('Count')\n",
        "\n",
        "plt.show()"
      ],
      "metadata": {
        "id": "BaPWYhH98LUC",
        "colab": {
          "base_uri": "https://localhost:8080/",
          "height": 472
        },
        "outputId": "20e65c45-f6e0-4327-86c4-2d477b9e3912"
      },
      "execution_count": null,
      "outputs": [
        {
          "output_type": "display_data",
          "data": {
            "text/plain": [
              "<Figure size 640x480 with 1 Axes>"
            ],
            "image/png": "[encoded data removed]"
          },
          "metadata": {}
        }
      ]
    },
    {
      "cell_type": "markdown",
      "source": [
        "### **Problem #4.12**\n",
        "\n",
        "Make a scatter plot of `Age` vs. `Fare`."
      ],
      "metadata": {
        "id": "gGpNPvP-dAz6"
      }
    },
    {
      "cell_type": "code",
      "source": [],
      "metadata": {
        "id": "7RtEWhE4dTp5"
      },
      "execution_count": null,
      "outputs": []
    },
    {
      "cell_type": "markdown",
      "source": [
        "#### **Solution**"
      ],
      "metadata": {
        "id": "ecsQk5WadUFP"
      }
    },
    {
      "cell_type": "code",
      "source": [
        "plt.scatter(train['Age'], train['Fare'])\n",
        "\n",
        "plt.title('Age vs Fare')\n",
        "plt.xlabel('Age')\n",
        "plt.ylabel('Fare')\n",
        "\n",
        "plt.show()"
      ],
      "metadata": {
        "id": "-PY3hxMr5yQO",
        "colab": {
          "base_uri": "https://localhost:8080/",
          "height": 472
        },
        "outputId": "3d4c3452-4870-4ee3-a84d-69a6e9f7f89a"
      },
      "execution_count": null,
      "outputs": [
        {
          "output_type": "display_data",
          "data": {
            "text/plain": [
              "<Figure size 640x480 with 1 Axes>"
            ],
            "image/png": "[encoded data removed]"
          },
          "metadata": {}
        }
      ]
    },
    {
      "cell_type": "markdown",
      "source": [
        "### **Define the `plot_survival(column)` function.**\n",
        "\n",
        "To wrap up, you will need to answer several questions about this dataset using your work above, what you have learned about pandas and matplotlib, and a plotting function we've defined below.\n",
        "\n",
        "<br>\n",
        "\n",
        "This function, `plot_survival(column)` makes bar plots of survival rates and counts of any categorical variable passed in as `column`.\n",
        "\n",
        "**Run the code below to define this plotting function.**"
      ],
      "metadata": {
        "id": "gey1vQ06MaK0"
      }
    },
    {
      "cell_type": "code",
      "source": [
        "def plot_survival(column):\n",
        "  survival_rate = train.groupby(column)['Survived'].mean()\n",
        "\n",
        "\n",
        "  # create a bar plot for survival rate\n",
        "  fig, (ax1, ax2) = plt.subplots(1,2,figsize=(10,5))\n",
        "  ax1.bar(x=survival_rate.index, height=survival_rate.values, color=['tab:blue'])\n",
        "  ax1.set_ylabel('Survival rate')\n",
        "  ax1.set_xlabel(column)\n",
        "\n",
        "  # create a count plot for a given column\n",
        "  counts = train.groupby([column, 'Survived']).size().unstack()\n",
        "  width = 0.5\n",
        "  x = counts.index\n",
        "  survived = counts[1]\n",
        "  not_survived = counts[0]\n",
        "  ax2.bar(x, survived, width, label='Survived', color='tab:blue')\n",
        "  ax2.bar(x, not_survived, width, bottom=survived, label='Not Survived', color='tab:orange')\n",
        "\n",
        "  # set the labels and legend\n",
        "  ax2.set_ylabel('Counts')\n",
        "  ax2.set_xlabel(column)\n",
        "  ax2.legend()\n",
        "  plt.show()"
      ],
      "metadata": {
        "id": "OmorV_rNlB-f"
      },
      "execution_count": null,
      "outputs": []
    },
    {
      "cell_type": "markdown",
      "source": [
        "**Below is an example of how to use the function. Run the cell below to plot survival by sex.**"
      ],
      "metadata": {
        "id": "2a1vdxhoeAg9"
      }
    },
    {
      "cell_type": "code",
      "source": [
        "plot_survival('Sex')"
      ],
      "metadata": {
        "id": "FBxgEvH4cPNH",
        "colab": {
          "base_uri": "https://localhost:8080/",
          "height": 440
        },
        "outputId": "241b8998-5b7e-4fd3-c0dd-1efa17b4a35f"
      },
      "execution_count": null,
      "outputs": [
        {
          "output_type": "display_data",
          "data": {
            "text/plain": [
              "<Figure size 1000x500 with 2 Axes>"
            ],
            "image/png": "[encoded data removed]"
          },
          "metadata": {}
        }
      ]
    },
    {
      "cell_type": "markdown",
      "source": [
        "### **Problem #4.13**\n",
        "\n",
        "How many passengers survived vs. didn't survive?\n",
        "\n",
        "**Hint**: This is a matter of *counting* how many *values* of the `Survived` column are 0 (didn't survive) vs. 1 (did survive)."
      ],
      "metadata": {
        "id": "-6a_iVoTOW4_"
      }
    },
    {
      "cell_type": "code",
      "source": [],
      "metadata": {
        "id": "5kWQCtjCRqu1"
      },
      "execution_count": null,
      "outputs": []
    },
    {
      "cell_type": "markdown",
      "source": [
        "#### **Solution**"
      ],
      "metadata": {
        "id": "Ut1A-nBpOW5A"
      }
    },
    {
      "cell_type": "code",
      "source": [
        "train['Survived'].value_counts()"
      ],
      "metadata": {
        "colab": {
          "base_uri": "https://localhost:8080/"
        },
        "id": "1WyIvhUFOm4g",
        "outputId": "77a931cb-7114-4c97-8f3c-d93ae0223ea4"
      },
      "execution_count": null,
      "outputs": [
        {
          "output_type": "execute_result",
          "data": {
            "text/plain": [
              "0    441\n",
              "1    272\n",
              "Name: Survived, dtype: int64"
            ]
          },
          "metadata": {},
          "execution_count": 35
        }
      ]
    },
    {
      "cell_type": "markdown",
      "source": [
        "### **Problem #4.14**\n",
        "\n",
        "How did passenger class affect survival rates?\n",
        "\n",
        "**Hint**: This is the kind of question that the `plot_survival(column)` function can help with. Furthermore, if you don't remember an exact column name off the top of your head, it can be useful to print out `train.columns` to see a list of all available columns."
      ],
      "metadata": {
        "id": "UXfpupuOPqCI"
      }
    },
    {
      "cell_type": "code",
      "source": [],
      "metadata": {
        "id": "ZUVTFWrnPqCS"
      },
      "execution_count": null,
      "outputs": []
    },
    {
      "cell_type": "markdown",
      "source": [
        "#### **Solution**"
      ],
      "metadata": {
        "id": "I4TmmGeXPqCS"
      }
    },
    {
      "cell_type": "code",
      "source": [
        "plot_survival('Pclass')"
      ],
      "metadata": {
        "colab": {
          "base_uri": "https://localhost:8080/",
          "height": 486
        },
        "id": "DXB9f2hpPvbp",
        "outputId": "0f50b7bd-6d39-43ef-e9ee-cee98ca6cb97"
      },
      "execution_count": null,
      "outputs": [
        {
          "output_type": "display_data",
          "data": {
            "text/plain": [
              "<Figure size 1000x500 with 2 Axes>"
            ],
            "image/png": "[encoded data removed]"
          },
          "metadata": {}
        }
      ]
    },
    {
      "cell_type": "markdown",
      "source": [
        "### **Problem #4.15**\n",
        "\n",
        "How did having family members onboard affect survival rates?"
      ],
      "metadata": {
        "id": "ePaDM4QVRgF4"
      }
    },
    {
      "cell_type": "code",
      "source": [],
      "metadata": {
        "id": "URliaZjKRgF4"
      },
      "execution_count": null,
      "outputs": []
    },
    {
      "cell_type": "markdown",
      "source": [
        "#### **Solution**"
      ],
      "metadata": {
        "id": "LsXgwJLARgF4"
      }
    },
    {
      "cell_type": "code",
      "source": [
        "plot_survival('FamilySize')"
      ],
      "metadata": {
        "colab": {
          "base_uri": "https://localhost:8080/",
          "height": 485
        },
        "outputId": "d40c9b07-4462-4ea2-959c-e1ce88ec7cb0",
        "id": "COMZGm0CRgF4"
      },
      "execution_count": null,
      "outputs": [
        {
          "output_type": "display_data",
          "data": {
            "text/plain": [
              "<Figure size 1000x500 with 2 Axes>"
            ],
            "image/png": "[encoded data removed]"
          },
          "metadata": {}
        }
      ]
    },
    {
      "cell_type": "markdown",
      "source": [
        "### **Problem #4.16**\n",
        "\n",
        "How did the port of embarkation affect survival rates?"
      ],
      "metadata": {
        "id": "wo1JIZkYSHwf"
      }
    },
    {
      "cell_type": "code",
      "source": [],
      "metadata": {
        "id": "cZ4CAHiySHwg"
      },
      "execution_count": null,
      "outputs": []
    },
    {
      "cell_type": "markdown",
      "source": [
        "#### **Solution**"
      ],
      "metadata": {
        "id": "qZAZ4Ft6SHwg"
      }
    },
    {
      "cell_type": "code",
      "source": [
        "plot_survival('Embarked')"
      ],
      "metadata": {
        "colab": {
          "base_uri": "https://localhost:8080/",
          "height": 440
        },
        "outputId": "72d51b84-9557-4b92-db3e-8cbb378edb7c",
        "id": "x1fFl3kgSHwg"
      },
      "execution_count": null,
      "outputs": [
        {
          "output_type": "display_data",
          "data": {
            "text/plain": [
              "<Figure size 1000x500 with 2 Axes>"
            ],
            "image/png": "[encoded data removed]"
          },
          "metadata": {}
        }
      ]
    },
    {
      "cell_type": "markdown",
      "source": [
        "### **Problem #4.17**\n",
        "\n",
        "How did having a cabin affect survival rates?"
      ],
      "metadata": {
        "id": "B6s8wJ0LkoOT"
      }
    },
    {
      "cell_type": "code",
      "source": [],
      "metadata": {
        "id": "H_VqOXa6koOU"
      },
      "execution_count": null,
      "outputs": []
    },
    {
      "cell_type": "markdown",
      "source": [
        "#### **Solution**"
      ],
      "metadata": {
        "id": "T5HTwcfBkoOU"
      }
    },
    {
      "cell_type": "code",
      "source": [
        "plot_survival('HasCabin')"
      ],
      "metadata": {
        "colab": {
          "base_uri": "https://localhost:8080/",
          "height": 440
        },
        "outputId": "c8bfe9b8-76e0-4b70-824b-fc68051281ba",
        "id": "ASsa2mbEkoOU"
      },
      "execution_count": null,
      "outputs": [
        {
          "output_type": "display_data",
          "data": {
            "text/plain": [
              "<Figure size 1000x500 with 2 Axes>"
            ],
            "image/png": "[encoded data removed]"
          },
          "metadata": {}
        }
      ]
    },
    {
      "cell_type": "markdown",
      "source": [
        "### **Wrapping Up**\n",
        "\n",
        "Congratulations on completing a data science project! Not all data science projects include machine learning. Drawing insights from data through EDA, feature engineering, and visualizations is data science! In a later lab, you will continue your project with machine learning to make survival predictions for individual passengers."
      ],
      "metadata": {
        "id": "Tma6WvJZ4SW9"
      }
    },
    {
      "cell_type": "markdown",
      "source": [
        "---\n",
        "\n",
        "# End of Notebook\n",
        "\n",
        "© 2023 The Coding School, All rights reserved"
      ],
      "metadata": {
        "id": "7dzC09dLlEhm"
      }
    }
  ]
}