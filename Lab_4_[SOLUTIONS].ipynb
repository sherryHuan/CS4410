{
  "nbformat": 4,
  "nbformat_minor": 0,
  "metadata": {
    "colab": {
      "provenance": [],
      "include_colab_link": true
    },
    "kernelspec": {
      "name": "python3",
      "display_name": "Python 3"
    },
    "language_info": {
      "name": "python"
    }
  },
  "cells": [
    {
      "cell_type": "markdown",
      "metadata": {
        "id": "view-in-github",
        "colab_type": "text"
      },
      "source": [
        "<a href=\"https://colab.research.google.com/github/sherryHuan/CS4410/blob/main/Lab_4_%5BSOLUTIONS%5D.ipynb\" target=\"_parent\"><img src=\"https://colab.research.google.com/assets/colab-badge.svg\" alt=\"Open In Colab\"/></a>"
      ]
    },
    {
      "cell_type": "markdown",
      "source": [
        "# **Lab #4: Linear Regression**\n",
        "---\n",
        "\n",
        "### **Description**\n",
        "In this lab, you will practice implementing linear regression models on multiple datasets.\n",
        "\n",
        "</br>\n",
        "\n",
        "### **Lab Structure**\n",
        "**Part 1**: [Boston Housing Dataset](#p1)\n",
        "\n",
        "**Part 2**: [Diabetes Dataset](#p2)\n",
        "\n",
        "**Part 3**: [[HOMEWORK] California Housing Dataset](#p3)\n",
        "\n",
        "**Part 4**: [[HOMEWORK] CO2 Emissions Dataset](#p4)\n",
        "\n",
        "**Part 5**: [[OPTIONAL] Bikes Dataset](#p5)\n",
        "\n",
        "</br>\n",
        "\n",
        "### **Goals**\n",
        " By the end of this lab, you will:\n",
        "* Implement a linear regression model on your own.\n",
        "* Test and use linear regression models to predict disease progression and housing prices.\n",
        "\n",
        "</br>\n",
        "\n",
        "### **Cheat Sheets**\n",
        "* [Linear Regression with sklearn](https://docs.google.com/document/d/1uJueuaBhszyXJ1UeRZU25Ux6LgW7m7YtG1GA5x_O120/edit?usp=sharing)\n",
        "\n",
        "<br>\n",
        "\n",
        "**Run the cell below to import the necessary libraries and functions.**"
      ],
      "metadata": {
        "id": "YIlQ_30ypxfZ"
      }
    },
    {
      "cell_type": "code",
      "source": [
        "import pandas as pd\n",
        "import matplotlib.pyplot as plt\n",
        "\n",
        "from sklearn import datasets, model_selection\n",
        "from sklearn.metrics import r2_score\n",
        "from sklearn.metrics import mean_squared_error"
      ],
      "metadata": {
        "id": "2OiK0-eyq9e6"
      },
      "execution_count": null,
      "outputs": []
    },
    {
      "cell_type": "markdown",
      "source": [
        "<a name=\"p1\"></a>\n",
        "\n",
        "---\n",
        "## **Part 1: Boston Housing Dataset**\n",
        "---\n",
        "\n",
        "#### **About the Dataset**\n",
        "For a long time, House Price Index (HPI), which measures price changes of residential housing, has been used to predict the price of a specific house. However, HPI is focused on measuring the average price changes in repeat sales or refinancing on the same properties over time, meaning that many features, such as the house's district, age, or number or floors, are not considered. As a result of HPI's deficiencies, in recent years, Machine Learning techniques have been used to predict individual housing prices.\n",
        "\n",
        "\n",
        "The Boston Housing Dataset is a collection of data that contains information on various features of houses in the Boston area, such as the number of rooms, the age of the house, and the distance to employment centers. The dataset contains 13 numerical features and a numerical target. It is often used for regression analysis and is a popular benchmark dataset for machine learning algorithms.\n",
        "\n",
        "The features are as follows:\n",
        "\n",
        "* `crim`: Per capita crime rate by town\n",
        "* `zn`: Proportion of residential land zoned for lots over 25,000 sq. ft\n",
        "* `indus`: Proportion of non-retail business acres per town\n",
        "* `chas`: Charles River dummy variable (= 1 if tract bounds river; 0 otherwise)\n",
        "* `nox`: Nitric oxide concentration (parts per 10 million)\n",
        "* `RM`: Average number of rooms per dwelling\n",
        "* `age`: Proportion of owner-occupied units built prior to 1940\n",
        "* `dis`: Weighted distances to five Boston employment centers\n",
        "* `rad`: Index of accessibility to radial highways\n",
        "* `tax`: Full-value property tax rate per 10,000 dollars\n",
        "* `ptratio`: Pupil-teacher ratio by town\n",
        "* `b`: 1000(Bk — 0.63)², where Bk is the proportion [of people of African American descent] by town\n",
        "* `LSTAT`: Percentage of lower status of the population\n",
        "* **`TARGET`** (target that needs to be added): Median value of owner-occupied homes in $1000s. *You need to add this column after loading the Boston data from sklearn datasets*.\n",
        "\n",
        "<br>\n",
        "\n",
        "**NOTE:** The Boston housing prices dataset has a noted ethical problem: the authors of this dataset engineered a non-invertible variable “B” assuming that racial self-segregation had a positive impact on house prices. This variable is likely due to the practice of ['Redlining'](https://www.wgbh.org/news/local-news/2019/11/12/how-a-long-ago-map-created-racial-boundaries-that-still-define-boston) from the 1930s to 1970s in Boston, which has had long lasting affects in Boston still present today. The goal of the research that led to the creation of this dataset was to study the impact of air quality, but it did not give adequate demonstration of the validity of this assumption. Please know this data set is used for *practice only* and can serve as a good example of why ethical standards are so important for ML models and implementation. [Read more](https://medium.com/@docintangible/racist-data-destruction-113e3eff54a8) on problems existing within this data set and why it is not used for anything other than practicing ML.\n",
        "\n",
        "<br>\n",
        "\n",
        "#### **Your Task**\n",
        "Using the Boston Housing dataset, we will do the following:\n",
        "* Build a model that will predict the median value of owner-occupied homes for Boston in the 1970s;\n",
        "* Use the model to predict the median value of houses with various room numbers and LSTAT scores.\n"
      ],
      "metadata": {
        "id": "3f6t0yYBhCsm"
      }
    },
    {
      "cell_type": "markdown",
      "source": [
        "### **Step #1: Load the data**\n"
      ],
      "metadata": {
        "id": "Jrbb0BuorRTK"
      }
    },
    {
      "cell_type": "code",
      "source": [
        "url = \"https://raw.githubusercontent.com/selva86/datasets/master/BostonHousing.csv\"\n",
        "df = pd.read_csv(url)\n",
        "df = df.rename(columns={'medv': 'TARGET', 'rm': 'RM', 'lstat':'LSTAT'})\n",
        "df.head()"
      ],
      "metadata": {
        "id": "3X4RLiyYizVx",
        "colab": {
          "base_uri": "https://localhost:8080/",
          "height": 206
        },
        "outputId": "1a5bb5e1-4fe2-46ca-9d06-cab3115eff6c"
      },
      "execution_count": null,
      "outputs": [
        {
          "output_type": "execute_result",
          "data": {
            "text/plain": [
              "      crim    zn  indus  chas    nox     RM   age     dis  rad  tax  ptratio  \\\n",
              "0  0.00632  18.0   2.31     0  0.538  6.575  65.2  4.0900    1  296     15.3   \n",
              "1  0.02731   0.0   7.07     0  0.469  6.421  78.9  4.9671    2  242     17.8   \n",
              "2  0.02729   0.0   7.07     0  0.469  7.185  61.1  4.9671    2  242     17.8   \n",
              "3  0.03237   0.0   2.18     0  0.458  6.998  45.8  6.0622    3  222     18.7   \n",
              "4  0.06905   0.0   2.18     0  0.458  7.147  54.2  6.0622    3  222     18.7   \n",
              "\n",
              "        b  LSTAT  TARGET  \n",
              "0  396.90   4.98    24.0  \n",
              "1  396.90   9.14    21.6  \n",
              "2  392.83   4.03    34.7  \n",
              "3  394.63   2.94    33.4  \n",
              "4  396.90   5.33    36.2  "
            ],
            "text/html": [
              "\n",
              "\n",
              "  <div id=\"df-8fede072-1222-4dd0-ada6-c2de6a6656ff\">\n",
              "    <div class=\"colab-df-container\">\n",
              "      <div>\n",
              "<style scoped>\n",
              "    .dataframe tbody tr th:only-of-type {\n",
              "        vertical-align: middle;\n",
              "    }\n",
              "\n",
              "    .dataframe tbody tr th {\n",
              "        vertical-align: top;\n",
              "    }\n",
              "\n",
              "    .dataframe thead th {\n",
              "        text-align: right;\n",
              "    }\n",
              "</style>\n",
              "<table border=\"1\" class=\"dataframe\">\n",
              "  <thead>\n",
              "    <tr style=\"text-align: right;\">\n",
              "      <th></th>\n",
              "      <th>crim</th>\n",
              "      <th>zn</th>\n",
              "      <th>indus</th>\n",
              "      <th>chas</th>\n",
              "      <th>nox</th>\n",
              "      <th>RM</th>\n",
              "      <th>age</th>\n",
              "      <th>dis</th>\n",
              "      <th>rad</th>\n",
              "      <th>tax</th>\n",
              "      <th>ptratio</th>\n",
              "      <th>b</th>\n",
              "      <th>LSTAT</th>\n",
              "      <th>TARGET</th>\n",
              "    </tr>\n",
              "  </thead>\n",
              "  <tbody>\n",
              "    <tr>\n",
              "      <th>0</th>\n",
              "      <td>0.00632</td>\n",
              "      <td>18.0</td>\n",
              "      <td>2.31</td>\n",
              "      <td>0</td>\n",
              "      <td>0.538</td>\n",
              "      <td>6.575</td>\n",
              "      <td>65.2</td>\n",
              "      <td>4.0900</td>\n",
              "      <td>1</td>\n",
              "      <td>296</td>\n",
              "      <td>15.3</td>\n",
              "      <td>396.90</td>\n",
              "      <td>4.98</td>\n",
              "      <td>24.0</td>\n",
              "    </tr>\n",
              "    <tr>\n",
              "      <th>1</th>\n",
              "      <td>0.02731</td>\n",
              "      <td>0.0</td>\n",
              "      <td>7.07</td>\n",
              "      <td>0</td>\n",
              "      <td>0.469</td>\n",
              "      <td>6.421</td>\n",
              "      <td>78.9</td>\n",
              "      <td>4.9671</td>\n",
              "      <td>2</td>\n",
              "      <td>242</td>\n",
              "      <td>17.8</td>\n",
              "      <td>396.90</td>\n",
              "      <td>9.14</td>\n",
              "      <td>21.6</td>\n",
              "    </tr>\n",
              "    <tr>\n",
              "      <th>2</th>\n",
              "      <td>0.02729</td>\n",
              "      <td>0.0</td>\n",
              "      <td>7.07</td>\n",
              "      <td>0</td>\n",
              "      <td>0.469</td>\n",
              "      <td>7.185</td>\n",
              "      <td>61.1</td>\n",
              "      <td>4.9671</td>\n",
              "      <td>2</td>\n",
              "      <td>242</td>\n",
              "      <td>17.8</td>\n",
              "      <td>392.83</td>\n",
              "      <td>4.03</td>\n",
              "      <td>34.7</td>\n",
              "    </tr>\n",
              "    <tr>\n",
              "      <th>3</th>\n",
              "      <td>0.03237</td>\n",
              "      <td>0.0</td>\n",
              "      <td>2.18</td>\n",
              "      <td>0</td>\n",
              "      <td>0.458</td>\n",
              "      <td>6.998</td>\n",
              "      <td>45.8</td>\n",
              "      <td>6.0622</td>\n",
              "      <td>3</td>\n",
              "      <td>222</td>\n",
              "      <td>18.7</td>\n",
              "      <td>394.63</td>\n",
              "      <td>2.94</td>\n",
              "      <td>33.4</td>\n",
              "    </tr>\n",
              "    <tr>\n",
              "      <th>4</th>\n",
              "      <td>0.06905</td>\n",
              "      <td>0.0</td>\n",
              "      <td>2.18</td>\n",
              "      <td>0</td>\n",
              "      <td>0.458</td>\n",
              "      <td>7.147</td>\n",
              "      <td>54.2</td>\n",
              "      <td>6.0622</td>\n",
              "      <td>3</td>\n",
              "      <td>222</td>\n",
              "      <td>18.7</td>\n",
              "      <td>396.90</td>\n",
              "      <td>5.33</td>\n",
              "      <td>36.2</td>\n",
              "    </tr>\n",
              "  </tbody>\n",
              "</table>\n",
              "</div>\n",
              "      <button class=\"colab-df-convert\" onclick=\"convertToInteractive('df-8fede072-1222-4dd0-ada6-c2de6a6656ff')\"\n",
              "              title=\"Convert this dataframe to an interactive table.\"\n",
              "              style=\"display:none;\">\n",
              "\n",
              "  <svg xmlns=\"http://www.w3.org/2000/svg\" height=\"24px\"viewBox=\"0 0 24 24\"\n",
              "       width=\"24px\">\n",
              "    <path d=\"M0 0h24v24H0V0z\" fill=\"none\"/>\n",
              "    <path d=\"M18.56 5.44l.94 2.06.94-2.06 2.06-.94-2.06-.94-.94-2.06-.94 2.06-2.06.94zm-11 1L8.5 8.5l.94-2.06 2.06-.94-2.06-.94L8.5 2.5l-.94 2.06-2.06.94zm10 10l.94 2.06.94-2.06 2.06-.94-2.06-.94-.94-2.06-.94 2.06-2.06.94z\"/><path d=\"M17.41 7.96l-1.37-1.37c-.4-.4-.92-.59-1.43-.59-.52 0-1.04.2-1.43.59L10.3 9.45l-7.72 7.72c-.78.78-.78 2.05 0 2.83L4 21.41c.39.39.9.59 1.41.59.51 0 1.02-.2 1.41-.59l7.78-7.78 2.81-2.81c.8-.78.8-2.07 0-2.86zM5.41 20L4 18.59l7.72-7.72 1.47 1.35L5.41 20z\"/>\n",
              "  </svg>\n",
              "      </button>\n",
              "\n",
              "\n",
              "\n",
              "    <div id=\"df-d4de8be6-ed1d-4595-8a42-828013a8f89c\">\n",
              "      <button class=\"colab-df-quickchart\" onclick=\"quickchart('df-d4de8be6-ed1d-4595-8a42-828013a8f89c')\"\n",
              "              title=\"Suggest charts.\"\n",
              "              style=\"display:none;\">\n",
              "\n",
              "<svg xmlns=\"http://www.w3.org/2000/svg\" height=\"24px\"viewBox=\"0 0 24 24\"\n",
              "     width=\"24px\">\n",
              "    <g>\n",
              "        <path d=\"M19 3H5c-1.1 0-2 .9-2 2v14c0 1.1.9 2 2 2h14c1.1 0 2-.9 2-2V5c0-1.1-.9-2-2-2zM9 17H7v-7h2v7zm4 0h-2V7h2v10zm4 0h-2v-4h2v4z\"/>\n",
              "    </g>\n",
              "</svg>\n",
              "      </button>\n",
              "    </div>\n",
              "\n",
              "<style>\n",
              "  .colab-df-quickchart {\n",
              "    background-color: #E8F0FE;\n",
              "    border: none;\n",
              "    border-radius: 50%;\n",
              "    cursor: pointer;\n",
              "    display: none;\n",
              "    fill: #1967D2;\n",
              "    height: 32px;\n",
              "    padding: 0 0 0 0;\n",
              "    width: 32px;\n",
              "  }\n",
              "\n",
              "  .colab-df-quickchart:hover {\n",
              "    background-color: #E2EBFA;\n",
              "    box-shadow: 0px 1px 2px rgba(60, 64, 67, 0.3), 0px 1px 3px 1px rgba(60, 64, 67, 0.15);\n",
              "    fill: #174EA6;\n",
              "  }\n",
              "\n",
              "  [theme=dark] .colab-df-quickchart {\n",
              "    background-color: #3B4455;\n",
              "    fill: #D2E3FC;\n",
              "  }\n",
              "\n",
              "  [theme=dark] .colab-df-quickchart:hover {\n",
              "    background-color: #434B5C;\n",
              "    box-shadow: 0px 1px 3px 1px rgba(0, 0, 0, 0.15);\n",
              "    filter: drop-shadow(0px 1px 2px rgba(0, 0, 0, 0.3));\n",
              "    fill: #FFFFFF;\n",
              "  }\n",
              "</style>\n",
              "\n",
              "    <script>\n",
              "      async function quickchart(key) {\n",
              "        const containerElement = document.querySelector('#' + key);\n",
              "        const charts = await google.colab.kernel.invokeFunction(\n",
              "            'suggestCharts', [key], {});\n",
              "      }\n",
              "    </script>\n",
              "\n",
              "      <script>\n",
              "\n",
              "function displayQuickchartButton(domScope) {\n",
              "  let quickchartButtonEl =\n",
              "    domScope.querySelector('#df-d4de8be6-ed1d-4595-8a42-828013a8f89c button.colab-df-quickchart');\n",
              "  quickchartButtonEl.style.display =\n",
              "    google.colab.kernel.accessAllowed ? 'block' : 'none';\n",
              "}\n",
              "\n",
              "        displayQuickchartButton(document);\n",
              "      </script>\n",
              "      <style>\n",
              "    .colab-df-container {\n",
              "      display:flex;\n",
              "      flex-wrap:wrap;\n",
              "      gap: 12px;\n",
              "    }\n",
              "\n",
              "    .colab-df-convert {\n",
              "      background-color: #E8F0FE;\n",
              "      border: none;\n",
              "      border-radius: 50%;\n",
              "      cursor: pointer;\n",
              "      display: none;\n",
              "      fill: #1967D2;\n",
              "      height: 32px;\n",
              "      padding: 0 0 0 0;\n",
              "      width: 32px;\n",
              "    }\n",
              "\n",
              "    .colab-df-convert:hover {\n",
              "      background-color: #E2EBFA;\n",
              "      box-shadow: 0px 1px 2px rgba(60, 64, 67, 0.3), 0px 1px 3px 1px rgba(60, 64, 67, 0.15);\n",
              "      fill: #174EA6;\n",
              "    }\n",
              "\n",
              "    [theme=dark] .colab-df-convert {\n",
              "      background-color: #3B4455;\n",
              "      fill: #D2E3FC;\n",
              "    }\n",
              "\n",
              "    [theme=dark] .colab-df-convert:hover {\n",
              "      background-color: #434B5C;\n",
              "      box-shadow: 0px 1px 3px 1px rgba(0, 0, 0, 0.15);\n",
              "      filter: drop-shadow(0px 1px 2px rgba(0, 0, 0, 0.3));\n",
              "      fill: #FFFFFF;\n",
              "    }\n",
              "  </style>\n",
              "\n",
              "      <script>\n",
              "        const buttonEl =\n",
              "          document.querySelector('#df-8fede072-1222-4dd0-ada6-c2de6a6656ff button.colab-df-convert');\n",
              "        buttonEl.style.display =\n",
              "          google.colab.kernel.accessAllowed ? 'block' : 'none';\n",
              "\n",
              "        async function convertToInteractive(key) {\n",
              "          const element = document.querySelector('#df-8fede072-1222-4dd0-ada6-c2de6a6656ff');\n",
              "          const dataTable =\n",
              "            await google.colab.kernel.invokeFunction('convertToInteractive',\n",
              "                                                     [key], {});\n",
              "          if (!dataTable) return;\n",
              "\n",
              "          const docLinkHtml = 'Like what you see? Visit the ' +\n",
              "            '<a target=\"_blank\" href=https://colab.research.google.com/notebooks/data_table.ipynb>data table notebook</a>'\n",
              "            + ' to learn more about interactive tables.';\n",
              "          element.innerHTML = '';\n",
              "          dataTable['output_type'] = 'display_data';\n",
              "          await google.colab.output.renderOutput(dataTable, element);\n",
              "          const docLink = document.createElement('div');\n",
              "          docLink.innerHTML = docLinkHtml;\n",
              "          element.appendChild(docLink);\n",
              "        }\n",
              "      </script>\n",
              "    </div>\n",
              "  </div>\n"
            ]
          },
          "metadata": {},
          "execution_count": 15
        }
      ]
    },
    {
      "cell_type": "markdown",
      "source": [
        "### **Step #2: Decide independent and dependent variables**\n",
        "\n",
        "\n",
        "We are going to use \"Rooms per dwelling\" (`RM`) and \"Percentage of lower status of the population\" (`LSTAT`) as our independent variables for predicting `TARGET`. Our target is the median value of owner-occupied homes. **With these values, we are building a housing value predictor for Boston in the 1970s.** This step has already been done for you."
      ],
      "metadata": {
        "id": "HYlGaXV3rZfY"
      }
    },
    {
      "cell_type": "code",
      "source": [
        "df[[\"RM\",\"LSTAT\", \"TARGET\"]]"
      ],
      "metadata": {
        "id": "uU0u-IaDizsR",
        "colab": {
          "base_uri": "https://localhost:8080/",
          "height": 423
        },
        "outputId": "efc551eb-2a65-40b9-de0f-8881f399feef"
      },
      "execution_count": null,
      "outputs": [
        {
          "output_type": "execute_result",
          "data": {
            "text/plain": [
              "        RM  LSTAT  TARGET\n",
              "0    6.575   4.98    24.0\n",
              "1    6.421   9.14    21.6\n",
              "2    7.185   4.03    34.7\n",
              "3    6.998   2.94    33.4\n",
              "4    7.147   5.33    36.2\n",
              "..     ...    ...     ...\n",
              "501  6.593   9.67    22.4\n",
              "502  6.120   9.08    20.6\n",
              "503  6.976   5.64    23.9\n",
              "504  6.794   6.48    22.0\n",
              "505  6.030   7.88    11.9\n",
              "\n",
              "[506 rows x 3 columns]"
            ],
            "text/html": [
              "\n",
              "\n",
              "  <div id=\"df-cf0e7df7-547d-4938-a545-2152fc084ad2\">\n",
              "    <div class=\"colab-df-container\">\n",
              "      <div>\n",
              "<style scoped>\n",
              "    .dataframe tbody tr th:only-of-type {\n",
              "        vertical-align: middle;\n",
              "    }\n",
              "\n",
              "    .dataframe tbody tr th {\n",
              "        vertical-align: top;\n",
              "    }\n",
              "\n",
              "    .dataframe thead th {\n",
              "        text-align: right;\n",
              "    }\n",
              "</style>\n",
              "<table border=\"1\" class=\"dataframe\">\n",
              "  <thead>\n",
              "    <tr style=\"text-align: right;\">\n",
              "      <th></th>\n",
              "      <th>RM</th>\n",
              "      <th>LSTAT</th>\n",
              "      <th>TARGET</th>\n",
              "    </tr>\n",
              "  </thead>\n",
              "  <tbody>\n",
              "    <tr>\n",
              "      <th>0</th>\n",
              "      <td>6.575</td>\n",
              "      <td>4.98</td>\n",
              "      <td>24.0</td>\n",
              "    </tr>\n",
              "    <tr>\n",
              "      <th>1</th>\n",
              "      <td>6.421</td>\n",
              "      <td>9.14</td>\n",
              "      <td>21.6</td>\n",
              "    </tr>\n",
              "    <tr>\n",
              "      <th>2</th>\n",
              "      <td>7.185</td>\n",
              "      <td>4.03</td>\n",
              "      <td>34.7</td>\n",
              "    </tr>\n",
              "    <tr>\n",
              "      <th>3</th>\n",
              "      <td>6.998</td>\n",
              "      <td>2.94</td>\n",
              "      <td>33.4</td>\n",
              "    </tr>\n",
              "    <tr>\n",
              "      <th>4</th>\n",
              "      <td>7.147</td>\n",
              "      <td>5.33</td>\n",
              "      <td>36.2</td>\n",
              "    </tr>\n",
              "    <tr>\n",
              "      <th>...</th>\n",
              "      <td>...</td>\n",
              "      <td>...</td>\n",
              "      <td>...</td>\n",
              "    </tr>\n",
              "    <tr>\n",
              "      <th>501</th>\n",
              "      <td>6.593</td>\n",
              "      <td>9.67</td>\n",
              "      <td>22.4</td>\n",
              "    </tr>\n",
              "    <tr>\n",
              "      <th>502</th>\n",
              "      <td>6.120</td>\n",
              "      <td>9.08</td>\n",
              "      <td>20.6</td>\n",
              "    </tr>\n",
              "    <tr>\n",
              "      <th>503</th>\n",
              "      <td>6.976</td>\n",
              "      <td>5.64</td>\n",
              "      <td>23.9</td>\n",
              "    </tr>\n",
              "    <tr>\n",
              "      <th>504</th>\n",
              "      <td>6.794</td>\n",
              "      <td>6.48</td>\n",
              "      <td>22.0</td>\n",
              "    </tr>\n",
              "    <tr>\n",
              "      <th>505</th>\n",
              "      <td>6.030</td>\n",
              "      <td>7.88</td>\n",
              "      <td>11.9</td>\n",
              "    </tr>\n",
              "  </tbody>\n",
              "</table>\n",
              "<p>506 rows × 3 columns</p>\n",
              "</div>\n",
              "      <button class=\"colab-df-convert\" onclick=\"convertToInteractive('df-cf0e7df7-547d-4938-a545-2152fc084ad2')\"\n",
              "              title=\"Convert this dataframe to an interactive table.\"\n",
              "              style=\"display:none;\">\n",
              "\n",
              "  <svg xmlns=\"http://www.w3.org/2000/svg\" height=\"24px\"viewBox=\"0 0 24 24\"\n",
              "       width=\"24px\">\n",
              "    <path d=\"M0 0h24v24H0V0z\" fill=\"none\"/>\n",
              "    <path d=\"M18.56 5.44l.94 2.06.94-2.06 2.06-.94-2.06-.94-.94-2.06-.94 2.06-2.06.94zm-11 1L8.5 8.5l.94-2.06 2.06-.94-2.06-.94L8.5 2.5l-.94 2.06-2.06.94zm10 10l.94 2.06.94-2.06 2.06-.94-2.06-.94-.94-2.06-.94 2.06-2.06.94z\"/><path d=\"M17.41 7.96l-1.37-1.37c-.4-.4-.92-.59-1.43-.59-.52 0-1.04.2-1.43.59L10.3 9.45l-7.72 7.72c-.78.78-.78 2.05 0 2.83L4 21.41c.39.39.9.59 1.41.59.51 0 1.02-.2 1.41-.59l7.78-7.78 2.81-2.81c.8-.78.8-2.07 0-2.86zM5.41 20L4 18.59l7.72-7.72 1.47 1.35L5.41 20z\"/>\n",
              "  </svg>\n",
              "      </button>\n",
              "\n",
              "\n",
              "\n",
              "    <div id=\"df-ecf1b38e-6106-4af0-a028-4a8468a6e9c7\">\n",
              "      <button class=\"colab-df-quickchart\" onclick=\"quickchart('df-ecf1b38e-6106-4af0-a028-4a8468a6e9c7')\"\n",
              "              title=\"Suggest charts.\"\n",
              "              style=\"display:none;\">\n",
              "\n",
              "<svg xmlns=\"http://www.w3.org/2000/svg\" height=\"24px\"viewBox=\"0 0 24 24\"\n",
              "     width=\"24px\">\n",
              "    <g>\n",
              "        <path d=\"M19 3H5c-1.1 0-2 .9-2 2v14c0 1.1.9 2 2 2h14c1.1 0 2-.9 2-2V5c0-1.1-.9-2-2-2zM9 17H7v-7h2v7zm4 0h-2V7h2v10zm4 0h-2v-4h2v4z\"/>\n",
              "    </g>\n",
              "</svg>\n",
              "      </button>\n",
              "    </div>\n",
              "\n",
              "<style>\n",
              "  .colab-df-quickchart {\n",
              "    background-color: #E8F0FE;\n",
              "    border: none;\n",
              "    border-radius: 50%;\n",
              "    cursor: pointer;\n",
              "    display: none;\n",
              "    fill: #1967D2;\n",
              "    height: 32px;\n",
              "    padding: 0 0 0 0;\n",
              "    width: 32px;\n",
              "  }\n",
              "\n",
              "  .colab-df-quickchart:hover {\n",
              "    background-color: #E2EBFA;\n",
              "    box-shadow: 0px 1px 2px rgba(60, 64, 67, 0.3), 0px 1px 3px 1px rgba(60, 64, 67, 0.15);\n",
              "    fill: #174EA6;\n",
              "  }\n",
              "\n",
              "  [theme=dark] .colab-df-quickchart {\n",
              "    background-color: #3B4455;\n",
              "    fill: #D2E3FC;\n",
              "  }\n",
              "\n",
              "  [theme=dark] .colab-df-quickchart:hover {\n",
              "    background-color: #434B5C;\n",
              "    box-shadow: 0px 1px 3px 1px rgba(0, 0, 0, 0.15);\n",
              "    filter: drop-shadow(0px 1px 2px rgba(0, 0, 0, 0.3));\n",
              "    fill: #FFFFFF;\n",
              "  }\n",
              "</style>\n",
              "\n",
              "    <script>\n",
              "      async function quickchart(key) {\n",
              "        const containerElement = document.querySelector('#' + key);\n",
              "        const charts = await google.colab.kernel.invokeFunction(\n",
              "            'suggestCharts', [key], {});\n",
              "      }\n",
              "    </script>\n",
              "\n",
              "      <script>\n",
              "\n",
              "function displayQuickchartButton(domScope) {\n",
              "  let quickchartButtonEl =\n",
              "    domScope.querySelector('#df-ecf1b38e-6106-4af0-a028-4a8468a6e9c7 button.colab-df-quickchart');\n",
              "  quickchartButtonEl.style.display =\n",
              "    google.colab.kernel.accessAllowed ? 'block' : 'none';\n",
              "}\n",
              "\n",
              "        displayQuickchartButton(document);\n",
              "      </script>\n",
              "      <style>\n",
              "    .colab-df-container {\n",
              "      display:flex;\n",
              "      flex-wrap:wrap;\n",
              "      gap: 12px;\n",
              "    }\n",
              "\n",
              "    .colab-df-convert {\n",
              "      background-color: #E8F0FE;\n",
              "      border: none;\n",
              "      border-radius: 50%;\n",
              "      cursor: pointer;\n",
              "      display: none;\n",
              "      fill: #1967D2;\n",
              "      height: 32px;\n",
              "      padding: 0 0 0 0;\n",
              "      width: 32px;\n",
              "    }\n",
              "\n",
              "    .colab-df-convert:hover {\n",
              "      background-color: #E2EBFA;\n",
              "      box-shadow: 0px 1px 2px rgba(60, 64, 67, 0.3), 0px 1px 3px 1px rgba(60, 64, 67, 0.15);\n",
              "      fill: #174EA6;\n",
              "    }\n",
              "\n",
              "    [theme=dark] .colab-df-convert {\n",
              "      background-color: #3B4455;\n",
              "      fill: #D2E3FC;\n",
              "    }\n",
              "\n",
              "    [theme=dark] .colab-df-convert:hover {\n",
              "      background-color: #434B5C;\n",
              "      box-shadow: 0px 1px 3px 1px rgba(0, 0, 0, 0.15);\n",
              "      filter: drop-shadow(0px 1px 2px rgba(0, 0, 0, 0.3));\n",
              "      fill: #FFFFFF;\n",
              "    }\n",
              "  </style>\n",
              "\n",
              "      <script>\n",
              "        const buttonEl =\n",
              "          document.querySelector('#df-cf0e7df7-547d-4938-a545-2152fc084ad2 button.colab-df-convert');\n",
              "        buttonEl.style.display =\n",
              "          google.colab.kernel.accessAllowed ? 'block' : 'none';\n",
              "\n",
              "        async function convertToInteractive(key) {\n",
              "          const element = document.querySelector('#df-cf0e7df7-547d-4938-a545-2152fc084ad2');\n",
              "          const dataTable =\n",
              "            await google.colab.kernel.invokeFunction('convertToInteractive',\n",
              "                                                     [key], {});\n",
              "          if (!dataTable) return;\n",
              "\n",
              "          const docLinkHtml = 'Like what you see? Visit the ' +\n",
              "            '<a target=\"_blank\" href=https://colab.research.google.com/notebooks/data_table.ipynb>data table notebook</a>'\n",
              "            + ' to learn more about interactive tables.';\n",
              "          element.innerHTML = '';\n",
              "          dataTable['output_type'] = 'display_data';\n",
              "          await google.colab.output.renderOutput(dataTable, element);\n",
              "          const docLink = document.createElement('div');\n",
              "          docLink.innerHTML = docLinkHtml;\n",
              "          element.appendChild(docLink);\n",
              "        }\n",
              "      </script>\n",
              "    </div>\n",
              "  </div>\n"
            ]
          },
          "metadata": {},
          "execution_count": 16
        }
      ]
    },
    {
      "cell_type": "markdown",
      "source": [
        "\n",
        "**Before we continue, we will create two graphs. One with `LSTAT` and the target, and another with `RM` and the target to explore the relationship between the variables further.**"
      ],
      "metadata": {
        "id": "q_eLEi5MiiPb"
      }
    },
    {
      "cell_type": "code",
      "source": [
        "plt.figure(figsize=(20, 5))\n",
        "\n",
        "features = df[['LSTAT', 'RM']]\n",
        "target = df['TARGET']\n",
        "\n",
        "plt.subplot(1, 2, 1)\n",
        "x = df[\"LSTAT\"]\n",
        "y = target\n",
        "plt.scatter(x, y, marker='o')\n",
        "plt.title(\"LSTAT\")\n",
        "plt.xlabel(\"LSTAT\")\n",
        "plt.ylabel('target')\n",
        "\n",
        "plt.subplot(1, 2, 2)\n",
        "x = df[\"RM\"]\n",
        "y = target\n",
        "plt.scatter(x, y, marker='o')\n",
        "plt.title(\"RM\")\n",
        "plt.xlabel(\"RM\")\n",
        "plt.ylabel('target')"
      ],
      "metadata": {
        "id": "BxDxSgcoi0Kg",
        "colab": {
          "base_uri": "https://localhost:8080/",
          "height": 446
        },
        "outputId": "ffc6083c-50b8-47e7-c52f-c1473e34beb6"
      },
      "execution_count": null,
      "outputs": [
        {
          "output_type": "execute_result",
          "data": {
            "text/plain": [
              "Text(0, 0.5, 'target')"
            ]
          },
          "metadata": {},
          "execution_count": 17
        },
        {
          "output_type": "display_data",
          "data": {
            "text/plain": [
              "<Figure size 2000x500 with 2 Axes>"
            ],
            "image/png": "[encoded data removed]"
          },
          "metadata": {}
        }
      ]
    },
    {
      "cell_type": "markdown",
      "source": [
        "### **Step #3: Split data into training and testing data**\n",
        "\n",
        "Specifically ensure the test set is 20% of the overall data. This will be the assumption moving forward."
      ],
      "metadata": {
        "id": "HAWp_v2XsGp0"
      }
    },
    {
      "cell_type": "code",
      "source": [
        "X_train, X_test, y_train, y_test = model_selection.train_test_split(# COMPLETE THIS LINE"
      ],
      "metadata": {
        "id": "KvDFJJYEkp8D"
      },
      "execution_count": null,
      "outputs": []
    },
    {
      "cell_type": "markdown",
      "source": [
        "#### **Solution**"
      ],
      "metadata": {
        "id": "F1m4Baugkpsn"
      }
    },
    {
      "cell_type": "code",
      "source": [
        "X_train, X_test, y_train, y_test = model_selection.train_test_split(features, target, test_size=0.2, random_state=42)"
      ],
      "metadata": {
        "id": "hg_kivmJi0hA"
      },
      "execution_count": null,
      "outputs": []
    },
    {
      "cell_type": "markdown",
      "source": [
        "### **Step #4: Import your algorithm**\n"
      ],
      "metadata": {
        "id": "fF3UEeSjsQIm"
      }
    },
    {
      "cell_type": "code",
      "source": [
        "# import that LinearRegression algorithm\n",
        "from sklearn.linear_model import LinearRegression"
      ],
      "metadata": {
        "id": "aZPn1IAIixnU"
      },
      "execution_count": null,
      "outputs": []
    },
    {
      "cell_type": "markdown",
      "source": [
        "### **Step #5: Initialize your model and set hyperparameters**\n",
        "\n",
        "\n",
        "Linear regression takes no hyperparameters, so we only need to initialize the model."
      ],
      "metadata": {
        "id": "a--9MAucsbP_"
      }
    },
    {
      "cell_type": "code",
      "source": [
        "# COMPLETE THIS CODE"
      ],
      "metadata": {
        "id": "B_zQuzK3kuKQ"
      },
      "execution_count": null,
      "outputs": []
    },
    {
      "cell_type": "markdown",
      "source": [
        "#### **Solution**"
      ],
      "metadata": {
        "id": "lmd5YGxcktQ9"
      }
    },
    {
      "cell_type": "code",
      "source": [
        "reg = LinearRegression()"
      ],
      "metadata": {
        "id": "Xr0JvwcgDYKr"
      },
      "execution_count": null,
      "outputs": []
    },
    {
      "cell_type": "markdown",
      "source": [
        "### **Step #6: Fit your model, test on the testing data, and create a visualization if applicable**"
      ],
      "metadata": {
        "id": "wzsWL1-jssDD"
      }
    },
    {
      "cell_type": "code",
      "source": [],
      "metadata": {
        "id": "CP2QQOaBkwlc"
      },
      "execution_count": null,
      "outputs": []
    },
    {
      "cell_type": "markdown",
      "source": [
        "#### **Solution**"
      ],
      "metadata": {
        "id": "WakkcKmKkvJL"
      }
    },
    {
      "cell_type": "code",
      "source": [
        "# fit\n",
        "reg.fit(X_train, y_train)\n",
        "\n",
        "# predict\n",
        "pred = reg.predict(X_test)"
      ],
      "metadata": {
        "id": "dMEVWZ33DcSh"
      },
      "execution_count": null,
      "outputs": []
    },
    {
      "cell_type": "markdown",
      "source": [
        "#### **Create a visualization**\n",
        "\n",
        "Use `y_test` and your `prediction` (x and y on graph) from the model to create a scatter plot. Then use the following line to visualize where a correct prediction would be:\n",
        "```\n",
        "plt.plot([0, 50], [0, 50], '--k', label=\"Correct prediction\")\n",
        "```\n",
        "\n",
        "This step has already been done for you."
      ],
      "metadata": {
        "id": "u4EGuo2BvAWd"
      }
    },
    {
      "cell_type": "code",
      "source": [
        "plt.figure(figsize=(8, 8))\n",
        "plt.scatter(y_test, pred)\n",
        "plt.plot([0, 50], [0, 50], '--k', label=\"Correct prediction\")\n",
        "plt.axis('tight')\n",
        "plt.xlabel('True price ($1000s)')\n",
        "plt.ylabel('Predicted price ($1000s)')\n",
        "plt.title(\"Real vs predicted house prices in Boston\")\n",
        "plt.legend()\n",
        "plt.tight_layout()"
      ],
      "metadata": {
        "id": "AkCjm5-JmaLr",
        "colab": {
          "base_uri": "https://localhost:8080/",
          "height": 807
        },
        "outputId": "9bac61a4-dfb1-4b2e-be29-4d6d1ba3accc"
      },
      "execution_count": null,
      "outputs": [
        {
          "output_type": "display_data",
          "data": {
            "text/plain": [
              "<Figure size 800x800 with 1 Axes>"
            ],
            "image/png": "[encoded data removed]"
          },
          "metadata": {}
        }
      ]
    },
    {
      "cell_type": "markdown",
      "source": [
        "### **Step #7: Evaluate your model**\n",
        "\n",
        "\n",
        "Use mean squared error and the R2 score as the evaluation metrics."
      ],
      "metadata": {
        "id": "MRav6EEBtEdO"
      }
    },
    {
      "cell_type": "code",
      "source": [],
      "metadata": {
        "id": "3r_jos6skz7b"
      },
      "execution_count": null,
      "outputs": []
    },
    {
      "cell_type": "markdown",
      "source": [
        "#### **Solution**"
      ],
      "metadata": {
        "id": "1VTyWmGnky_E"
      }
    },
    {
      "cell_type": "code",
      "source": [
        "print('mean squared: ', mean_squared_error(y_test, pred))\n",
        "print('R2 score: ', r2_score(y_test, pred))"
      ],
      "metadata": {
        "id": "AHcYv6SGLzAe",
        "colab": {
          "base_uri": "https://localhost:8080/"
        },
        "outputId": "202d8454-a672-49fa-abc8-2398baf9bac6"
      },
      "execution_count": null,
      "outputs": [
        {
          "output_type": "stream",
          "name": "stdout",
          "text": [
            "mean squared:  31.243290601783634\n",
            "R2 score:  0.5739577415025858\n"
          ]
        }
      ]
    },
    {
      "cell_type": "markdown",
      "source": [
        "### **Step #8: Use the model**\n",
        "\n",
        "Using the model we created, predict the price of three houses in Boston:\n",
        "\n",
        "* House 1:  7 rooms and LSTAT is 5.0%\n",
        "\n",
        "* House 2:  6 rooms and LSTAT is 4.0%\n",
        "\n",
        "* House 3: 8 rooms and LSTAT is 15.0%\n",
        "\n",
        "**Note:** you must create a dataframe containing with the information of the new houses:\n",
        "\n",
        "```python\n",
        "new_houses = pd.DataFrame(enter_new_house_data_here, columns = [\"RM\", \"LSTAT\"])\n",
        "```\n",
        "\n",
        "This `new_houses` variable can then be placed directly into the `model.predict()` function."
      ],
      "metadata": {
        "id": "FP-SqsUctlcO"
      }
    },
    {
      "cell_type": "code",
      "source": [],
      "metadata": {
        "id": "ZueyRpTMk2JM"
      },
      "execution_count": null,
      "outputs": []
    },
    {
      "cell_type": "markdown",
      "source": [
        "#### **Solution**"
      ],
      "metadata": {
        "id": "8w08Ofqgk1Rw"
      }
    },
    {
      "cell_type": "code",
      "source": [
        "new_houses = pd.DataFrame([[5,7], [4,6], [15, 8]], columns =[\"LSTAT\", \"RM\"])\n",
        "new_prediction = reg.predict(new_houses)\n",
        "print('prediction: ', new_prediction)\n",
        "\n",
        "# median value of House 1: $31,252\n",
        "# median value of House 2: $26,419\n",
        "# median value of House 3: $30,392"
      ],
      "metadata": {
        "id": "6JBDlLDgQ2dC",
        "colab": {
          "base_uri": "https://localhost:8080/"
        },
        "outputId": "595cffd4-d419-435c-d545-8b6f66b715fc"
      },
      "execution_count": null,
      "outputs": [
        {
          "output_type": "stream",
          "name": "stdout",
          "text": [
            "prediction:  [31.25202152 26.41942131 30.39213466]\n"
          ]
        }
      ]
    },
    {
      "cell_type": "markdown",
      "source": [
        "### **Reflection questions**\n",
        "Answer the following questions:\n",
        "\n",
        "1. How well did our model perform?\n",
        "2. Would you rather buy House 1, House 2, or House 3? Why?"
      ],
      "metadata": {
        "id": "omgegSJa9dR9"
      }
    },
    {
      "cell_type": "markdown",
      "source": [
        "#### **Solution**\n",
        "\n",
        "1. The model performed decently because even though the R2 score was not super high, the predicted values were only off by about $5600.\n",
        "\n",
        "2. I would rather buy house 3 because it has the most rooms and cheaper than the 7 bedroom house."
      ],
      "metadata": {
        "id": "giok-ytL4ppN"
      }
    },
    {
      "cell_type": "markdown",
      "source": [
        "<a name=\"p2\"></a>\n",
        "\n",
        "---\n",
        "## **Part 2: Diabetes Dataset**\n",
        "---\n",
        "#### **About the Dataset**\n",
        "Diabetes is the 8th leading cause of death in the United States. More than 37 milion people in the U.S. have diabetes, and one in 5 of these individuals do not know it. This dataset contains data from diabetic patients with features such as their BMI, age, blood pressure, and glucose levels, which are useful in predicting the diabetes disease progression in patients. We will be looking at these variables to help predict disease progression in diabetic patients.\n",
        "\n",
        "The features are as follows:\n",
        "* `AGE`: age (in years)\n",
        "* `SEX`\n",
        "* `BMI`: body mass index\n",
        "* `BP`: average blood pressure\n",
        "* `S1`: tc, total serum cholesterol\n",
        "* `S2`: ldl, low-density lipoproteins\n",
        "* `S3`: hdl, high-density lipoproteins\n",
        "* `S4`: tch, total cholesterol / HDL\n",
        "* `S5`: ltg, possibly log of serum triglycerides level\n",
        "* `S6`: glu, blood sugar level\n",
        "* `Y`: quantitative measure of disease progression one year after baseline\n",
        "\n",
        "**Note:** Each of these 10 feature variables have been mean centered and scaled by the standard deviation times the square root of the number of samples (i.e. the sum of squares of each column totals 1).\n",
        "\n",
        "#### **Your Task**\n",
        "Using the Diabetes dataset, you will do the following:\n",
        "* Build a model that will predict disease progression in diabetic patients;\n",
        "* Predict the disease progression of a patient with various ages, BMIs, and blood pressures."
      ],
      "metadata": {
        "id": "A0CMPq525kSi"
      }
    },
    {
      "cell_type": "markdown",
      "source": [
        "### **Step #1: Load the data**"
      ],
      "metadata": {
        "id": "YQPB7XZ9v-sn"
      }
    },
    {
      "cell_type": "code",
      "source": [
        "file = \"https://www4.stat.ncsu.edu/~boos/var.select/diabetes.tab.txt\"\n",
        "df = pd.read_table(file, header=0, delim_whitespace=True)\n",
        "df.head()"
      ],
      "metadata": {
        "id": "C1rwfTb_rXia",
        "colab": {
          "base_uri": "https://localhost:8080/",
          "height": 206
        },
        "outputId": "c480f538-e4da-4e2a-ebe2-5da04b31efa4"
      },
      "execution_count": null,
      "outputs": [
        {
          "output_type": "execute_result",
          "data": {
            "text/plain": [
              "   AGE  SEX   BMI     BP   S1     S2    S3   S4      S5  S6    Y\n",
              "0   59    2  32.1  101.0  157   93.2  38.0  4.0  4.8598  87  151\n",
              "1   48    1  21.6   87.0  183  103.2  70.0  3.0  3.8918  69   75\n",
              "2   72    2  30.5   93.0  156   93.6  41.0  4.0  4.6728  85  141\n",
              "3   24    1  25.3   84.0  198  131.4  40.0  5.0  4.8903  89  206\n",
              "4   50    1  23.0  101.0  192  125.4  52.0  4.0  4.2905  80  135"
            ],
            "text/html": [
              "\n",
              "  <div id=\"df-89af7870-41ad-40cf-b8fd-4a94b1053d03\">\n",
              "    <div class=\"colab-df-container\">\n",
              "      <div>\n",
              "<style scoped>\n",
              "    .dataframe tbody tr th:only-of-type {\n",
              "        vertical-align: middle;\n",
              "    }\n",
              "\n",
              "    .dataframe tbody tr th {\n",
              "        vertical-align: top;\n",
              "    }\n",
              "\n",
              "    .dataframe thead th {\n",
              "        text-align: right;\n",
              "    }\n",
              "</style>\n",
              "<table border=\"1\" class=\"dataframe\">\n",
              "  <thead>\n",
              "    <tr style=\"text-align: right;\">\n",
              "      <th></th>\n",
              "      <th>AGE</th>\n",
              "      <th>SEX</th>\n",
              "      <th>BMI</th>\n",
              "      <th>BP</th>\n",
              "      <th>S1</th>\n",
              "      <th>S2</th>\n",
              "      <th>S3</th>\n",
              "      <th>S4</th>\n",
              "      <th>S5</th>\n",
              "      <th>S6</th>\n",
              "      <th>Y</th>\n",
              "    </tr>\n",
              "  </thead>\n",
              "  <tbody>\n",
              "    <tr>\n",
              "      <th>0</th>\n",
              "      <td>59</td>\n",
              "      <td>2</td>\n",
              "      <td>32.1</td>\n",
              "      <td>101.0</td>\n",
              "      <td>157</td>\n",
              "      <td>93.2</td>\n",
              "      <td>38.0</td>\n",
              "      <td>4.0</td>\n",
              "      <td>4.8598</td>\n",
              "      <td>87</td>\n",
              "      <td>151</td>\n",
              "    </tr>\n",
              "    <tr>\n",
              "      <th>1</th>\n",
              "      <td>48</td>\n",
              "      <td>1</td>\n",
              "      <td>21.6</td>\n",
              "      <td>87.0</td>\n",
              "      <td>183</td>\n",
              "      <td>103.2</td>\n",
              "      <td>70.0</td>\n",
              "      <td>3.0</td>\n",
              "      <td>3.8918</td>\n",
              "      <td>69</td>\n",
              "      <td>75</td>\n",
              "    </tr>\n",
              "    <tr>\n",
              "      <th>2</th>\n",
              "      <td>72</td>\n",
              "      <td>2</td>\n",
              "      <td>30.5</td>\n",
              "      <td>93.0</td>\n",
              "      <td>156</td>\n",
              "      <td>93.6</td>\n",
              "      <td>41.0</td>\n",
              "      <td>4.0</td>\n",
              "      <td>4.6728</td>\n",
              "      <td>85</td>\n",
              "      <td>141</td>\n",
              "    </tr>\n",
              "    <tr>\n",
              "      <th>3</th>\n",
              "      <td>24</td>\n",
              "      <td>1</td>\n",
              "      <td>25.3</td>\n",
              "      <td>84.0</td>\n",
              "      <td>198</td>\n",
              "      <td>131.4</td>\n",
              "      <td>40.0</td>\n",
              "      <td>5.0</td>\n",
              "      <td>4.8903</td>\n",
              "      <td>89</td>\n",
              "      <td>206</td>\n",
              "    </tr>\n",
              "    <tr>\n",
              "      <th>4</th>\n",
              "      <td>50</td>\n",
              "      <td>1</td>\n",
              "      <td>23.0</td>\n",
              "      <td>101.0</td>\n",
              "      <td>192</td>\n",
              "      <td>125.4</td>\n",
              "      <td>52.0</td>\n",
              "      <td>4.0</td>\n",
              "      <td>4.2905</td>\n",
              "      <td>80</td>\n",
              "      <td>135</td>\n",
              "    </tr>\n",
              "  </tbody>\n",
              "</table>\n",
              "</div>\n",
              "      <button class=\"colab-df-convert\" onclick=\"convertToInteractive('df-89af7870-41ad-40cf-b8fd-4a94b1053d03')\"\n",
              "              title=\"Convert this dataframe to an interactive table.\"\n",
              "              style=\"display:none;\">\n",
              "        \n",
              "  <svg xmlns=\"http://www.w3.org/2000/svg\" height=\"24px\"viewBox=\"0 0 24 24\"\n",
              "       width=\"24px\">\n",
              "    <path d=\"M0 0h24v24H0V0z\" fill=\"none\"/>\n",
              "    <path d=\"M18.56 5.44l.94 2.06.94-2.06 2.06-.94-2.06-.94-.94-2.06-.94 2.06-2.06.94zm-11 1L8.5 8.5l.94-2.06 2.06-.94-2.06-.94L8.5 2.5l-.94 2.06-2.06.94zm10 10l.94 2.06.94-2.06 2.06-.94-2.06-.94-.94-2.06-.94 2.06-2.06.94z\"/><path d=\"M17.41 7.96l-1.37-1.37c-.4-.4-.92-.59-1.43-.59-.52 0-1.04.2-1.43.59L10.3 9.45l-7.72 7.72c-.78.78-.78 2.05 0 2.83L4 21.41c.39.39.9.59 1.41.59.51 0 1.02-.2 1.41-.59l7.78-7.78 2.81-2.81c.8-.78.8-2.07 0-2.86zM5.41 20L4 18.59l7.72-7.72 1.47 1.35L5.41 20z\"/>\n",
              "  </svg>\n",
              "      </button>\n",
              "      \n",
              "  <style>\n",
              "    .colab-df-container {\n",
              "      display:flex;\n",
              "      flex-wrap:wrap;\n",
              "      gap: 12px;\n",
              "    }\n",
              "\n",
              "    .colab-df-convert {\n",
              "      background-color: #E8F0FE;\n",
              "      border: none;\n",
              "      border-radius: 50%;\n",
              "      cursor: pointer;\n",
              "      display: none;\n",
              "      fill: #1967D2;\n",
              "      height: 32px;\n",
              "      padding: 0 0 0 0;\n",
              "      width: 32px;\n",
              "    }\n",
              "\n",
              "    .colab-df-convert:hover {\n",
              "      background-color: #E2EBFA;\n",
              "      box-shadow: 0px 1px 2px rgba(60, 64, 67, 0.3), 0px 1px 3px 1px rgba(60, 64, 67, 0.15);\n",
              "      fill: #174EA6;\n",
              "    }\n",
              "\n",
              "    [theme=dark] .colab-df-convert {\n",
              "      background-color: #3B4455;\n",
              "      fill: #D2E3FC;\n",
              "    }\n",
              "\n",
              "    [theme=dark] .colab-df-convert:hover {\n",
              "      background-color: #434B5C;\n",
              "      box-shadow: 0px 1px 3px 1px rgba(0, 0, 0, 0.15);\n",
              "      filter: drop-shadow(0px 1px 2px rgba(0, 0, 0, 0.3));\n",
              "      fill: #FFFFFF;\n",
              "    }\n",
              "  </style>\n",
              "\n",
              "      <script>\n",
              "        const buttonEl =\n",
              "          document.querySelector('#df-89af7870-41ad-40cf-b8fd-4a94b1053d03 button.colab-df-convert');\n",
              "        buttonEl.style.display =\n",
              "          google.colab.kernel.accessAllowed ? 'block' : 'none';\n",
              "\n",
              "        async function convertToInteractive(key) {\n",
              "          const element = document.querySelector('#df-89af7870-41ad-40cf-b8fd-4a94b1053d03');\n",
              "          const dataTable =\n",
              "            await google.colab.kernel.invokeFunction('convertToInteractive',\n",
              "                                                     [key], {});\n",
              "          if (!dataTable) return;\n",
              "\n",
              "          const docLinkHtml = 'Like what you see? Visit the ' +\n",
              "            '<a target=\"_blank\" href=https://colab.research.google.com/notebooks/data_table.ipynb>data table notebook</a>'\n",
              "            + ' to learn more about interactive tables.';\n",
              "          element.innerHTML = '';\n",
              "          dataTable['output_type'] = 'display_data';\n",
              "          await google.colab.output.renderOutput(dataTable, element);\n",
              "          const docLink = document.createElement('div');\n",
              "          docLink.innerHTML = docLinkHtml;\n",
              "          element.appendChild(docLink);\n",
              "        }\n",
              "      </script>\n",
              "    </div>\n",
              "  </div>\n",
              "  "
            ]
          },
          "metadata": {},
          "execution_count": 30
        }
      ]
    },
    {
      "cell_type": "markdown",
      "source": [
        "### **Step #2: Decide independent and dependent variables**\n",
        "\n",
        "Here we would like to use the `AGE` `BMI` and `BP` columns as our independent variables and `Y` as our dependent variable.\n",
        "\n",
        "We are building a predictor of disease progression.\n"
      ],
      "metadata": {
        "id": "E5z0mLEQF565"
      }
    },
    {
      "cell_type": "code",
      "source": [],
      "metadata": {
        "id": "Le7RzFSXS7FW"
      },
      "execution_count": null,
      "outputs": []
    },
    {
      "cell_type": "markdown",
      "source": [
        "#### **Solution**"
      ],
      "metadata": {
        "id": "7ripz1GxS7cP"
      }
    },
    {
      "cell_type": "code",
      "source": [
        "df[['AGE', 'BMI', 'BP', \"Y\"]]"
      ],
      "metadata": {
        "id": "QQcn56UyGHS2",
        "colab": {
          "base_uri": "https://localhost:8080/",
          "height": 424
        },
        "outputId": "e0c32ca3-1cdd-4465-b7ba-360feadfbaee"
      },
      "execution_count": null,
      "outputs": [
        {
          "output_type": "execute_result",
          "data": {
            "text/plain": [
              "     AGE   BMI      BP    Y\n",
              "0     59  32.1  101.00  151\n",
              "1     48  21.6   87.00   75\n",
              "2     72  30.5   93.00  141\n",
              "3     24  25.3   84.00  206\n",
              "4     50  23.0  101.00  135\n",
              "..   ...   ...     ...  ...\n",
              "437   60  28.2  112.00  178\n",
              "438   47  24.9   75.00  104\n",
              "439   60  24.9   99.67  132\n",
              "440   36  30.0   95.00  220\n",
              "441   36  19.6   71.00   57\n",
              "\n",
              "[442 rows x 4 columns]"
            ],
            "text/html": [
              "\n",
              "  <div id=\"df-b172298a-1fe5-4820-8662-1fd330a3f1eb\">\n",
              "    <div class=\"colab-df-container\">\n",
              "      <div>\n",
              "<style scoped>\n",
              "    .dataframe tbody tr th:only-of-type {\n",
              "        vertical-align: middle;\n",
              "    }\n",
              "\n",
              "    .dataframe tbody tr th {\n",
              "        vertical-align: top;\n",
              "    }\n",
              "\n",
              "    .dataframe thead th {\n",
              "        text-align: right;\n",
              "    }\n",
              "</style>\n",
              "<table border=\"1\" class=\"dataframe\">\n",
              "  <thead>\n",
              "    <tr style=\"text-align: right;\">\n",
              "      <th></th>\n",
              "      <th>AGE</th>\n",
              "      <th>BMI</th>\n",
              "      <th>BP</th>\n",
              "      <th>Y</th>\n",
              "    </tr>\n",
              "  </thead>\n",
              "  <tbody>\n",
              "    <tr>\n",
              "      <th>0</th>\n",
              "      <td>59</td>\n",
              "      <td>32.1</td>\n",
              "      <td>101.00</td>\n",
              "      <td>151</td>\n",
              "    </tr>\n",
              "    <tr>\n",
              "      <th>1</th>\n",
              "      <td>48</td>\n",
              "      <td>21.6</td>\n",
              "      <td>87.00</td>\n",
              "      <td>75</td>\n",
              "    </tr>\n",
              "    <tr>\n",
              "      <th>2</th>\n",
              "      <td>72</td>\n",
              "      <td>30.5</td>\n",
              "      <td>93.00</td>\n",
              "      <td>141</td>\n",
              "    </tr>\n",
              "    <tr>\n",
              "      <th>3</th>\n",
              "      <td>24</td>\n",
              "      <td>25.3</td>\n",
              "      <td>84.00</td>\n",
              "      <td>206</td>\n",
              "    </tr>\n",
              "    <tr>\n",
              "      <th>4</th>\n",
              "      <td>50</td>\n",
              "      <td>23.0</td>\n",
              "      <td>101.00</td>\n",
              "      <td>135</td>\n",
              "    </tr>\n",
              "    <tr>\n",
              "      <th>...</th>\n",
              "      <td>...</td>\n",
              "      <td>...</td>\n",
              "      <td>...</td>\n",
              "      <td>...</td>\n",
              "    </tr>\n",
              "    <tr>\n",
              "      <th>437</th>\n",
              "      <td>60</td>\n",
              "      <td>28.2</td>\n",
              "      <td>112.00</td>\n",
              "      <td>178</td>\n",
              "    </tr>\n",
              "    <tr>\n",
              "      <th>438</th>\n",
              "      <td>47</td>\n",
              "      <td>24.9</td>\n",
              "      <td>75.00</td>\n",
              "      <td>104</td>\n",
              "    </tr>\n",
              "    <tr>\n",
              "      <th>439</th>\n",
              "      <td>60</td>\n",
              "      <td>24.9</td>\n",
              "      <td>99.67</td>\n",
              "      <td>132</td>\n",
              "    </tr>\n",
              "    <tr>\n",
              "      <th>440</th>\n",
              "      <td>36</td>\n",
              "      <td>30.0</td>\n",
              "      <td>95.00</td>\n",
              "      <td>220</td>\n",
              "    </tr>\n",
              "    <tr>\n",
              "      <th>441</th>\n",
              "      <td>36</td>\n",
              "      <td>19.6</td>\n",
              "      <td>71.00</td>\n",
              "      <td>57</td>\n",
              "    </tr>\n",
              "  </tbody>\n",
              "</table>\n",
              "<p>442 rows × 4 columns</p>\n",
              "</div>\n",
              "      <button class=\"colab-df-convert\" onclick=\"convertToInteractive('df-b172298a-1fe5-4820-8662-1fd330a3f1eb')\"\n",
              "              title=\"Convert this dataframe to an interactive table.\"\n",
              "              style=\"display:none;\">\n",
              "        \n",
              "  <svg xmlns=\"http://www.w3.org/2000/svg\" height=\"24px\"viewBox=\"0 0 24 24\"\n",
              "       width=\"24px\">\n",
              "    <path d=\"M0 0h24v24H0V0z\" fill=\"none\"/>\n",
              "    <path d=\"M18.56 5.44l.94 2.06.94-2.06 2.06-.94-2.06-.94-.94-2.06-.94 2.06-2.06.94zm-11 1L8.5 8.5l.94-2.06 2.06-.94-2.06-.94L8.5 2.5l-.94 2.06-2.06.94zm10 10l.94 2.06.94-2.06 2.06-.94-2.06-.94-.94-2.06-.94 2.06-2.06.94z\"/><path d=\"M17.41 7.96l-1.37-1.37c-.4-.4-.92-.59-1.43-.59-.52 0-1.04.2-1.43.59L10.3 9.45l-7.72 7.72c-.78.78-.78 2.05 0 2.83L4 21.41c.39.39.9.59 1.41.59.51 0 1.02-.2 1.41-.59l7.78-7.78 2.81-2.81c.8-.78.8-2.07 0-2.86zM5.41 20L4 18.59l7.72-7.72 1.47 1.35L5.41 20z\"/>\n",
              "  </svg>\n",
              "      </button>\n",
              "      \n",
              "  <style>\n",
              "    .colab-df-container {\n",
              "      display:flex;\n",
              "      flex-wrap:wrap;\n",
              "      gap: 12px;\n",
              "    }\n",
              "\n",
              "    .colab-df-convert {\n",
              "      background-color: #E8F0FE;\n",
              "      border: none;\n",
              "      border-radius: 50%;\n",
              "      cursor: pointer;\n",
              "      display: none;\n",
              "      fill: #1967D2;\n",
              "      height: 32px;\n",
              "      padding: 0 0 0 0;\n",
              "      width: 32px;\n",
              "    }\n",
              "\n",
              "    .colab-df-convert:hover {\n",
              "      background-color: #E2EBFA;\n",
              "      box-shadow: 0px 1px 2px rgba(60, 64, 67, 0.3), 0px 1px 3px 1px rgba(60, 64, 67, 0.15);\n",
              "      fill: #174EA6;\n",
              "    }\n",
              "\n",
              "    [theme=dark] .colab-df-convert {\n",
              "      background-color: #3B4455;\n",
              "      fill: #D2E3FC;\n",
              "    }\n",
              "\n",
              "    [theme=dark] .colab-df-convert:hover {\n",
              "      background-color: #434B5C;\n",
              "      box-shadow: 0px 1px 3px 1px rgba(0, 0, 0, 0.15);\n",
              "      filter: drop-shadow(0px 1px 2px rgba(0, 0, 0, 0.3));\n",
              "      fill: #FFFFFF;\n",
              "    }\n",
              "  </style>\n",
              "\n",
              "      <script>\n",
              "        const buttonEl =\n",
              "          document.querySelector('#df-b172298a-1fe5-4820-8662-1fd330a3f1eb button.colab-df-convert');\n",
              "        buttonEl.style.display =\n",
              "          google.colab.kernel.accessAllowed ? 'block' : 'none';\n",
              "\n",
              "        async function convertToInteractive(key) {\n",
              "          const element = document.querySelector('#df-b172298a-1fe5-4820-8662-1fd330a3f1eb');\n",
              "          const dataTable =\n",
              "            await google.colab.kernel.invokeFunction('convertToInteractive',\n",
              "                                                     [key], {});\n",
              "          if (!dataTable) return;\n",
              "\n",
              "          const docLinkHtml = 'Like what you see? Visit the ' +\n",
              "            '<a target=\"_blank\" href=https://colab.research.google.com/notebooks/data_table.ipynb>data table notebook</a>'\n",
              "            + ' to learn more about interactive tables.';\n",
              "          element.innerHTML = '';\n",
              "          dataTable['output_type'] = 'display_data';\n",
              "          await google.colab.output.renderOutput(dataTable, element);\n",
              "          const docLink = document.createElement('div');\n",
              "          docLink.innerHTML = docLinkHtml;\n",
              "          element.appendChild(docLink);\n",
              "        }\n",
              "      </script>\n",
              "    </div>\n",
              "  </div>\n",
              "  "
            ]
          },
          "metadata": {},
          "execution_count": 31
        }
      ]
    },
    {
      "cell_type": "markdown",
      "source": [
        "### **Step #3: Split data into training and testing data**\n",
        "\n",
        "Use `AGE`, `BMI`, and `BP` for our independent variables."
      ],
      "metadata": {
        "id": "lMDn8ONk600c"
      }
    },
    {
      "cell_type": "code",
      "source": [],
      "metadata": {
        "id": "IOuMRPdQlAVz"
      },
      "execution_count": null,
      "outputs": []
    },
    {
      "cell_type": "markdown",
      "source": [
        "#### **Solution**"
      ],
      "metadata": {
        "id": "YK0pisY4k_Mt"
      }
    },
    {
      "cell_type": "code",
      "source": [
        "X_train, X_test, y_train, y_test = model_selection.train_test_split(df[['AGE', 'BMI', 'BP']], df['Y'], test_size=0.2, random_state=42)"
      ],
      "metadata": {
        "id": "DcPqQ3sb64l9"
      },
      "execution_count": null,
      "outputs": []
    },
    {
      "cell_type": "markdown",
      "source": [
        "### **Step #4: Import your model**"
      ],
      "metadata": {
        "id": "5ADG4KRM69dJ"
      }
    },
    {
      "cell_type": "code",
      "source": [
        "# COMPLETE THIS CODE"
      ],
      "metadata": {
        "id": "VZMm4IAClBLO"
      },
      "execution_count": null,
      "outputs": []
    },
    {
      "cell_type": "markdown",
      "source": [
        "#### **Solution**"
      ],
      "metadata": {
        "id": "PGf5V-GGlA7P"
      }
    },
    {
      "cell_type": "code",
      "source": [
        "from sklearn.linear_model import LinearRegression"
      ],
      "metadata": {
        "id": "iT6gQFeLG8Ea"
      },
      "execution_count": null,
      "outputs": []
    },
    {
      "cell_type": "markdown",
      "source": [
        "### **Step #5: Initialize your model and set hyperparameters**\n",
        "\n",
        "\n",
        "Linear regression takes no hyperparameters, so just initialize the model."
      ],
      "metadata": {
        "id": "PFUiA67CHAMc"
      }
    },
    {
      "cell_type": "code",
      "source": [],
      "metadata": {
        "id": "faXqWmQElEFD"
      },
      "execution_count": null,
      "outputs": []
    },
    {
      "cell_type": "markdown",
      "source": [
        "#### **Solution**"
      ],
      "metadata": {
        "id": "C2AT01JylC-v"
      }
    },
    {
      "cell_type": "code",
      "source": [
        "LR = LinearRegression()"
      ],
      "metadata": {
        "id": "2dybrAieHAoJ"
      },
      "execution_count": null,
      "outputs": []
    },
    {
      "cell_type": "markdown",
      "source": [
        "### **Step #6: Fit your model, test on the testing data, and create a visualization if applicable**"
      ],
      "metadata": {
        "id": "xMnlj4W0HF9U"
      }
    },
    {
      "cell_type": "code",
      "source": [],
      "metadata": {
        "id": "h5iPDJmJlFAQ"
      },
      "execution_count": null,
      "outputs": []
    },
    {
      "cell_type": "markdown",
      "source": [
        "#### **Solution**"
      ],
      "metadata": {
        "id": "Wc79icrslEyz"
      }
    },
    {
      "cell_type": "code",
      "source": [
        "LR.fit(X_train, y_train)\n",
        "pred = LR.predict(X_test)"
      ],
      "metadata": {
        "id": "9bbjacst7DL5"
      },
      "execution_count": null,
      "outputs": []
    },
    {
      "cell_type": "markdown",
      "source": [
        "#### **Create a visualization**\n",
        "\n",
        "Use `y_test` and your `prediction` from the model to create a scatter plot. Then use the following line to visualize where a correct prediction would be. The code has already been given to you.\n",
        "```\n",
        "plt.plot([0, 300], [0, 300], '--k', label=\"Correct prediction\")\n",
        "```"
      ],
      "metadata": {
        "id": "6DmQtTt9HNJE"
      }
    },
    {
      "cell_type": "code",
      "source": [
        "plt.figure(figsize=(8, 8))\n",
        "plt.scatter(y_test, pred)\n",
        "plt.plot([0, 300], [0, 300], '--k', label=\"Correct prediction\")\n",
        "plt.axis('tight')\n",
        "plt.xlabel('True Progression')\n",
        "plt.ylabel('Predicted Progression')\n",
        "plt.title(\"Real vs predicted Disease Progression in Diabetic Patients\")\n",
        "plt.legend()\n",
        "plt.tight_layout()"
      ],
      "metadata": {
        "id": "ZXX56Q1rHRM-",
        "colab": {
          "base_uri": "https://localhost:8080/",
          "height": 646
        },
        "outputId": "2d499bb4-389d-4ec4-bc02-456230f78cc5"
      },
      "execution_count": null,
      "outputs": [
        {
          "output_type": "display_data",
          "data": {
            "text/plain": [
              "<Figure size 800x800 with 1 Axes>"
            ],
            "image/png": "[encoded data removed]"
          },
          "metadata": {}
        }
      ]
    },
    {
      "cell_type": "markdown",
      "source": [
        "### **Step #7: Evaluate your model**\n",
        "\n",
        "Use mean squared error and the R2 score as the evaluation metrics.\n"
      ],
      "metadata": {
        "id": "9hqWuSqc7Tpp"
      }
    },
    {
      "cell_type": "code",
      "source": [],
      "metadata": {
        "id": "9Q0ABlESlNDE"
      },
      "execution_count": null,
      "outputs": []
    },
    {
      "cell_type": "markdown",
      "source": [
        "#### **Solution**"
      ],
      "metadata": {
        "id": "tR1r0bFJlL7m"
      }
    },
    {
      "cell_type": "code",
      "source": [
        "from sklearn.metrics import mean_squared_error\n",
        "print('mean squared: ', mean_squared_error(y_test, pred))\n",
        "from sklearn.metrics import r2_score\n",
        "print('r squared: ', r2_score(y_test, pred))"
      ],
      "metadata": {
        "id": "JDOKhwf_7ZvL",
        "colab": {
          "base_uri": "https://localhost:8080/"
        },
        "outputId": "0e45a85e-d420-4619-89bc-fb84fb750ecf"
      },
      "execution_count": null,
      "outputs": [
        {
          "output_type": "stream",
          "name": "stdout",
          "text": [
            "mean squared:  3756.8366496443828\n",
            "r squared:  0.2909156196410876\n"
          ]
        }
      ]
    },
    {
      "cell_type": "markdown",
      "source": [
        "### **Step #8: Use the model**\n",
        "\n",
        "Using the model we created, predict the disease progression of two new patients:\n",
        "\n",
        "* Patient 1:  age 45, bmi of 26.3, and average blood pressure of 98\n",
        "\n",
        "* Patient 2:  age 39, bmi of 22.7, and average blood pressure of 114\n",
        "\n",
        "**Note:** you must create a dataframe containing with the information of the new patients:\n",
        "\n",
        "```python\n",
        "new_patient_data = pd.DataFrame(new_patient_data_here, columns =[\"AGE\", \"BMI\", \"BP\"])\n",
        "```"
      ],
      "metadata": {
        "id": "kKm0SpTVQMkn"
      }
    },
    {
      "cell_type": "code",
      "source": [],
      "metadata": {
        "id": "I6lImblY6OM-"
      },
      "execution_count": null,
      "outputs": []
    },
    {
      "cell_type": "markdown",
      "source": [
        "#####**Solution**"
      ],
      "metadata": {
        "id": "dcuVF4tD6Oft"
      }
    },
    {
      "cell_type": "code",
      "source": [
        "# Prediction\n",
        "new_patient_data = pd.DataFrame([[45, 26.3, 98],[39, 22.7, 114]], columns = [\"AGE\", \"BMI\", \"BP\"])\n",
        "disease_prediction = LR.predict(new_patient_data)\n",
        "print('prediction: ', disease_prediction)\n",
        "# Patient 1: predicted disease progression value of 154.855\n",
        "# Patient 2: predicted disease progression value of 142.302"
      ],
      "metadata": {
        "id": "GTtU_xbJQ0QX",
        "colab": {
          "base_uri": "https://localhost:8080/"
        },
        "outputId": "ca116d1b-6973-4064-b8a1-43da646797ec"
      },
      "execution_count": null,
      "outputs": [
        {
          "output_type": "stream",
          "name": "stdout",
          "text": [
            "prediction:  [154.85468555 142.30161944]\n"
          ]
        }
      ]
    },
    {
      "cell_type": "markdown",
      "source": [
        "### **Reflection questions**\n",
        "Answer the following questions based on the scatter plot:\n",
        "\n",
        "1. Does your model tend to overpredict or underpredict for a true progression value less than 150?\n",
        "2. Does your model tend to overpredict or underpredict for a true progression value above 150?"
      ],
      "metadata": {
        "id": "gHZtBij9Lw6_"
      }
    },
    {
      "cell_type": "markdown",
      "source": [
        "#### **Solution**\n",
        "\n",
        "1. The model overpredicted a lot when the true progression value was less than 150 because most of the plotted points are above the correct prediction line.\n",
        "\n",
        "2. The model underpredicted a lot when the true progression value was greater than 150 because most of the plotted points are below the correct prediction line."
      ],
      "metadata": {
        "id": "ylwGuJ_f48dG"
      }
    },
    {
      "cell_type": "markdown",
      "source": [
        "<a name=\"p3\"></a>\n",
        "\n",
        "---\n",
        "## **[HOMEWORK] Part 3: California Housing Dataset**\n",
        "---\n",
        "\n",
        "#### **About the Dataset**\n",
        "The price of a home in California is nearly double the national average. The California Housing Dataset is a collection of data containing information on the median house value and other features of census block groups in California. This dataset was derived from the 1990 U.S. Census, using one row per census block group. A block group is the smallest geographical unit for which the U.S. Census Bureau publishes sample data (a block group typically has a population of 600 to 3,000 people).\n",
        "\n",
        "The features are as follows:\n",
        "* `MedInc`: median income in block group (in hundreds of thousands of dollars, i.e. \\$100,000)\n",
        "* `HouseAge`: median house age in block group\n",
        "* `AveRooms`: average number of rooms per household\n",
        "* `AveBedrms`: average number of bedrooms per household\n",
        "* `Population`: block group population\n",
        "* `AveOccup`: average number of household members\n",
        "* `Latitude`: block group latitude\n",
        "* `Longtitude`: block group longitude\n",
        "* `TARGET`: median house value for California districts (in hundreds of thousands of dollars, i.e. $100,000)\n",
        "\n",
        "#### **Your Task**\n",
        "Using the California Housing dataset, you will do the following:\n",
        "*  Make a model that will predict the median house value in California in 1990\n",
        "* Predict the median house value for a specific home.\n",
        "\n",
        "As you build your model, try using different features for your model and see how the accuracy changes.\n"
      ],
      "metadata": {
        "id": "aF6K9Aot78B8"
      }
    },
    {
      "cell_type": "markdown",
      "source": [
        "### **Step #1: Load the data**\n"
      ],
      "metadata": {
        "id": "r5TPUa-PyKKt"
      }
    },
    {
      "cell_type": "code",
      "source": [
        "#import relevant packages\n",
        "from sklearn.datasets import fetch_california_housing\n",
        "import matplotlib.pyplot as plt\n",
        "from sklearn.metrics import mean_squared_error\n",
        "from sklearn.model_selection import train_test_split\n",
        "from sklearn.linear_model import LinearRegression\n",
        "\n",
        "# 1\n",
        "cali_data = fetch_california_housing()\n",
        "df = pd.DataFrame(data=cali_data.data, columns=cali_data.feature_names)\n",
        "df['TARGET'] = cali_data.target\n"
      ],
      "metadata": {
        "id": "a0Zp2GECIZUs"
      },
      "execution_count": null,
      "outputs": []
    },
    {
      "cell_type": "markdown",
      "source": [
        "### **Step #2: Decide independent and dependent variables**\n",
        "\n",
        "The dependent variable will be the `TARGET`, so find the best independent variables using `.var()` and `.corr()`. `.var` shows the variance for each variable, and in general lower values tend to be better. `.corr()` shows a correlation matrix between each pair of variables, so looking at the `TARGET` row or column can tell you how much variables are correlated with `TARGET`."
      ],
      "metadata": {
        "id": "jTc99Mtg0eAd"
      }
    },
    {
      "cell_type": "code",
      "source": [
        "# var"
      ],
      "metadata": {
        "id": "ZNNA3ZHsldnu"
      },
      "execution_count": null,
      "outputs": []
    },
    {
      "cell_type": "code",
      "source": [
        "# corr"
      ],
      "metadata": {
        "id": "6m2xamF1ldXo"
      },
      "execution_count": null,
      "outputs": []
    },
    {
      "cell_type": "markdown",
      "source": [
        "#### **Solution**"
      ],
      "metadata": {
        "id": "P8z1wAo0lcZU"
      }
    },
    {
      "cell_type": "code",
      "source": [
        "df.var()"
      ],
      "metadata": {
        "id": "QS72J4Qq0dqD",
        "colab": {
          "base_uri": "https://localhost:8080/"
        },
        "outputId": "c99b5a05-1551-4afe-81ef-746ffed1261d"
      },
      "execution_count": null,
      "outputs": [
        {
          "output_type": "execute_result",
          "data": {
            "text/plain": [
              "MedInc        3.609323e+00\n",
              "HouseAge      1.583963e+02\n",
              "AveRooms      6.121533e+00\n",
              "AveBedrms     2.245915e-01\n",
              "Population    1.282470e+06\n",
              "AveOccup      1.078700e+02\n",
              "Latitude      4.562293e+00\n",
              "Longitude     4.014139e+00\n",
              "TARGET        1.331615e+00\n",
              "dtype: float64"
            ]
          },
          "metadata": {},
          "execution_count": 145
        }
      ]
    },
    {
      "cell_type": "code",
      "source": [
        "df.corr()"
      ],
      "metadata": {
        "id": "KPPJP7Ni0h3F",
        "colab": {
          "base_uri": "https://localhost:8080/",
          "height": 375
        },
        "outputId": "8c39424e-9edc-4262-f36d-903677f90e7d"
      },
      "execution_count": null,
      "outputs": [
        {
          "output_type": "execute_result",
          "data": {
            "text/plain": [
              "              MedInc  HouseAge  AveRooms  AveBedrms  Population  AveOccup  \\\n",
              "MedInc      1.000000 -0.119034  0.326895  -0.062040    0.004834  0.018766   \n",
              "HouseAge   -0.119034  1.000000 -0.153277  -0.077747   -0.296244  0.013191   \n",
              "AveRooms    0.326895 -0.153277  1.000000   0.847621   -0.072213 -0.004852   \n",
              "AveBedrms  -0.062040 -0.077747  0.847621   1.000000   -0.066197 -0.006181   \n",
              "Population  0.004834 -0.296244 -0.072213  -0.066197    1.000000  0.069863   \n",
              "AveOccup    0.018766  0.013191 -0.004852  -0.006181    0.069863  1.000000   \n",
              "Latitude   -0.079809  0.011173  0.106389   0.069721   -0.108785  0.002366   \n",
              "Longitude  -0.015176 -0.108197 -0.027540   0.013344    0.099773  0.002476   \n",
              "TARGET      0.688075  0.105623  0.151948  -0.046701   -0.024650 -0.023737   \n",
              "\n",
              "            Latitude  Longitude    TARGET  \n",
              "MedInc     -0.079809  -0.015176  0.688075  \n",
              "HouseAge    0.011173  -0.108197  0.105623  \n",
              "AveRooms    0.106389  -0.027540  0.151948  \n",
              "AveBedrms   0.069721   0.013344 -0.046701  \n",
              "Population -0.108785   0.099773 -0.024650  \n",
              "AveOccup    0.002366   0.002476 -0.023737  \n",
              "Latitude    1.000000  -0.924664 -0.144160  \n",
              "Longitude  -0.924664   1.000000 -0.045967  \n",
              "TARGET     -0.144160  -0.045967  1.000000  "
            ],
            "text/html": [
              "\n",
              "  <div id=\"df-7c9a3b5b-1cd4-41d8-a784-79d9b46f2534\">\n",
              "    <div class=\"colab-df-container\">\n",
              "      <div>\n",
              "<style scoped>\n",
              "    .dataframe tbody tr th:only-of-type {\n",
              "        vertical-align: middle;\n",
              "    }\n",
              "\n",
              "    .dataframe tbody tr th {\n",
              "        vertical-align: top;\n",
              "    }\n",
              "\n",
              "    .dataframe thead th {\n",
              "        text-align: right;\n",
              "    }\n",
              "</style>\n",
              "<table border=\"1\" class=\"dataframe\">\n",
              "  <thead>\n",
              "    <tr style=\"text-align: right;\">\n",
              "      <th></th>\n",
              "      <th>MedInc</th>\n",
              "      <th>HouseAge</th>\n",
              "      <th>AveRooms</th>\n",
              "      <th>AveBedrms</th>\n",
              "      <th>Population</th>\n",
              "      <th>AveOccup</th>\n",
              "      <th>Latitude</th>\n",
              "      <th>Longitude</th>\n",
              "      <th>TARGET</th>\n",
              "    </tr>\n",
              "  </thead>\n",
              "  <tbody>\n",
              "    <tr>\n",
              "      <th>MedInc</th>\n",
              "      <td>1.000000</td>\n",
              "      <td>-0.119034</td>\n",
              "      <td>0.326895</td>\n",
              "      <td>-0.062040</td>\n",
              "      <td>0.004834</td>\n",
              "      <td>0.018766</td>\n",
              "      <td>-0.079809</td>\n",
              "      <td>-0.015176</td>\n",
              "      <td>0.688075</td>\n",
              "    </tr>\n",
              "    <tr>\n",
              "      <th>HouseAge</th>\n",
              "      <td>-0.119034</td>\n",
              "      <td>1.000000</td>\n",
              "      <td>-0.153277</td>\n",
              "      <td>-0.077747</td>\n",
              "      <td>-0.296244</td>\n",
              "      <td>0.013191</td>\n",
              "      <td>0.011173</td>\n",
              "      <td>-0.108197</td>\n",
              "      <td>0.105623</td>\n",
              "    </tr>\n",
              "    <tr>\n",
              "      <th>AveRooms</th>\n",
              "      <td>0.326895</td>\n",
              "      <td>-0.153277</td>\n",
              "      <td>1.000000</td>\n",
              "      <td>0.847621</td>\n",
              "      <td>-0.072213</td>\n",
              "      <td>-0.004852</td>\n",
              "      <td>0.106389</td>\n",
              "      <td>-0.027540</td>\n",
              "      <td>0.151948</td>\n",
              "    </tr>\n",
              "    <tr>\n",
              "      <th>AveBedrms</th>\n",
              "      <td>-0.062040</td>\n",
              "      <td>-0.077747</td>\n",
              "      <td>0.847621</td>\n",
              "      <td>1.000000</td>\n",
              "      <td>-0.066197</td>\n",
              "      <td>-0.006181</td>\n",
              "      <td>0.069721</td>\n",
              "      <td>0.013344</td>\n",
              "      <td>-0.046701</td>\n",
              "    </tr>\n",
              "    <tr>\n",
              "      <th>Population</th>\n",
              "      <td>0.004834</td>\n",
              "      <td>-0.296244</td>\n",
              "      <td>-0.072213</td>\n",
              "      <td>-0.066197</td>\n",
              "      <td>1.000000</td>\n",
              "      <td>0.069863</td>\n",
              "      <td>-0.108785</td>\n",
              "      <td>0.099773</td>\n",
              "      <td>-0.024650</td>\n",
              "    </tr>\n",
              "    <tr>\n",
              "      <th>AveOccup</th>\n",
              "      <td>0.018766</td>\n",
              "      <td>0.013191</td>\n",
              "      <td>-0.004852</td>\n",
              "      <td>-0.006181</td>\n",
              "      <td>0.069863</td>\n",
              "      <td>1.000000</td>\n",
              "      <td>0.002366</td>\n",
              "      <td>0.002476</td>\n",
              "      <td>-0.023737</td>\n",
              "    </tr>\n",
              "    <tr>\n",
              "      <th>Latitude</th>\n",
              "      <td>-0.079809</td>\n",
              "      <td>0.011173</td>\n",
              "      <td>0.106389</td>\n",
              "      <td>0.069721</td>\n",
              "      <td>-0.108785</td>\n",
              "      <td>0.002366</td>\n",
              "      <td>1.000000</td>\n",
              "      <td>-0.924664</td>\n",
              "      <td>-0.144160</td>\n",
              "    </tr>\n",
              "    <tr>\n",
              "      <th>Longitude</th>\n",
              "      <td>-0.015176</td>\n",
              "      <td>-0.108197</td>\n",
              "      <td>-0.027540</td>\n",
              "      <td>0.013344</td>\n",
              "      <td>0.099773</td>\n",
              "      <td>0.002476</td>\n",
              "      <td>-0.924664</td>\n",
              "      <td>1.000000</td>\n",
              "      <td>-0.045967</td>\n",
              "    </tr>\n",
              "    <tr>\n",
              "      <th>TARGET</th>\n",
              "      <td>0.688075</td>\n",
              "      <td>0.105623</td>\n",
              "      <td>0.151948</td>\n",
              "      <td>-0.046701</td>\n",
              "      <td>-0.024650</td>\n",
              "      <td>-0.023737</td>\n",
              "      <td>-0.144160</td>\n",
              "      <td>-0.045967</td>\n",
              "      <td>1.000000</td>\n",
              "    </tr>\n",
              "  </tbody>\n",
              "</table>\n",
              "</div>\n",
              "      <button class=\"colab-df-convert\" onclick=\"convertToInteractive('df-7c9a3b5b-1cd4-41d8-a784-79d9b46f2534')\"\n",
              "              title=\"Convert this dataframe to an interactive table.\"\n",
              "              style=\"display:none;\">\n",
              "        \n",
              "  <svg xmlns=\"http://www.w3.org/2000/svg\" height=\"24px\"viewBox=\"0 0 24 24\"\n",
              "       width=\"24px\">\n",
              "    <path d=\"M0 0h24v24H0V0z\" fill=\"none\"/>\n",
              "    <path d=\"M18.56 5.44l.94 2.06.94-2.06 2.06-.94-2.06-.94-.94-2.06-.94 2.06-2.06.94zm-11 1L8.5 8.5l.94-2.06 2.06-.94-2.06-.94L8.5 2.5l-.94 2.06-2.06.94zm10 10l.94 2.06.94-2.06 2.06-.94-2.06-.94-.94-2.06-.94 2.06-2.06.94z\"/><path d=\"M17.41 7.96l-1.37-1.37c-.4-.4-.92-.59-1.43-.59-.52 0-1.04.2-1.43.59L10.3 9.45l-7.72 7.72c-.78.78-.78 2.05 0 2.83L4 21.41c.39.39.9.59 1.41.59.51 0 1.02-.2 1.41-.59l7.78-7.78 2.81-2.81c.8-.78.8-2.07 0-2.86zM5.41 20L4 18.59l7.72-7.72 1.47 1.35L5.41 20z\"/>\n",
              "  </svg>\n",
              "      </button>\n",
              "      \n",
              "  <style>\n",
              "    .colab-df-container {\n",
              "      display:flex;\n",
              "      flex-wrap:wrap;\n",
              "      gap: 12px;\n",
              "    }\n",
              "\n",
              "    .colab-df-convert {\n",
              "      background-color: #E8F0FE;\n",
              "      border: none;\n",
              "      border-radius: 50%;\n",
              "      cursor: pointer;\n",
              "      display: none;\n",
              "      fill: #1967D2;\n",
              "      height: 32px;\n",
              "      padding: 0 0 0 0;\n",
              "      width: 32px;\n",
              "    }\n",
              "\n",
              "    .colab-df-convert:hover {\n",
              "      background-color: #E2EBFA;\n",
              "      box-shadow: 0px 1px 2px rgba(60, 64, 67, 0.3), 0px 1px 3px 1px rgba(60, 64, 67, 0.15);\n",
              "      fill: #174EA6;\n",
              "    }\n",
              "\n",
              "    [theme=dark] .colab-df-convert {\n",
              "      background-color: #3B4455;\n",
              "      fill: #D2E3FC;\n",
              "    }\n",
              "\n",
              "    [theme=dark] .colab-df-convert:hover {\n",
              "      background-color: #434B5C;\n",
              "      box-shadow: 0px 1px 3px 1px rgba(0, 0, 0, 0.15);\n",
              "      filter: drop-shadow(0px 1px 2px rgba(0, 0, 0, 0.3));\n",
              "      fill: #FFFFFF;\n",
              "    }\n",
              "  </style>\n",
              "\n",
              "      <script>\n",
              "        const buttonEl =\n",
              "          document.querySelector('#df-7c9a3b5b-1cd4-41d8-a784-79d9b46f2534 button.colab-df-convert');\n",
              "        buttonEl.style.display =\n",
              "          google.colab.kernel.accessAllowed ? 'block' : 'none';\n",
              "\n",
              "        async function convertToInteractive(key) {\n",
              "          const element = document.querySelector('#df-7c9a3b5b-1cd4-41d8-a784-79d9b46f2534');\n",
              "          const dataTable =\n",
              "            await google.colab.kernel.invokeFunction('convertToInteractive',\n",
              "                                                     [key], {});\n",
              "          if (!dataTable) return;\n",
              "\n",
              "          const docLinkHtml = 'Like what you see? Visit the ' +\n",
              "            '<a target=\"_blank\" href=https://colab.research.google.com/notebooks/data_table.ipynb>data table notebook</a>'\n",
              "            + ' to learn more about interactive tables.';\n",
              "          element.innerHTML = '';\n",
              "          dataTable['output_type'] = 'display_data';\n",
              "          await google.colab.output.renderOutput(dataTable, element);\n",
              "          const docLink = document.createElement('div');\n",
              "          docLink.innerHTML = docLinkHtml;\n",
              "          element.appendChild(docLink);\n",
              "        }\n",
              "      </script>\n",
              "    </div>\n",
              "  </div>\n",
              "  "
            ]
          },
          "metadata": {},
          "execution_count": 146
        }
      ]
    },
    {
      "cell_type": "markdown",
      "source": [
        "### **Steps #3-6: Split data, import/initialize your model, fit the model, make a prediction, and create a visualization**"
      ],
      "metadata": {
        "id": "-1TLEQbGySOF"
      }
    },
    {
      "cell_type": "code",
      "source": [
        "# 2 - nothing to do here, we used HouseAge, AveBedrms, Latitude, and Longitude\n",
        "\n",
        "# 3\n",
        "X_train, X_test, y_train, y_test = train_test_split(df[['HouseAge',\t'AveBedrms','Latitude',\t'Longitude']], df['TARGET'], test_size=0.2)\n",
        "\n",
        "# 4 - 6\n"
      ],
      "metadata": {
        "id": "RdQ2N7uDlmu6"
      },
      "execution_count": null,
      "outputs": []
    },
    {
      "cell_type": "code",
      "source": [
        "# 6 part two: visualization\n",
        "\n",
        "\n",
        "\n",
        "\n",
        "\n",
        "\n"
      ],
      "metadata": {
        "id": "RHwjXtO5lsla"
      },
      "execution_count": null,
      "outputs": []
    },
    {
      "cell_type": "markdown",
      "source": [
        "#### **Solution**"
      ],
      "metadata": {
        "id": "O0SuopYRlkmz"
      }
    },
    {
      "cell_type": "code",
      "source": [
        "# 2 - we used HouseAge, AveBedrms, Latitude, and Longitude\n",
        "\n",
        "# 3\n",
        "X_train, X_test, y_train, y_test = train_test_split(df[['HouseAge',\t'AveBedrms','Latitude',\t'Longitude']], df['TARGET'], test_size=0.2)\n",
        "\n",
        "# 4 - 6\n",
        "LR2 = LinearRegression()\n",
        "LR2.fit(X=X_train, y=y_train)\n",
        "test_pred = LR2.predict(X_test)"
      ],
      "metadata": {
        "id": "IOk3_aJMlBBl"
      },
      "execution_count": null,
      "outputs": []
    },
    {
      "cell_type": "code",
      "source": [
        "# 6 part two\n",
        "plt.figure(figsize=(8, 8))\n",
        "plt.scatter(y_test, test_pred, alpha = 0.25)\n",
        "plt.plot([0, 6], [0, 6], '--k', label=\"Correct prediction\")\n",
        "plt.axis('tight')\n",
        "plt.xlabel('True Price (in $100,000s)')\n",
        "plt.ylabel('Predicted Price (in $100,000s)')\n",
        "plt.title(\"Real vs predicted house prices in California\")\n",
        "plt.legend()\n",
        "plt.tight_layout()"
      ],
      "metadata": {
        "id": "6r8IrMmNytC-"
      },
      "execution_count": null,
      "outputs": []
    },
    {
      "cell_type": "markdown",
      "source": [
        "### **Steps #7-8: Evaluate and use the model**\n",
        "\n",
        "Use mean squared error as the evaluation metric. Then use the model to predict the median house value for a home that is 51 years old, has an average of 7.2 bedrooms, and is at 38.1 latitude and -121.08 longitude."
      ],
      "metadata": {
        "id": "Sr_2Pqe9yrfx"
      }
    },
    {
      "cell_type": "code",
      "source": [
        "# 7\n",
        "\n",
        "\n",
        "# 8"
      ],
      "metadata": {
        "id": "6G9WKzEolwOh"
      },
      "execution_count": null,
      "outputs": []
    },
    {
      "cell_type": "markdown",
      "source": [
        "#### **Solution**"
      ],
      "metadata": {
        "id": "3ZAbt9balvaJ"
      }
    },
    {
      "cell_type": "code",
      "source": [
        "# 7\n",
        "print('mean squared: ', mean_squared_error(y_test, test_pred))\n",
        "\n",
        "# 8\n",
        "prediction = LR2.predict(pd.DataFrame([[51, 7.2, 38.1, -121.08]],\n",
        "                         columns=['HouseAge',\t'AveBedrms','Latitude',\t'Longitude']))\n",
        "print('prediction: ', prediction)\n",
        "\n",
        "# median home value is $220,873"
      ],
      "metadata": {
        "id": "XjpqaBgoytcN"
      },
      "execution_count": null,
      "outputs": []
    },
    {
      "cell_type": "markdown",
      "source": [
        "### **Step #9: Using Different Features**\n",
        "\n",
        "This time, use `MedInc`, `HouseAge`, `AveRooms`, and `AveBedrms` as the independent variables. Create a linear regression model, and evaluate it using mean squared error as the metric. Then predict the median house value for a home where the median income is $200,000, the house is 51 years old, there are 11.4 average rooms, and 7.2 average bedrooms. Observe the difference in this model's accuracy and prediction."
      ],
      "metadata": {
        "id": "YW2nGRQpgA2C"
      }
    },
    {
      "cell_type": "code",
      "source": [],
      "metadata": {
        "id": "0uxJhlTCh0an"
      },
      "execution_count": null,
      "outputs": []
    },
    {
      "cell_type": "markdown",
      "source": [
        "#####**Solution**"
      ],
      "metadata": {
        "id": "EAz6aFgjh0si"
      }
    },
    {
      "cell_type": "code",
      "source": [
        "X_train, X_test, y_train, y_test = train_test_split(df[['MedInc', 'HouseAge',\t'AveRooms', 'AveBedrms']], df['TARGET'], test_size=0.2)\n",
        "\n",
        "# 4 - 6\n",
        "LR2 = LinearRegression()\n",
        "LR2.fit(X=X_train, y=y_train)\n",
        "test_pred = LR2.predict(X_test)\n",
        "\n",
        "# 7\n",
        "print('mean squared: ', mean_squared_error(y_test, test_pred))\n",
        "\n",
        "# 8\n",
        "prediction = LR2.predict(pd.DataFrame([[2, 51, 11.4, 7.2]],\n",
        "                         columns=['MedInc',\t'HouseAge','AveRooms',\t'AveBedrms']))\n",
        "print('prediction: ', prediction)"
      ],
      "metadata": {
        "id": "Y8o88-mAh2En"
      },
      "execution_count": null,
      "outputs": []
    },
    {
      "cell_type": "markdown",
      "source": [
        "### **Reflection question**\n",
        "Answer the following question:\n",
        "\n",
        "1. Which 3 features have the highest correlation with `TARGET`?\n",
        "2. What were some differences in how your two models performed?"
      ],
      "metadata": {
        "id": "D5WRd7ODmXUQ"
      }
    },
    {
      "cell_type": "markdown",
      "source": [
        "#### **Solution**\n",
        "\n",
        "1. MedInc, AveRooms, and and HouseAge.\n",
        "\n",
        "2. The second model had a lower mean squared error, meaning it is more accurate. MedInc and AveRooms were better features to use than Latitude and Longitude for predicting median house value."
      ],
      "metadata": {
        "id": "XazC7-jD5G9X"
      }
    },
    {
      "cell_type": "markdown",
      "source": [
        "<a name=\"p4\"></a>\n",
        "\n",
        "---\n",
        "## **Part 4: [RECOMMENDED HOMEWORK] CO2 Emissions Dataset**\n",
        "---\n",
        "\n",
        "#### **About the Dataset**\n",
        "Since 1970, CO2 emissions have increased by nearly 90%. These elevated CO2 levels cause poor air quality and contribute to climate change. Globally, cars and other transportation vehicles are responsible for about 29% of overall CO2 emissions. This CO2 emissions dataset is a collection of data from cars that contains information on the car's make, model, volume, weight, and how much CO2 it emits.\n",
        "\n",
        "The features are as follows:\n",
        "* `Car`: name of car brand\n",
        "* `Model`: name of car model\n",
        "* `Volume`: engine size (in cm^3)\n",
        "* `Weight`: weight of car (in kg)\n",
        "* `CO2`: amount of CO2 emitted (in g/km)\n",
        "\n",
        "#### **Your Task**\n",
        "Using the CO2 Emissions dataset, you will do the following:\n",
        "* Build a model that will predict the CO2 emissions of a car;\n",
        "* Predict the CO2 emissions of a car with a specific volume and weight.\n"
      ],
      "metadata": {
        "id": "2I1Jg2wSymZf"
      }
    },
    {
      "cell_type": "markdown",
      "source": [
        "### **Step #1: Load the data**"
      ],
      "metadata": {
        "id": "uALsY1jv0OtU"
      }
    },
    {
      "cell_type": "code",
      "source": [
        "import pandas as pd\n",
        "url = \"https://raw.githubusercontent.com/the-codingschool/TRAIN/main/emissions/car_emissions.csv\"\n",
        "cars_df = pd.read_csv(url)\n",
        "cars_df.head()"
      ],
      "metadata": {
        "id": "pg99h8lr0L0F"
      },
      "execution_count": null,
      "outputs": []
    },
    {
      "cell_type": "markdown",
      "source": [
        "### **Step #2: Decide independent and dependent variables**\n",
        "\n",
        "We are going to use `Volume` and `Weight` as our independent variables for predicting `CO2` emissions.\n",
        "\n"
      ],
      "metadata": {
        "id": "5DJtkoHn0bL8"
      }
    },
    {
      "cell_type": "code",
      "source": [],
      "metadata": {
        "id": "f7-0cUep0naJ"
      },
      "execution_count": null,
      "outputs": []
    },
    {
      "cell_type": "markdown",
      "source": [
        "#### **Solution**"
      ],
      "metadata": {
        "id": "GAOzkYPM1cqF"
      }
    },
    {
      "cell_type": "code",
      "source": [
        "cars_df[['Volume', 'Weight', \"CO2\"]]"
      ],
      "metadata": {
        "id": "GcIBVg991gsX"
      },
      "execution_count": null,
      "outputs": []
    },
    {
      "cell_type": "markdown",
      "source": [
        "### **Step #3: Split data into training and testing data**\n"
      ],
      "metadata": {
        "id": "5omgCtfW1i4U"
      }
    },
    {
      "cell_type": "code",
      "source": [],
      "metadata": {
        "id": "uE_3S_vw1mIr"
      },
      "execution_count": null,
      "outputs": []
    },
    {
      "cell_type": "markdown",
      "source": [
        "#### **Solution**"
      ],
      "metadata": {
        "id": "t7QDcTqs1mYd"
      }
    },
    {
      "cell_type": "code",
      "source": [
        "X_train, X_test, y_train, y_test = model_selection.train_test_split(cars_df[['Volume', 'Weight']], cars_df['CO2'], test_size=0.2, random_state=42)"
      ],
      "metadata": {
        "id": "dHA972-p1nEx"
      },
      "execution_count": null,
      "outputs": []
    },
    {
      "cell_type": "markdown",
      "source": [
        "### **Step #4: Import your algorithm**\n"
      ],
      "metadata": {
        "id": "rrBakbiK1qGv"
      }
    },
    {
      "cell_type": "code",
      "source": [],
      "metadata": {
        "id": "0-KRBRBN1s3W"
      },
      "execution_count": null,
      "outputs": []
    },
    {
      "cell_type": "markdown",
      "source": [
        "#### **Solution**"
      ],
      "metadata": {
        "id": "3Y-HHrp51tH1"
      }
    },
    {
      "cell_type": "code",
      "source": [
        "from sklearn.linear_model import LinearRegression"
      ],
      "metadata": {
        "id": "67Rtpiuu1tcC"
      },
      "execution_count": null,
      "outputs": []
    },
    {
      "cell_type": "markdown",
      "source": [
        "### **Step #5: Initialize your model and set hyperparameters**\n",
        "\n",
        "Linear regression takes no hyperparameters, so just initialize the model."
      ],
      "metadata": {
        "id": "EEBL8QJ811ZN"
      }
    },
    {
      "cell_type": "code",
      "source": [],
      "metadata": {
        "id": "qPq8Sokb167W"
      },
      "execution_count": null,
      "outputs": []
    },
    {
      "cell_type": "markdown",
      "source": [
        "#### **Solution**"
      ],
      "metadata": {
        "id": "qWS7EmNI17KD"
      }
    },
    {
      "cell_type": "code",
      "source": [
        "LR = LinearRegression()"
      ],
      "metadata": {
        "id": "thD9-v0m17pp"
      },
      "execution_count": null,
      "outputs": []
    },
    {
      "cell_type": "markdown",
      "source": [
        "### **Step #6: Fit your model, test on the testing data**"
      ],
      "metadata": {
        "id": "xTpPtWDz1-YZ"
      }
    },
    {
      "cell_type": "code",
      "source": [],
      "metadata": {
        "id": "J7s6t9fF2BnG"
      },
      "execution_count": null,
      "outputs": []
    },
    {
      "cell_type": "markdown",
      "source": [
        "#### **Solution**"
      ],
      "metadata": {
        "id": "7EEBnypI2B1O"
      }
    },
    {
      "cell_type": "code",
      "source": [
        "LR.fit(X_train, y_train)\n",
        "y_pred = LR.predict(X_test)"
      ],
      "metadata": {
        "id": "RGPwnhXx2CLG"
      },
      "execution_count": null,
      "outputs": []
    },
    {
      "cell_type": "markdown",
      "source": [
        "### **Step #7: Evaluate your model**\n",
        "\n",
        "Use mean squared error and the R2 score as the evaluation metrics."
      ],
      "metadata": {
        "id": "rDLJpe_f2FH_"
      }
    },
    {
      "cell_type": "code",
      "source": [],
      "metadata": {
        "id": "0GWgHE8q2MQG"
      },
      "execution_count": null,
      "outputs": []
    },
    {
      "cell_type": "markdown",
      "source": [
        "#### **Solution**"
      ],
      "metadata": {
        "id": "Fk4TGJgT2Mjk"
      }
    },
    {
      "cell_type": "code",
      "source": [
        "from sklearn.metrics import r2_score\n",
        "from sklearn.metrics import mean_squared_error\n",
        "print('mean squared: ', mean_squared_error(y_test, y_pred))\n",
        "print('R2 score: ', r2_score(y_test, y_pred))"
      ],
      "metadata": {
        "id": "S0JfKaIR2N5K",
        "colab": {
          "base_uri": "https://localhost:8080/"
        },
        "outputId": "fd42d3a5-8174-4c57-e97a-dbcaabed399d"
      },
      "execution_count": null,
      "outputs": [
        {
          "output_type": "stream",
          "name": "stdout",
          "text": [
            "mean squared:  58.07928583657771\n",
            "R2 score:  0.32941109624012743\n"
          ]
        }
      ]
    },
    {
      "cell_type": "markdown",
      "source": [
        "### **Step #8: Use the model**\n",
        "\n",
        "Using the model we created, predict the CO2 emissions of two cars:\n",
        "\n",
        "* **Car 1:** Volume is 800 cm^3 and weight is 1020 kg\n",
        "\n",
        "* **Car 2:**  Volume is 1000 cm^3 and weight is 860 kg\n",
        "\n",
        "**Note:** you must create a dataframe containing with the information of the new cars:\n",
        "\n",
        "```python\n",
        "new_car_data = pd.DataFrame(new_car_data_here, columns = [\"Volume\", \"Weight\"])\n",
        "```"
      ],
      "metadata": {
        "id": "5KmH9KfBoQwn"
      }
    },
    {
      "cell_type": "code",
      "source": [],
      "metadata": {
        "id": "oNu2nca469tx"
      },
      "execution_count": null,
      "outputs": []
    },
    {
      "cell_type": "markdown",
      "source": [
        "#####**Solution**"
      ],
      "metadata": {
        "id": "HQ2nGczs6-A9"
      }
    },
    {
      "cell_type": "code",
      "source": [
        "new_cars = pd.DataFrame([[800, 1020], [1000, 860]], columns =[\"Volume\", \"Weight\"])\n",
        "new_prediction = LR.predict(new_cars)\n",
        "print('prediction: ', new_prediction)\n",
        "# Car 1 emits 95.86 g/km of CO2\n",
        "# Car 2 emits 95.42 g/km of CO2"
      ],
      "metadata": {
        "colab": {
          "base_uri": "https://localhost:8080/"
        },
        "id": "IRKihMuUowre",
        "outputId": "c40b1cc7-d61a-4299-8e7e-5d26a3defb80"
      },
      "execution_count": null,
      "outputs": [
        {
          "output_type": "stream",
          "name": "stdout",
          "text": [
            "prediction:  [95.85521664 95.42481476]\n"
          ]
        }
      ]
    },
    {
      "cell_type": "markdown",
      "source": [
        "### **Reflection questions**\n",
        "Answer the following questions:\n",
        "\n",
        "1. Do you think volume and weight have a similar impact on the amount of CO2 a car emits? Why or why not?\n",
        "2. Based on the model's evaluation, do you think this model is good enough to use?"
      ],
      "metadata": {
        "id": "aZdf_Admp4ug"
      }
    },
    {
      "cell_type": "markdown",
      "source": [
        "#### **Solution**\n",
        "\n",
        "1. Yes, because both cars have very similar numbers but flipped, and the prediction of CO2 emission was almost identical.\n",
        "\n",
        "2. No because the R2 score is low."
      ],
      "metadata": {
        "id": "fmO1-xZM5W2k"
      }
    },
    {
      "cell_type": "markdown",
      "source": [
        "<a name=\"p5\"></a>\n",
        "\n",
        "---\n",
        "## **Part 5: [OPTIONAL] Bikes Dataset**\n",
        "---\n",
        "\n",
        "#### **About the Dataset**\n",
        "The Bike Sharing dataset contains information about hourly bike rental data spanning two years, provided by a bike-sharing system in Washington, D.C. The dataset includes factors such as weather, date, time, and user information.\n",
        "\n",
        "The features are as follows:\n",
        "* `instant`: A unique identifier for each record in the dataset.\n",
        "* `dteday`: The date of the bike rental in the format yyyy-mm-dd.\n",
        "* `season`: The season of the year (1: spring, 2: summer, 3: fall, 4: winter).\n",
        "* `yr`: The year (0: 2011, 1: 2012).\n",
        "* `mnth`: The month of the year (1 to 12).\n",
        "* `hr`: The hour of the day (0 to 23).\n",
        "* `holiday`: A binary indicator of whether it is a holiday or not (0: not a holiday, 1: holiday).\n",
        "* `weekday`: The day of the week (0: Sunday, 1: Monday, ..., 6: Saturday).\n",
        "* `workingday`: A binary indicator of whether it is a working day or not (0: weekend or holiday, 1: working day).\n",
        "* `weathersit`: The weather situation (1: clear, 2: misty/foggy, 3: light rain/snow, 4: heavy rain/snow).\n",
        "* `temp`: The temperature in Celsius.\n",
        "* `atemp`: The \"feels like\" temperature in Celsius.\n",
        "* `hum`: The humidity level.\n",
        "* `windspeed`: The wind speed.\n",
        "* `casual`: The count of casual bike rentals.\n",
        "* `registered`: The count of registered bike rentals.\n",
        "* `cnt`: The total count of bike rentals (casual + registered).\n",
        "\n",
        "#### **Your Task**\n",
        "Using the  dataset, you will do the following:\n",
        "* Build a model that can predict the total number of bike rentals;\n",
        "* Use a different subset of features to build another model to predict the total number of bike rentals and compare the results\n",
        "\n",
        "\n",
        "<br>\n",
        "\n",
        "**Run the code below before continuing.**"
      ],
      "metadata": {
        "id": "nAXXTiUVW_DM"
      }
    },
    {
      "cell_type": "code",
      "source": [
        "# Import required libraries\n",
        "import urllib.request\n",
        "import zipfile\n",
        "\n",
        "# Download the zip file and extract the CSV file(s)\n",
        "url = \"https://archive.ics.uci.edu/ml/machine-learning-databases/00275/Bike-Sharing-Dataset.zip\"\n",
        "filename = \"Bike-Sharing-Dataset.zip\"\n",
        "urllib.request.urlretrieve(url, filename)\n",
        "with zipfile.ZipFile(filename, \"r\") as zip_ref:\n",
        "    zip_ref.extractall()\n",
        "\n",
        "# Read the CSV file(s) into Pandas dataframes\n",
        "hour_df = pd.read_csv(\"hour.csv\")\n",
        "day_df = pd.read_csv(\"day.csv\")\n",
        "\n",
        "# Combine the two dataframes into a single dataframe\n",
        "bikes_df = pd.concat([hour_df, day_df], ignore_index=True)\n",
        "\n",
        "# Save the combined dataframe to a CSV file\n",
        "bikes_df.to_csv(\"bike_sharing_total.csv\", index=False)\n",
        "\n",
        "bikes_df.head()"
      ],
      "metadata": {
        "id": "s6o5HDLbW_De"
      },
      "execution_count": null,
      "outputs": []
    },
    {
      "cell_type": "markdown",
      "source": [
        "### **Problem #5.1**\n",
        "\n",
        "Create a linear regression model using all of the features except `instant`, `dteday`, `casual`, `registered`, `cnt`, and `hr` columns, and then evaluate it using mean squared error and R2 as the metrics."
      ],
      "metadata": {
        "id": "-YyuS71I_8Hu"
      }
    },
    {
      "cell_type": "code",
      "source": [
        "X = bikes_df.drop(columns=['instant', 'dteday', 'casual', 'registered', 'cnt', 'hr'], axis=1)"
      ],
      "metadata": {
        "id": "pA6woc2HoSSW"
      },
      "execution_count": null,
      "outputs": []
    },
    {
      "cell_type": "markdown",
      "source": [
        "#### **Solution**"
      ],
      "metadata": {
        "id": "5gHDGZYVW_Dg"
      }
    },
    {
      "cell_type": "code",
      "source": [
        "X = bikes_df.drop(columns=['instant', 'dteday', 'casual', 'registered','cnt', 'hr'], axis=1)\n",
        "# 3\n",
        "X_train, X_test, y_train, y_test = model_selection.train_test_split(X, bikes_df['cnt'], test_size=0.2, random_state=42)\n",
        "# 4\n",
        "from sklearn.linear_model import LinearRegression\n",
        "# 5\n",
        "LR = LinearRegression()\n",
        "# 6\n",
        "LR.fit(X_train, y_train)\n",
        "y_pred = LR.predict(X_test)\n",
        "# 7\n",
        "from sklearn.metrics import r2_score\n",
        "from sklearn.metrics import mean_squared_error\n",
        "print('mean squared: ', mean_squared_error(y_test, y_pred))\n",
        "print('R2 score: ', r2_score(y_test, y_pred))"
      ],
      "metadata": {
        "id": "Ik4F3ryFW_Dg",
        "colab": {
          "base_uri": "https://localhost:8080/"
        },
        "outputId": "4c8046e1-06ea-4650-92c2-649bce091a0e"
      },
      "execution_count": null,
      "outputs": [
        {
          "output_type": "stream",
          "name": "stdout",
          "text": [
            "mean squared:  919576.4303608645\n",
            "R2 score:  0.023196623673425232\n"
          ]
        }
      ]
    },
    {
      "cell_type": "markdown",
      "source": [
        "### **Problem #5.2**\n",
        "\n",
        "Create a linear regression model using all of the features except the `instant`, `dteday`, `casual`, `cnt`, and `hr` columns (this means we're including `registered`), and then evaluate it using mean squared error and R2 as the metrics."
      ],
      "metadata": {
        "id": "uVk9ipAiAPDD"
      }
    },
    {
      "cell_type": "code",
      "source": [
        "X = bikes_df.drop(columns=['instant', 'dteday', 'registered', 'cnt', 'hr'], axis=1)"
      ],
      "metadata": {
        "id": "VDeXMJDIBUgP"
      },
      "execution_count": null,
      "outputs": []
    },
    {
      "cell_type": "markdown",
      "source": [
        "#####**Solution**"
      ],
      "metadata": {
        "id": "XirwNoQOBUyo"
      }
    },
    {
      "cell_type": "code",
      "source": [
        "X = bikes_df.drop(columns=['instant', 'dteday', 'registered', 'cnt', 'hr'], axis=1)\n",
        "# 3\n",
        "X_train, X_test, y_train, y_test = model_selection.train_test_split(X, bikes_df['cnt'], test_size=0.2, random_state=42)\n",
        "# 4\n",
        "from sklearn.linear_model import LinearRegression\n",
        "# 5\n",
        "LR = LinearRegression()\n",
        "# 6\n",
        "LR.fit(X_train, y_train)\n",
        "y_pred = LR.predict(X_test)\n",
        "# 7\n",
        "from sklearn.metrics import r2_score\n",
        "from sklearn.metrics import mean_squared_error\n",
        "print('mean squared: ', mean_squared_error(y_test, y_pred))\n",
        "print('R2 score: ', r2_score(y_test, y_pred))"
      ],
      "metadata": {
        "colab": {
          "base_uri": "https://localhost:8080/"
        },
        "id": "FiXDhg75BWGw",
        "outputId": "4991d62c-1c35-48a4-94e6-ebad5af221ce"
      },
      "execution_count": null,
      "outputs": [
        {
          "output_type": "stream",
          "name": "stdout",
          "text": [
            "mean squared:  225113.26906384784\n",
            "R2 score:  0.7608775148889055\n"
          ]
        }
      ]
    },
    {
      "cell_type": "markdown",
      "source": [
        "### **Reflection question**\n",
        "\n",
        "What differences did you notice in the performance of the two models? What does this mean?"
      ],
      "metadata": {
        "id": "GVPL2dHCW_Dj"
      }
    },
    {
      "cell_type": "markdown",
      "source": [
        "#### **Solution**\n",
        "\n",
        "The model that used the \"registered\" feature performed with a much higher accuracy. This means that the \"registered\" feature is highly correlated with \"cnt\"."
      ],
      "metadata": {
        "id": "RHrmAUBO5rYs"
      }
    },
    {
      "cell_type": "markdown",
      "source": [
        "---\n",
        "#End of Notebook\n",
        "\n",
        "© 2023 The Coding School, All rights reserved"
      ],
      "metadata": {
        "id": "yt29TPJXhU9Q"
      }
    }
  ]
}